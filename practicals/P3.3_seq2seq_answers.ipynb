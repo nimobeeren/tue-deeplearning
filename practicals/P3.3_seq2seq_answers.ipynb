{
 "cells": [
  {
   "cell_type": "markdown",
   "metadata": {},
   "source": [
    "<a href=\"https://colab.research.google.com/github/vlamen/tue-deeplearning/blob/main/practicals/P3.3_seq2seq_answers.ipynb\" target=\"_parent\"><img src=\"https://colab.research.google.com/assets/colab-badge.svg\" alt=\"Open In Colab\"/></a>"
   ]
  },
  {
   "cell_type": "markdown",
   "metadata": {},
   "source": [
    "# P3.3 - Sequence to Sequence: Text Translation\n",
    "\n",
    "In this practical we will develop a model for translation of sentences from German to English using the sequence to sequence architecture. \n",
    "\n",
    "### Learning outcomes\n",
    "- Understand the basic concepts of a sequence to sequence (seq2seq) model\n",
    "- How to preprocess textual data.\n",
    "- How to train an seq2seq model for parametrisation of the joint probability distribution $P(y_0, ..., y_k | x_0, ..., x_n)$ over the words $Y$ in the target language, conditioned on the words $X$ of the source sentence.\n",
    "- How to develop a model for translation of sentences from $P(y_0, ..., y_k | x_0, ..., x_n)$.\n",
    "\n",
    "**References**\n",
    "* [1] *Ilya Sutskever, Oriol Vinyals, Quoc V. Le, \"Sequence to Sequence Learning with Neural Networks\"*, NIPS, 2014. https://arxiv.org/abs/1409.3215"
   ]
  },
  {
   "cell_type": "markdown",
   "metadata": {},
   "source": [
    "### Download data\n",
    "\n",
    "We train a translation model on the multi30K dataset. The dataset was specifically designed for machine translation and evaluation tasks and contains short translations from/to English to/from German.\n",
    "\n",
    "We will be downloading the dataset via the `torchnlp` library (command to install via pip is next to import). The dataset is then processed in a similar way as in P3.1_rnn_classification."
   ]
  },
  {
   "cell_type": "code",
   "execution_count": 2,
   "metadata": {},
   "outputs": [
    {
     "name": "stdout",
     "output_type": "stream",
     "text": [
      "Collecting pytorch-nlp\n",
      "  Using cached pytorch_nlp-0.5.0-py3-none-any.whl (90 kB)\n",
      "Requirement already satisfied: numpy in /data/storage8/jwillems/anaconda3/envs/torch/lib/python3.9/site-packages (from pytorch-nlp) (1.20.1)\n",
      "Collecting tqdm\n",
      "  Downloading tqdm-4.60.0-py2.py3-none-any.whl (75 kB)\n",
      "\u001b[K     |████████████████████████████████| 75 kB 2.4 MB/s  eta 0:00:01\n",
      "\u001b[?25hInstalling collected packages: tqdm, pytorch-nlp\n",
      "Successfully installed pytorch-nlp-0.5.0 tqdm-4.60.0\n"
     ]
    }
   ],
   "source": [
    "!pip install pytorch-nlp"
   ]
  },
  {
   "cell_type": "code",
   "execution_count": 3,
   "metadata": {},
   "outputs": [
    {
     "name": "stdout",
     "output_type": "stream",
     "text": [
      "Number of training sentences: 29000\n",
      "Number of test sentences: 1000\n",
      "\n",
      "\n",
      "DE: Ein Mann mit einem orangefarbenen Hut, der etwas anstarrt.\n",
      "EN: A man in an orange hat starring at something.\n",
      "\n",
      "DE: Ein Boston Terrier läuft über saftig-grünes Gras vor einem weißen Zaun.\n",
      "EN: A Boston Terrier is running on lush green grass in front of a white fence.\n",
      "\n",
      "DE: Ein Mädchen in einem Karateanzug bricht einen Stock mit einem Tritt.\n",
      "EN: A girl in karate uniform breaking a stick with a front kick.\n",
      "\n"
     ]
    }
   ],
   "source": [
    "from torchnlp.datasets import multi30k_dataset #pip install pytorch-nlp\n",
    "\n",
    "train_data, test_data = multi30k_dataset(train=True, test=True)\n",
    "\n",
    "\n",
    "print(f\"Number of training sentences: {len(train_data)}\")\n",
    "print(f\"Number of test sentences: {len(test_data)}\\n\\n\")\n",
    "\n",
    "\n",
    "test_iterator = iter(test_data)\n",
    "for _ in range(3):\n",
    "    batch = next(test_iterator)\n",
    "    print(\"DE: \" + batch['de'])\n",
    "    print(\"EN: \" + batch['en'] + '\\n')\n"
   ]
  },
  {
   "cell_type": "markdown",
   "metadata": {},
   "source": [
    "# Preprocessing textual input data\n",
    "\n",
    "### Create vocabulary\n",
    "As we have seen in practical P1.2 and P3.2, word embeddings are useful for encoding words into vectors of real numbers. The first step is to build a custom vocabulary from the raw training dataset. To this end, we tokenize each sentence and thereafter count the number of occurances of each token (=word or punctuation mark) in each of the articles using `counter`. Finally, we create the vocabulary by using the frequencies of each token in the counter. \n",
    "\n",
    "Note that each datapoint consists of a German and English sentence, thus we create seperate tokenizers and vocabulary for both languages. Futhermore, we add special tokens to both vocabulary: $<unk>$ for unknown tokens, $<pad>$ for padding, $<start>$ and $<end>$ as the first and last tokens of each sentence, respectively."
   ]
  },
  {
   "cell_type": "code",
   "execution_count": 10,
   "metadata": {},
   "outputs": [],
   "source": [
    "# !python -m spacy download de\n",
    "# !python -m spacy download en"
   ]
  },
  {
   "cell_type": "code",
   "execution_count": 11,
   "metadata": {},
   "outputs": [
    {
     "name": "stderr",
     "output_type": "stream",
     "text": [
      "/data/storage8/jwillems/anaconda3/envs/torch/lib/python3.9/site-packages/torchtext/data/utils.py:123: UserWarning: Spacy model \"de\" could not be loaded, trying \"de_core_news_sm\" instead\n",
      "  warnings.warn(f'Spacy model \"{language}\" could not be loaded, trying \"{OLD_MODEL_SHORTCUTS[language]}\" instead')\n",
      "/data/storage8/jwillems/anaconda3/envs/torch/lib/python3.9/site-packages/torchtext/data/utils.py:123: UserWarning: Spacy model \"en\" could not be loaded, trying \"en_core_web_sm\" instead\n",
      "  warnings.warn(f'Spacy model \"{language}\" could not be loaded, trying \"{OLD_MODEL_SHORTCUTS[language]}\" instead')\n"
     ]
    },
    {
     "data": {
      "application/vnd.jupyter.widget-view+json": {
       "model_id": "715e4a9720a04acbb3ac950d5ad4645e",
       "version_major": 2,
       "version_minor": 0
      },
      "text/plain": [
       "  0%|          | 0/29000 [00:00<?, ?it/s]"
      ]
     },
     "metadata": {},
     "output_type": "display_data"
    },
    {
     "name": "stdout",
     "output_type": "stream",
     "text": [
      "Unique tokens in source (de) vocabulary: 8014\n",
      "Unique tokens in target (en) vocabulary: 6191\n"
     ]
    }
   ],
   "source": [
    "import torch\n",
    "from collections import Counter\n",
    "from torchtext.data.utils import get_tokenizer\n",
    "from torchtext.vocab import Vocab\n",
    "import spacy\n",
    "from tqdm.notebook import tqdm\n",
    "\n",
    "de_counter, en_counter = Counter(), Counter()\n",
    "\n",
    "de_tokenizer = de_tokenizer = get_tokenizer('spacy', language='de')\n",
    "en_tokenizer = en_tokenizer = get_tokenizer('spacy', language='en')\n",
    "\n",
    "for batch in tqdm(train_data):\n",
    "    \n",
    "    en, de = batch.values()\n",
    "    \n",
    "    de_counter.update(de_tokenizer(de))\n",
    "    en_counter.update(en_tokenizer(en))\n",
    "    \n",
    "    \n",
    "de_vocab = Vocab(de_counter, min_freq=2, specials=['<unk>', '<start>', '<stop>', '<pad>'])\n",
    "en_vocab = Vocab(en_counter, min_freq=2, specials=['<unk>', '<start>', '<stop>', '<pad>'])\n",
    "\n",
    "print(f\"Unique tokens in source (de) vocabulary: {len(de_vocab)}\")\n",
    "print(f\"Unique tokens in target (en) vocabulary: {len(en_vocab)}\")"
   ]
  },
  {
   "cell_type": "markdown",
   "metadata": {},
   "source": [
    "### Create pipelines \n",
    "\n",
    "In the paper we are implementing, they find it beneficial to reverse the order of the input which they believe \"introduces many short term dependencies in the data that make the optimization problem much easier\". We adopt this approach and reverse the German sentence after it has been transformed into a list of tokens.\n",
    "\n",
    "**Exercise**\n",
    "\n",
    "Complete the pipeline functions that preprocess German and English sentences respectively. The German sentences should be reversed first. Then, for both German and English sentences your code should add start and stop tokens to each sentence at appropriate positions. "
   ]
  },
  {
   "cell_type": "code",
   "execution_count": 12,
   "metadata": {},
   "outputs": [],
   "source": [
    "def de_pipeline(text):\n",
    "    \"\"\"\n",
    "    Reverses German sentence and tokizes from a string into a list of strings (tokens). Then converts each token\n",
    "    to corresponding indices. Furthermore, it adds a start token at the appropriate position.\n",
    "    \"\"\"\n",
    "    ### Your code here ###\n",
    "    \n",
    "    word_idcs = [de_vocab['<start>']]\n",
    "    \n",
    "    [word_idcs.append(de_vocab.stoi[token]) for token in de_tokenizer(text)[::-1]];\n",
    "    word_idcs.append(de_vocab['<stop>'])\n",
    "    \n",
    "    return word_idcs\n",
    "\n",
    "def en_pipeline(text):\n",
    "    \"\"\"\n",
    "    Tokenizes English sentence from a string into a list of strings (tokens), then converts each token\n",
    "    to corresponding indices. Furthermore, it adds a start token at the appropriate position\n",
    "    \"\"\"\n",
    "    ### Your code here ###\n",
    "    \n",
    "    word_idcs = [en_vocab['<start>']]\n",
    "    [word_idcs.append(en_vocab.stoi[token]) for token in en_tokenizer(text)]\n",
    "    word_idcs.append(de_vocab['<stop>'])\n",
    "    \n",
    "    return word_idcs\n",
    "\n"
   ]
  },
  {
   "cell_type": "markdown",
   "metadata": {},
   "source": [
    "The pipelines allow us to convert a string sentence into integers:\n",
    "\n",
    "    en_pipeline('Here is an example!')\n",
    "    >>> [1, 1034, 10, 28, 0, 1208, 2]"
   ]
  },
  {
   "cell_type": "markdown",
   "metadata": {},
   "source": [
    "### Create DataLoaders\n",
    "\n",
    "**Exercise**\n",
    "\n",
    "Use the pipelines from the previous exercise to create a `collate_batch` method produces batches of source and target sentences. As you may have foreseen, the `collate_batch` will be used in the `DataLoader` which enables iterating over the dataset in batches. In each iteration, a batch of source sentences (German) and target sentences (English) should be returned. Encode the tokens of the sentences as indices by using the vocabulary. Finally, your code should pad all sequences to be able to create two tensors: one containing the input sentences, and another one for the target sentences. Pad the sequences with the appropriate special token."
   ]
  },
  {
   "cell_type": "code",
   "execution_count": 13,
   "metadata": {},
   "outputs": [],
   "source": [
    "from torch.utils.data import DataLoader\n",
    "from torch.nn.utils.rnn import pad_sequence\n",
    "\n",
    "# check if gpu is available\n",
    "device = torch.device(\"cuda\" if torch.cuda.is_available() else \"cpu\")\n",
    "\n",
    "def collate_batch(batch):\n",
    "    \"\"\"\n",
    "    Concatenate multiple datapoints to obtain a single batch of data\n",
    "    \"\"\"\n",
    "    ### Your code here ###\n",
    "    de_list, en_list = [], []\n",
    "    \n",
    "    # iterate over each sentence language pair in the batch\n",
    "    for item in batch:\n",
    "        \n",
    "        _en_sentence, _de_sentence = item.values()\n",
    "              \n",
    "        # process label using the label_pipeline and \n",
    "        # append this processed label to a list\n",
    "        de_list.append(torch.tensor(de_pipeline(_de_sentence), dtype=torch.int64))\n",
    "        \n",
    "        # process the input text using the text_pipeline\n",
    "        # and append this processed text to a list\n",
    "        en_list.append(torch.tensor(en_pipeline(_en_sentence), dtype=torch.int64))\n",
    "        \n",
    "    # pad sequences\n",
    "    de_padded = pad_sequence(sequences = de_list, \n",
    "                             batch_first = True, \n",
    "                             padding_value = de_vocab['<pad>'])\n",
    "    # pad sequences\n",
    "    en_padded = pad_sequence(sequences = en_list, \n",
    "                             batch_first = True, \n",
    "                             padding_value = en_vocab['<pad>'])\n",
    "    \n",
    "    # return source (DE) and target sequences (EN) after transferring them to GPU (if available)\n",
    "    return de_padded.to(device).T, en_padded.to(device).T\n",
    "\n"
   ]
  },
  {
   "cell_type": "markdown",
   "metadata": {},
   "source": [
    "# Building the Seq2Seq translation model\n",
    "\n",
    "In the implementation we define three objects: the encoder, the decoder and a full translation model that encapsulates the encoder and decoder. The given code also proposes the main hyperparameters that your implementation should use. Feel free to change the values of these parameters!\n",
    "\n",
    "The referenced paper uses a 4-layer LSTM, but in the interest of training time we can reduce this to 2-layers. The concept of multi-layer RNNs is easy to expand from 2 to 4 layers."
   ]
  },
  {
   "cell_type": "markdown",
   "metadata": {},
   "source": [
    "## Encoder\n",
    "\n",
    "The encoder takes as input a (batch) German sentence. We already converted all sentences into a zero-padded 2D matrix (shape batch_size, max_seq_len)) containing the tokens that make up the sequences. \n",
    "\n",
    "**Exercise**:\n",
    "Complete the Encoder's class. In the `__init__(self)` you should declare the approriate layers. The encoder has to return a compact representation of the input sequence.\n",
    "\n",
    "**Solution:**\n",
    "\n",
    "As we have seen multiple times already, we convert each token into a vector with a word embedding layer. The embedding is then passed into the LSTM. PyTorch's LSTM initiates a hidden state of zeros (by default) and automatically updates the hidden state after seeing the word embedding of each token in the sequence. If trained properly, the rnn state of the last timestep (i.e. when all words in a sentence) contains all information that is required to translate into a different language. The rnn state of the final layer is therefore a dense representation of the input sentence that is generated by taking into account the long and short.  \n",
    "\n"
   ]
  },
  {
   "cell_type": "code",
   "execution_count": 14,
   "metadata": {},
   "outputs": [],
   "source": [
    "import torch.nn as nn\n",
    "\n",
    "class Encoder(nn.Module):\n",
    "    def __init__(self, source_vocab, emb_dim, hid_dim, n_layers, dropout):\n",
    "        super().__init__()\n",
    "        \n",
    "        \n",
    "        self.source_vocab = source_vocab\n",
    "        self.hid_dim = hid_dim\n",
    "        self.n_layers = n_layers\n",
    "        \n",
    "        self.embedding = nn.Embedding(len(source_vocab), emb_dim)\n",
    "        \n",
    "        self.rnn = nn.LSTM(emb_dim, hid_dim, n_layers, dropout = dropout)\n",
    "        \n",
    "        self.dropout = nn.Dropout(dropout)\n",
    "        \n",
    "    def forward(self, src):\n",
    "        \"\"\"\n",
    "        Forward pass of encoder model. It aims at\n",
    "        transforming the input sentence to a dense vector \n",
    "        \n",
    "        Input:\n",
    "        src shape:  [max_seq_len_in_batch, batch_size]\n",
    "\n",
    "        Output:\n",
    "        hidden and cell dense vectors (hidden and cell)\n",
    "        which contains all sentence information, shape [n layers, batch size, hid dim]\n",
    "        \"\"\"\n",
    "        \n",
    "        #src = [src len, batch size]\n",
    "        \n",
    "        embedded = self.dropout(self.embedding(src))\n",
    "        \n",
    "        #embedded = [src len, batch size, emb dim]\n",
    "        \n",
    "        outputs, (hidden, cell) = self.rnn(embedded)\n",
    "        \n",
    "        #outputs = [src len, batch size, hid dim * n directions]    \n",
    "        return hidden, cell"
   ]
  },
  {
   "cell_type": "markdown",
   "metadata": {},
   "source": [
    "### Decoder"
   ]
  },
  {
   "cell_type": "markdown",
   "metadata": {},
   "source": [
    "**Exercise**\n",
    "\n",
    "The next step is to implement the decoder. The Decoder class aims at performing a single step of decoding, i.e. it ouputs a single token per time-step. In the first decoding step ($t=1$), the decoder takes as input the dense representation first token $y_2 = f$(<<l>start>). With these inputs, it should update the cell and hidden state and thereafter predict the first real word $s_2$ (no start token) of the target sentence. In all later decoder steps, the first layer will receive a hidden and cell state from the previous time-step, $(h_{t-1}, c_{t-1})$, and feed it through the LSTM with the current embedded token, $y_t$ (i.e the embedding that of the token predicted at the end of the previous step), to produce a new hidden and cell state, $(h_t, c_t)$. \n",
    "\n",
    "You should then pass the hidden state of the RNN, $h_t$, through a linear layer, $g$, to make a prediction of what the next token in the target (output) sequence should be, i.e. $\\hat{y}_{t+1} = g(h_t)$. An example is provided in the diagram below.\n",
    "\n",
    "![alt text](lstm_decoder.png \"diagram\")"
   ]
  },
  {
   "cell_type": "markdown",
   "metadata": {},
   "source": [
    "    \n",
    "**Solution**\n",
    "    \n",
    "The arguments and initialization are similar to the Encoder class, except we now have an output_dim which is the size of the vocabulary for the output/target. There is also the addition of the Linear layer, used to make the predictions from the top layer hidden state.\n",
    "Within the forward method, we accept a batch of input tokens, previous hidden states and previous cell states. As we are only decoding one token at a time, the input tokens will always have a sequence length of 1. We unsqueeze the input tokens to add a sentence length dimension of 1. Then, similar to the encoder, we pass through an embedding layer and apply dropout. This batch of embedded tokens is then passed into the RNN with the previous hidden and cell states. This produces an output (hidden state from the top layer of the RNN), a new hidden state (one for each layer, stacked on top of each other) and a new cell state (also one per layer, stacked on top of each other). We then pass the output (after getting rid of the sentence length dimension) through the linear layer to receive our prediction. We then return the prediction, the new hidden state and the new cell state.\n",
    "\n",
    "**Note**: as we always have a sequence length of 1, we could use nn.LSTMCell, instead of nn.LSTM, as it is designed to handle a batch of inputs that aren't necessarily in a sequence. nn.LSTMCell is just a single cell and nn.LSTM is a wrapper around potentially multiple cells. Using the nn.LSTMCell in this case would mean we don't have to unsqueeze to add a fake sequence length dimension, but we would need one nn.LSTMCell per layer in the decoder and to ensure each nn.LSTMCell receives the correct initial hidden state from the encoder. All of this makes the code less concise - hence the decision to stick with the regular nn.LSTM."
   ]
  },
  {
   "cell_type": "code",
   "execution_count": 15,
   "metadata": {},
   "outputs": [],
   "source": [
    "class Decoder(nn.Module):\n",
    "    def __init__(self, target_vocab, emb_dim, hid_dim, n_layers, dropout):\n",
    "        super().__init__()\n",
    "        \n",
    "        self.target_vocab = target_vocab\n",
    "        self.hid_dim = hid_dim\n",
    "        self.n_layers = n_layers\n",
    "        \n",
    "        self.embedding = nn.Embedding(len(target_vocab), emb_dim)\n",
    "        \n",
    "        self.rnn = nn.LSTM(emb_dim, hid_dim, n_layers, dropout = dropout)\n",
    "        \n",
    "        self.fc_out = nn.Linear(hid_dim, len(target_vocab))\n",
    "        \n",
    "        self.dropout = nn.Dropout(dropout)\n",
    "        \n",
    "    def forward(self, input, hidden, cell):\n",
    "        \"\"\"\n",
    "        Forward pass of the decoder model. It aims at transforming\n",
    "        the dense representation of the encoder into a sentence in\n",
    "        the target language\n",
    "        \n",
    "        Input:\n",
    "        hidden shape: [n layers, max_seq_len, hid dim]\n",
    "        cell shape: [n layers, batch size, hid dim]\n",
    "        input shape: [batch size]\n",
    "        \n",
    "        Output:\n",
    "        prediction shape: [batch size, num_words_target_vocabulary]\n",
    "        hidden shape: [n layers, batch size, hid dim]\n",
    "        cell shape: [n layers, batch size, hid dim]\n",
    "        \"\"\"\n",
    "        \n",
    "        input = input.unsqueeze(0)\n",
    "        \n",
    "        #input = [1, batch size]\n",
    "        \n",
    "        embedded = self.dropout(self.embedding(input))\n",
    "        \n",
    "        #embedded = [1, batch size, emb dim]\n",
    "                \n",
    "        output, (hidden, cell) = self.rnn(embedded, (hidden, cell))\n",
    "        \n",
    "        #output = [seq len, batch size, hid dim * n directions]\n",
    "        \n",
    "        prediction = self.fc_out(output.squeeze(0))\n",
    "        \n",
    "        #prediction = [batch size, output dim]\n",
    "        \n",
    "        return prediction, hidden, cell"
   ]
  },
  {
   "cell_type": "markdown",
   "metadata": {},
   "source": [
    "## The seq2seq model"
   ]
  },
  {
   "cell_type": "markdown",
   "metadata": {},
   "source": [
    "**Exercise**\n",
    "\n",
    "The Seq2Seq model takes in an Encoder, Decoder, and a device (used to place tensors on the GPU, if it exists).\n",
    "For this implementation, we you have to ensure that the number of layers and the hidden (and cell) dimensions are equal in the Encoder and Decoder. \n",
    "\n",
    "Start with declaring the optimizer and loss function of the model. The loss function should not penalize if the ground truth token is the <<l>pad> token. Use the `ignore_index` input argument of the loss function to realize this behavior.\n",
    "\n",
    "\n",
    "The forward method takes the source sentence, target sentence and a teacher-forcing ratio. The teacher forcing ratio is used when training our model. When decoding, at each time-step the decoder will predict what the next token in the target sequence will be from the previous tokens decoded, $\\hat{y}_{t+1}=f(s_t)$. With probability equal to the teaching forcing ratio (`teacher_forcing_ratio`) we will use the actual ground-truth next token in the sequence as the input to the decoder during the next time-step. However, with probability 1 - `teacher_forcing_ratio`, your model should use the token that the LSTM predicted at the end of the previous step, even if it doesn't match the actual next token in the sequence. The `random.random()` will be useful here, the module has already been imported.\n",
    "\n",
    "    "
   ]
  },
  {
   "cell_type": "markdown",
   "metadata": {},
   "source": [
    "**Solution**    \n",
    "The first thing we do in the forward method is to create an outputs tensor that will store all of our predictions, $\\hat{Y}$.\n",
    "\n",
    "We then feed the input/source sentence, src, into the encoder and receive out final hidden and cell states.\n",
    "The first input to the decoder is the start of sequence ($<start>$) token. As our `trg` tensor already has the $<start>$ token appended (see pipelimes) we get our $y_1$ by slicing into it. We know how long our target sentences should be (max_len), so we loop that many times. The last token input into the decoder is the one before the <<l>stop> token - the $<stop>$ token is never input into the decoder.\n",
    "During each iteration of the loop, we:\n",
    "    \n",
    "- pass the input, previous hidden and previous cell states ($y_t, s_{t-1}, c_{t-1}$) into the decoder\n",
    "     \n",
    "- receive a prediction, next hidden state and next cell state ($\\hat{y}_{t+1}, s_{t}, c_{t}$) from the decoder\n",
    "     \n",
    "- place our prediction, $\\hat{y}_{t+1}$ output in our tensor of predictions `outputs`\n",
    "     \n",
    "- decide if we are going to \"teacher force\" or not\n",
    "- if we do, the next input is the ground-truth next token in the sequence, `trg[t]`\n",
    "- if we don't, the next input is the predicted next token in the sequence, `top1`, which we get by performing an argmax over the output tensor\n",
    "    \n",
    "    \n",
    "Once we've made all of our predictions, we return our tensor full of predictions `outputs`\n",
    "    \n",
    "    \n",
    "Note: our decoder loop starts at 1, not 0. This means the 0th element of our outputs tensor remains all zeros. So our trg and outputs look something like:\n",
    "$$\\begin{align*}\n",
    "\\text{trg} = [<start>&, y_1, y_2, y_3, <stop>]\\\\\n",
    "\\text{outputs} = [0&, y_1, y_2, y_3, <stop>]\n",
    "\\end{align*}$$\n",
    "Later on when we calculate the loss, we cut off the first element of each tensor to get:\n",
    "$$\\begin{align*}\n",
    "\\text{trg} = [y_1, y_2, y_3, <stop>]\\\\\n",
    "\\text{outputs} = [y_1, y_2, y_3, <stop>]\n",
    "\\end{align*}$$"
   ]
  },
  {
   "cell_type": "code",
   "execution_count": 16,
   "metadata": {},
   "outputs": [],
   "source": [
    "import torch.optim as optim\n",
    "import random\n",
    "\n",
    "class Seq2Seq(nn.Module):\n",
    "    def __init__(self, encoder, decoder, device):\n",
    "        super().__init__()\n",
    "        \n",
    "        self.encoder = encoder\n",
    "        self.decoder = decoder\n",
    "        self.device = device\n",
    "        \n",
    "        ### Your code here ###\n",
    "        \n",
    "        self.optimizer = optim.Adam(self.parameters())\n",
    "        \n",
    "        TRG_PAD_IDX = en_vocab.stoi['<pad>']\n",
    "        self.criterion = nn.CrossEntropyLoss(ignore_index = TRG_PAD_IDX)\n",
    "        \n",
    "    def forward(self, src, trg, teacher_forcing_ratio = 0.5):\n",
    "        \"\"\"\n",
    "        Forward pass of the seq2seq model. It encodes the source sentence into\n",
    "        a dense representation and thereafter transduces into the target\n",
    "        sentence.\n",
    "        \n",
    "        Inputs:\n",
    "        src: padded index representation of source sentences with shape [src len, batch size]\n",
    "        trg:  padded index representation of target sentences with shape [trg len, batch size]\n",
    "        teacher_forcing_ratio: probability to use teacher forcing, e.g. 0.5 we use ground-truth target sentence 50% of the time\n",
    "        \n",
    "        Outputs:\n",
    "        outputs: padded index representation of the predicted sentences with shape [trg_len, batch_size, trg_vocab_size]\n",
    "        \"\"\"\n",
    "        \n",
    "        #src = [src len, batch size]\n",
    "        #trg = [trg len, batch size]\n",
    "        #teacher_forcing_ratio is probability to use teacher forcing\n",
    "        #e.g. if teacher_forcing_ratio is 0.75 we use ground-truth inputs 75% of the time\n",
    "        \n",
    "        batch_size = trg.shape[1]\n",
    "        trg_len = trg.shape[0]\n",
    "        trg_vocab_size = len(self.decoder.target_vocab)\n",
    "        \n",
    "        #tensor to store decoder outputs\n",
    "        outputs = torch.zeros(trg_len, batch_size, trg_vocab_size).to(self.device)\n",
    "        \n",
    "        #last hidden state of the encoder is used as the initial hidden state of the decoder\n",
    "        hidden, cell = self.encoder(src)\n",
    "        \n",
    "        #first input to the decoder is the <sos> tokens\n",
    "        input = trg[0]\n",
    "        \n",
    "        for t in range(1, trg_len):\n",
    "            \n",
    "            #insert input token embedding, previous hidden and previous cell states\n",
    "            #receive output tensor (predictions) and new hidden and cell states\n",
    "            output, hidden, cell = self.decoder(input, hidden, cell)\n",
    "            \n",
    "            #place predictions in a tensor holding predictions for each token\n",
    "            outputs[t] = output\n",
    "            \n",
    "            #decide if we are going to use teacher forcing or not\n",
    "            teacher_force = random.random() < teacher_forcing_ratio\n",
    "            \n",
    "            #get the highest predicted token from our predictions\n",
    "            top1 = output.argmax(1) \n",
    "            \n",
    "            #if teacher forcing, use actual next token as next input\n",
    "            #if not, use predicted token\n",
    "            input = trg[t] if teacher_force else top1\n",
    "        \n",
    "        return outputs"
   ]
  },
  {
   "cell_type": "markdown",
   "metadata": {},
   "source": [
    "## Training"
   ]
  },
  {
   "cell_type": "markdown",
   "metadata": {},
   "source": [
    "**Exercise** \n",
    "\n",
    "Write functions for training and evaluating your model. You should iterate over the dataset and update the weights of the networks with the computed loss value. Print the value of training and validation loss at the end of each epoch. \n",
    "\n",
    "Next, you will need to call your `seq2seq` model and train it using the functions that you implemented. Finally, make a plot of the training and validation accuracy.\n",
    "\n",
    "As the model needs extensive training, it could be useful to save the best model to your (local) drive. In this way, you can do the next exercise at another time. Use the following code inside your training loop:\n",
    "    \n",
    "    if val_loss < best_valid_loss:\n",
    "        best_val_loss = val_loss\n",
    "        torch.save(seq2seq.state_dict(), 'p3.3-model.pt')\n",
    "        \n",
    "Don't forget to declare `best_valid_loss` at the top of the cell, e.g. with \n",
    "\n",
    "    best_valid_loss = float('inf')\n",
    "    \n",
    "Finally, the GPU memory will gradually increase which eventually triggers a memory error. Make sure to clear the GPU memory before running the forward pass using the `torch.cuda.empty_cache()` command."
   ]
  },
  {
   "cell_type": "markdown",
   "metadata": {},
   "source": [
    "**Solution**\n",
    "\n",
    "The training and evaluation functions of P3.1 and P3.2 can be used with some  modifications: via tensor slicing we neglect the first token of each sequence in the calculations of the loss and accuracy. Furthermore, we removed the accuracy metrics.\n",
    "\n",
    "\n"
   ]
  },
  {
   "cell_type": "code",
   "execution_count": 17,
   "metadata": {},
   "outputs": [],
   "source": [
    "BATCH_SIZE = 128\n",
    "EPOCHS = 5\n",
    "DROPOUT = 0.5\n",
    "N_LAYERS = 2 #paper uses 4\n",
    "\n",
    "EMB_DIM = 256  #dimension of the word embedding\n",
    "HIDDEN_DIM = 512 #dimension of the lstm's hidden state"
   ]
  },
  {
   "cell_type": "code",
   "execution_count": 18,
   "metadata": {},
   "outputs": [],
   "source": [
    "from tqdm.notebook import tqdm\n",
    "\n",
    "def train(dataset, clip):\n",
    "    \n",
    "    seq2seq.train()\n",
    "    \n",
    "    epoch_loss = 0\n",
    "    \n",
    "    dataloader = DataLoader(dataset, batch_size=BATCH_SIZE, collate_fn=collate_batch)\n",
    "    \n",
    "    for i, (src, trg) in enumerate(tqdm(dataloader)):\n",
    "        \n",
    "        seq2seq.optimizer.zero_grad()\n",
    "        \n",
    "        output = seq2seq(src, trg)\n",
    "        \n",
    "        #trg = [trg len, batch size]\n",
    "        #output = [trg len, batch size, output dim]\n",
    "        \n",
    "        output_dim = output.shape[-1]\n",
    "        \n",
    "        output = output[1:].reshape(-1, output_dim)\n",
    "        trg = trg[1:].reshape(-1)\n",
    "        \n",
    "        #trg = [(trg len - 1) * batch size]\n",
    "        #output = [(trg len - 1) * batch size, output dim]\n",
    "        \n",
    "        loss = seq2seq.criterion(output, trg)\n",
    "        \n",
    "        loss.backward()\n",
    "        \n",
    "        torch.nn.utils.clip_grad_norm_(seq2seq.parameters(), clip)\n",
    "        \n",
    "        seq2seq.optimizer.step()\n",
    "        \n",
    "        epoch_loss += loss.item()\n",
    "        \n",
    "        torch.cuda.empty_cache()\n",
    "        \n",
    "    return epoch_loss / len(dataloader)\n",
    "\n",
    "\n",
    "def evaluate(dataset):\n",
    "    \n",
    "    seq2seq.eval()\n",
    "    \n",
    "    epoch_loss = 0\n",
    "    \n",
    "    dataloader = DataLoader(dataset, batch_size=BATCH_SIZE, collate_fn=collate_batch)\n",
    "    \n",
    "    with torch.no_grad():\n",
    "    \n",
    "        for i, (src, trg) in enumerate(dataloader):\n",
    "\n",
    "            output = seq2seq(src, trg, 0) #turn off teacher forcing\n",
    "\n",
    "            #trg = [trg len, batch size]\n",
    "            #output = [trg len, batch size, output dim]\n",
    "\n",
    "            output_dim = output.shape[-1]\n",
    "            \n",
    "            output = output[1:].reshape(-1, output_dim)\n",
    "            trg = trg[1:].reshape(-1)\n",
    "\n",
    "            #trg = [(trg len - 1) * batch size]\n",
    "            #output = [(trg len - 1) * batch size, output dim]\n",
    "\n",
    "            loss = seq2seq.criterion(output, trg)\n",
    "            \n",
    "            epoch_loss += loss.item()\n",
    "            \n",
    "            torch.cuda.empty_cache()\n",
    "        \n",
    "    return epoch_loss / len(dataloader)"
   ]
  },
  {
   "cell_type": "code",
   "execution_count": 19,
   "metadata": {},
   "outputs": [
    {
     "data": {
      "text/plain": [
       "Seq2Seq(\n",
       "  (encoder): Encoder(\n",
       "    (embedding): Embedding(8014, 256)\n",
       "    (rnn): LSTM(256, 512, num_layers=2, dropout=0.5)\n",
       "    (dropout): Dropout(p=0.5, inplace=False)\n",
       "  )\n",
       "  (decoder): Decoder(\n",
       "    (embedding): Embedding(6191, 256)\n",
       "    (rnn): LSTM(256, 512, num_layers=2, dropout=0.5)\n",
       "    (fc_out): Linear(in_features=512, out_features=6191, bias=True)\n",
       "    (dropout): Dropout(p=0.5, inplace=False)\n",
       "  )\n",
       "  (criterion): CrossEntropyLoss()\n",
       ")"
      ]
     },
     "execution_count": 19,
     "metadata": {},
     "output_type": "execute_result"
    }
   ],
   "source": [
    "# initiate seq2seq translation model\n",
    "enc = Encoder(de_vocab, EMB_DIM, HIDDEN_DIM, N_LAYERS, DROPOUT)\n",
    "dec = Decoder(en_vocab, EMB_DIM, HIDDEN_DIM, N_LAYERS, DROPOUT)\n",
    "\n",
    "seq2seq = Seq2Seq(enc, dec, device).to(device)\n",
    "\n",
    "def init_weights(m):\n",
    "    for name, param in m.named_parameters():\n",
    "        nn.init.uniform_(param.data, -0.08, 0.08)\n",
    "        \n",
    "seq2seq.apply(init_weights)"
   ]
  },
  {
   "cell_type": "code",
   "execution_count": 20,
   "metadata": {},
   "outputs": [
    {
     "data": {
      "application/vnd.jupyter.widget-view+json": {
       "model_id": "ee9833578d6f41a98e84d5b366efc61f",
       "version_major": 2,
       "version_minor": 0
      },
      "text/plain": [
       "  0%|          | 0/227 [00:00<?, ?it/s]"
      ]
     },
     "metadata": {},
     "output_type": "display_data"
    },
    {
     "name": "stdout",
     "output_type": "stream",
     "text": [
      "----------------------------------------------------------------------------\n",
      "| end of epoch   0 | time: 39.02s | train loss    5.062 valid loss    5.026 \n",
      "----------------------------------------------------------------------------\n"
     ]
    },
    {
     "data": {
      "application/vnd.jupyter.widget-view+json": {
       "model_id": "9ea85728a8ea4adda08c2ba4fc5d3be6",
       "version_major": 2,
       "version_minor": 0
      },
      "text/plain": [
       "  0%|          | 0/227 [00:00<?, ?it/s]"
      ]
     },
     "metadata": {},
     "output_type": "display_data"
    },
    {
     "name": "stdout",
     "output_type": "stream",
     "text": [
      "----------------------------------------------------------------------------\n",
      "| end of epoch   1 | time: 36.66s | train loss    4.518 valid loss    4.909 \n",
      "----------------------------------------------------------------------------\n"
     ]
    },
    {
     "data": {
      "application/vnd.jupyter.widget-view+json": {
       "model_id": "cec19d45671e4245aa82b79de34a456d",
       "version_major": 2,
       "version_minor": 0
      },
      "text/plain": [
       "  0%|          | 0/227 [00:00<?, ?it/s]"
      ]
     },
     "metadata": {},
     "output_type": "display_data"
    },
    {
     "name": "stdout",
     "output_type": "stream",
     "text": [
      "----------------------------------------------------------------------------\n",
      "| end of epoch   2 | time: 36.71s | train loss    4.223 valid loss    4.627 \n",
      "----------------------------------------------------------------------------\n"
     ]
    },
    {
     "data": {
      "application/vnd.jupyter.widget-view+json": {
       "model_id": "e6f8687c9618457a9766e12699fb0796",
       "version_major": 2,
       "version_minor": 0
      },
      "text/plain": [
       "  0%|          | 0/227 [00:00<?, ?it/s]"
      ]
     },
     "metadata": {},
     "output_type": "display_data"
    },
    {
     "name": "stdout",
     "output_type": "stream",
     "text": [
      "----------------------------------------------------------------------------\n",
      "| end of epoch   3 | time: 38.51s | train loss    3.983 valid loss    4.561 \n",
      "----------------------------------------------------------------------------\n"
     ]
    },
    {
     "data": {
      "application/vnd.jupyter.widget-view+json": {
       "model_id": "b66c34c7b47744aaaa5dc5ec1b5ebff4",
       "version_major": 2,
       "version_minor": 0
      },
      "text/plain": [
       "  0%|          | 0/227 [00:00<?, ?it/s]"
      ]
     },
     "metadata": {},
     "output_type": "display_data"
    },
    {
     "name": "stdout",
     "output_type": "stream",
     "text": [
      "----------------------------------------------------------------------------\n",
      "| end of epoch   4 | time: 37.81s | train loss    3.826 valid loss    4.368 \n",
      "----------------------------------------------------------------------------\n"
     ]
    },
    {
     "data": {
      "application/vnd.jupyter.widget-view+json": {
       "model_id": "8bd9358f16a74545b24fccb59a416d4a",
       "version_major": 2,
       "version_minor": 0
      },
      "text/plain": [
       "  0%|          | 0/227 [00:00<?, ?it/s]"
      ]
     },
     "metadata": {},
     "output_type": "display_data"
    },
    {
     "name": "stdout",
     "output_type": "stream",
     "text": [
      "----------------------------------------------------------------------------\n",
      "| end of epoch   5 | time: 36.63s | train loss    3.685 valid loss    4.293 \n",
      "----------------------------------------------------------------------------\n"
     ]
    },
    {
     "data": {
      "application/vnd.jupyter.widget-view+json": {
       "model_id": "5d18b1f2cee2485baaaab5819b3f2cc7",
       "version_major": 2,
       "version_minor": 0
      },
      "text/plain": [
       "  0%|          | 0/227 [00:00<?, ?it/s]"
      ]
     },
     "metadata": {},
     "output_type": "display_data"
    },
    {
     "name": "stdout",
     "output_type": "stream",
     "text": [
      "----------------------------------------------------------------------------\n",
      "| end of epoch   6 | time: 37.01s | train loss    3.525 valid loss    4.222 \n",
      "----------------------------------------------------------------------------\n"
     ]
    },
    {
     "data": {
      "application/vnd.jupyter.widget-view+json": {
       "model_id": "f3d98ad1bfd140099113a02fbb68c4ef",
       "version_major": 2,
       "version_minor": 0
      },
      "text/plain": [
       "  0%|          | 0/227 [00:00<?, ?it/s]"
      ]
     },
     "metadata": {},
     "output_type": "display_data"
    },
    {
     "name": "stdout",
     "output_type": "stream",
     "text": [
      "----------------------------------------------------------------------------\n",
      "| end of epoch   7 | time: 40.83s | train loss    3.364 valid loss    4.149 \n",
      "----------------------------------------------------------------------------\n"
     ]
    },
    {
     "data": {
      "application/vnd.jupyter.widget-view+json": {
       "model_id": "43c20b2724f9455eac8c1196a7a780ac",
       "version_major": 2,
       "version_minor": 0
      },
      "text/plain": [
       "  0%|          | 0/227 [00:00<?, ?it/s]"
      ]
     },
     "metadata": {},
     "output_type": "display_data"
    },
    {
     "name": "stdout",
     "output_type": "stream",
     "text": [
      "----------------------------------------------------------------------------\n",
      "| end of epoch   8 | time: 38.12s | train loss    3.264 valid loss    4.067 \n",
      "----------------------------------------------------------------------------\n"
     ]
    },
    {
     "data": {
      "application/vnd.jupyter.widget-view+json": {
       "model_id": "53810183630940dcb6266c2b0d33d03c",
       "version_major": 2,
       "version_minor": 0
      },
      "text/plain": [
       "  0%|          | 0/227 [00:00<?, ?it/s]"
      ]
     },
     "metadata": {},
     "output_type": "display_data"
    },
    {
     "name": "stdout",
     "output_type": "stream",
     "text": [
      "----------------------------------------------------------------------------\n",
      "| end of epoch   9 | time: 36.84s | train loss    3.135 valid loss    4.011 \n",
      "----------------------------------------------------------------------------\n"
     ]
    },
    {
     "data": {
      "application/vnd.jupyter.widget-view+json": {
       "model_id": "58d3175bc7fe4519a0190d84f1470e0e",
       "version_major": 2,
       "version_minor": 0
      },
      "text/plain": [
       "  0%|          | 0/227 [00:00<?, ?it/s]"
      ]
     },
     "metadata": {},
     "output_type": "display_data"
    },
    {
     "name": "stdout",
     "output_type": "stream",
     "text": [
      "----------------------------------------------------------------------------\n",
      "| end of epoch  10 | time: 39.04s | train loss    3.009 valid loss    3.931 \n",
      "----------------------------------------------------------------------------\n"
     ]
    },
    {
     "data": {
      "application/vnd.jupyter.widget-view+json": {
       "model_id": "de4b7fd7023f4273b43d8a2608d0ce84",
       "version_major": 2,
       "version_minor": 0
      },
      "text/plain": [
       "  0%|          | 0/227 [00:00<?, ?it/s]"
      ]
     },
     "metadata": {},
     "output_type": "display_data"
    },
    {
     "name": "stdout",
     "output_type": "stream",
     "text": [
      "----------------------------------------------------------------------------\n",
      "| end of epoch  11 | time: 37.03s | train loss    2.918 valid loss    3.938 \n",
      "----------------------------------------------------------------------------\n"
     ]
    },
    {
     "data": {
      "application/vnd.jupyter.widget-view+json": {
       "model_id": "9bf8f03f9034422a92f1016c327624a3",
       "version_major": 2,
       "version_minor": 0
      },
      "text/plain": [
       "  0%|          | 0/227 [00:00<?, ?it/s]"
      ]
     },
     "metadata": {},
     "output_type": "display_data"
    },
    {
     "name": "stdout",
     "output_type": "stream",
     "text": [
      "----------------------------------------------------------------------------\n",
      "| end of epoch  12 | time: 37.06s | train loss    2.812 valid loss    3.875 \n",
      "----------------------------------------------------------------------------\n"
     ]
    },
    {
     "data": {
      "application/vnd.jupyter.widget-view+json": {
       "model_id": "aafe4e2d21bd440093ba73c2581d3ecb",
       "version_major": 2,
       "version_minor": 0
      },
      "text/plain": [
       "  0%|          | 0/227 [00:00<?, ?it/s]"
      ]
     },
     "metadata": {},
     "output_type": "display_data"
    },
    {
     "name": "stdout",
     "output_type": "stream",
     "text": [
      "----------------------------------------------------------------------------\n",
      "| end of epoch  13 | time: 38.97s | train loss    2.729 valid loss    3.843 \n",
      "----------------------------------------------------------------------------\n"
     ]
    },
    {
     "data": {
      "application/vnd.jupyter.widget-view+json": {
       "model_id": "47f3bd2c2b09445fbd15febfbf126178",
       "version_major": 2,
       "version_minor": 0
      },
      "text/plain": [
       "  0%|          | 0/227 [00:00<?, ?it/s]"
      ]
     },
     "metadata": {},
     "output_type": "display_data"
    },
    {
     "name": "stdout",
     "output_type": "stream",
     "text": [
      "----------------------------------------------------------------------------\n",
      "| end of epoch  14 | time: 38.95s | train loss    2.662 valid loss    3.823 \n",
      "----------------------------------------------------------------------------\n"
     ]
    }
   ],
   "source": [
    "import time\n",
    "\n",
    "N_EPOCHS = 15\n",
    "CLIP = 1\n",
    "\n",
    "best_valid_loss = float('inf')\n",
    "\n",
    "\n",
    "train_loss_arr = []; val_loss_arr = []\n",
    "for epoch in range(N_EPOCHS):\n",
    "    \n",
    "    epoch_start_time = time.time()\n",
    "\n",
    "    train_loss = train(train_data, CLIP)\n",
    "    val_loss = evaluate(test_data)\n",
    "    \n",
    "    train_loss_arr.append(train_loss); val_loss_arr.append(val_loss)\n",
    "    \n",
    "    if val_loss < best_valid_loss:\n",
    "        best_val_loss = val_loss\n",
    "        torch.save(seq2seq.state_dict(), 'tut1-model.pt')\n",
    "    \n",
    "    print('-' * 76)\n",
    "    print('| end of epoch {:3d} | time: {:5.2f}s | '\n",
    "          'train loss {:8.3f} '\n",
    "          'valid loss {:8.3f} '.format(epoch,\n",
    "                                           time.time() - epoch_start_time, \n",
    "                                           train_loss_arr[-1],\n",
    "                                           val_loss_arr[-1]))\n",
    "    print('-' * 76)"
   ]
  },
  {
   "cell_type": "code",
   "execution_count": 21,
   "metadata": {
    "tags": []
   },
   "outputs": [
    {
     "name": "stdout",
     "output_type": "stream",
     "text": [
      "Populating the interactive namespace from numpy and matplotlib\n"
     ]
    },
    {
     "name": "stderr",
     "output_type": "stream",
     "text": [
      "/data/storage8/jwillems/anaconda3/envs/torch/lib/python3.9/site-packages/IPython/core/magics/pylab.py:159: UserWarning: pylab import has clobbered these variables: ['CLIP', 'random']\n",
      "`%matplotlib` prevents importing * from pylab and numpy\n",
      "  warn(\"pylab import has clobbered these variables: %s\"  % clobbered +\n"
     ]
    },
    {
     "data": {
      "image/png": "[encoded data removed]",
      "text/plain": [
       "<Figure size 720x576 with 1 Axes>"
      ]
     },
     "metadata": {
      "needs_background": "light"
     },
     "output_type": "display_data"
    }
   ],
   "source": [
    "### Make a plot with training/testing accuracy vs. epochs ###\n",
    "%pylab inline\n",
    "\n",
    "f, ax = plt.subplots(1,1, figsize=(10,8))\n",
    "\n",
    "\n",
    "fnt=16\n",
    "ax.plot(train_loss_arr, color='blue', label='Train')\n",
    "ax.plot(val_loss_arr, color='red', linestyle='--', label='Test')\n",
    "ax.legend(fontsize=fnt)\n",
    "ax.tick_params(axis='both', labelsize=fnt)\n",
    "\n",
    "ax.set_xlabel(\"Epoch\", fontsize=fnt)\n",
    "ax.set_ylabel(\"Accuracy\", fontsize=fnt);\n"
   ]
  },
  {
   "cell_type": "markdown",
   "metadata": {},
   "source": [
    "# Inference\n",
    "\n",
    "The trained model parametrizes the joint probability distribution $P(Y|X)$ of an English target sentence $Y$ that is a correct translation of the German source sentence $X$. Formally, we seek the sentence $Y$ which maximizes $P(Y|X)$, i.e. \n",
    "\n",
    "$$\n",
    "Y = \\underset{Y^{'}}{\\operatorname{argmax}} p(Y^{′}|X). \\quad{(1)}\n",
    "$$\n",
    "\n",
    "**Exercise** \n",
    "\n",
    "During inference using the seq2seq model you can make certain assumptions that should affect your implementation choices. You can assume conditional indepedance of the targets $P(Y|X)=P(y_{0:k}|X)=P(y_0|X)P(y_1|X)...P(y_k|X)$. In this case you can implement a greedy decoder that computes the most likely output at each step without taking into acount the selected outputs at previous steps. Or you can implement an autoregressive decoder that computes the joint probability of the output given the input $P(Y|X)=P(y_{0:k}|X)=P(y_0|X)P(y_1|y_0, X)...P(y_k|y_{0:k-1},X)$. \n"
   ]
  },
  {
   "cell_type": "code",
   "execution_count": 22,
   "metadata": {},
   "outputs": [
    {
     "name": "stdout",
     "output_type": "stream",
     "text": [
      " src: Ein Mann mit einem orangefarbenen Hut , der etwas .\n",
      " trg: A man in an orange hat starring at something .\n",
      " pred: A man with a blue hat is welding .\n",
      "\n",
      " src: Ein Boston Terrier läuft über Gras vor einem weißen Zaun .\n",
      " trg: A Boston Terrier is running on lush green grass in front of a white fence .\n",
      " pred: A skier is running a a white dog in front of a building .\n",
      "\n",
      " src: Ein Mädchen in einem Karateanzug bricht einen Stock mit einem Tritt .\n",
      " trg: A girl in karate uniform breaking a stick with a front kick .\n",
      " pred: A girl in a blue outfit is a a a a .\n",
      "\n",
      " src: Fünf Leute in Winterjacken und mit Helmen stehen im Schnee mit im Hintergrund .\n",
      " trg: Five people wearing winter jackets and helmets stand in the snow , with in the background .\n",
      " pred: Five people in life uniforms and red vests are in in the snow with trees in the background .\n",
      "\n",
      " src: Leute das Dach eines Hauses .\n",
      " trg: People are fixing the roof of a house .\n",
      " pred: Five people are working on a scaffold .\n",
      "\n",
      " src: Ein hell gekleideter Mann fotografiert eine Gruppe von Männern in dunklen Anzügen und mit Hüten , die um eine Frau in einem Kleid herum stehen .\n",
      " trg: A man in light colored clothing photographs a group of men wearing dark suits and hats standing around a woman dressed in a gown .\n",
      " pred: A man in a and a man in a middle of a woman in a a woman in a white coat and a . .\n",
      "\n",
      " src: Eine Gruppe von Menschen steht vor einem Iglu .\n",
      " trg: A group of people standing in front of an igloo .\n",
      " pred: A group of people standing outside a a . .\n",
      "\n",
      " src: Ein Junge in einem roten Trikot versucht , die Home Base zu erreichen , während der im blauen Trikot versucht , ihn zu fangen .\n",
      " trg: A boy in a red uniform is attempting to avoid getting out at home plate , while the catcher in the blue uniform is attempting to catch him .\n",
      " pred: A boy in a blue jersey is trying to get the ball in the in the in the in the . .\n",
      "\n",
      " src: Ein Typ arbeitet an einem Gebäude .\n",
      " trg: A guy works on a building .\n",
      " pred: A guy working on a rock .\n",
      "\n",
      " src: Ein Mann in einer Weste sitzt auf einem Stuhl und hält .\n",
      " trg: A man in a vest is sitting in a chair and holding magazines .\n",
      " pred: A man in a hat is sitting on a chair and .\n",
      "\n"
     ]
    }
   ],
   "source": [
    "def idx_to_sen(sentence_idcs, vocab):\n",
    "    \n",
    "    sentence_idcs = sentence_idcs[sentence_idcs > 3] #remove special tokens\n",
    "                \n",
    "    sentence_idcs = np.array(vocab.itos)[sentence_idcs]\n",
    "                \n",
    "    return ' '.join(sentence_idcs)\n",
    "    \n",
    "    \n",
    "def print_test_examples(src, trg, pred, N):\n",
    "    \n",
    "    for src_, trg_, pred_ in zip(src[:N], trg[:N], pred[:N]):\n",
    "        print(f' src: {src_}\\n trg: {trg_}\\n pred: {pred_}\\n')\n",
    "    \n",
    "    \n",
    "def greedy_decoder(dataset):\n",
    "    \n",
    "    seq2seq.eval()\n",
    "    \n",
    "    epoch_loss = 0\n",
    "    \n",
    "    dataloader = DataLoader(dataset, batch_size=BATCH_SIZE, collate_fn=collate_batch)\n",
    "    \n",
    "    predf = []; srcf = []; trgf = []\n",
    "    \n",
    "    with torch.no_grad():\n",
    "    \n",
    "        for i, (src, trg) in enumerate(dataloader):\n",
    "\n",
    "            output = seq2seq(src, trg, 0) #turn off teacher forcing\n",
    "\n",
    "            top1 = output.argmax(2)\n",
    "            \n",
    "            \n",
    "            for p, s, t in zip(top1.T.cpu(), src.T.cpu(), trg.T.cpu()):\n",
    "                predf.append(idx_to_sen(p, en_vocab))\n",
    "                srcf.append(idx_to_sen(torch.flip(s, (0, )), de_vocab))\n",
    "                trgf.append(idx_to_sen(t, en_vocab)) \n",
    "        \n",
    "        return srcf, trgf, predf\n",
    "\n",
    "out = greedy_decoder(test_data)\n",
    "\n",
    "print_test_examples(*out, N=10)"
   ]
  },
  {
   "cell_type": "code",
   "execution_count": null,
   "metadata": {},
   "outputs": [],
   "source": []
  }
 ],
 "metadata": {
  "kernelspec": {
   "display_name": "Python 3",
   "language": "python",
   "name": "python3"
  },
  "language_info": {
   "codemirror_mode": {
    "name": "ipython",
    "version": 3
   },
   "file_extension": ".py",
   "mimetype": "text/x-python",
   "name": "python",
   "nbconvert_exporter": "python",
   "pygments_lexer": "ipython3",
   "version": "3.9.4"
  }
 },
 "nbformat": 4,
 "nbformat_minor": 4
}
