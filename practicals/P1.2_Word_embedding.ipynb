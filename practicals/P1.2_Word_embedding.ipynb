{
 "cells": [
  {
   "cell_type": "markdown",
   "metadata": {
    "colab_type": "text",
    "id": "view-in-github"
   },
   "source": [
    "<a href=\"https://colab.research.google.com/github/vlamen/tue-deeplearning/blob/main/practicals/P1.2_Word_embedding.ipynb\" target=\"_parent\"><img src=\"https://colab.research.google.com/assets/colab-badge.svg\" alt=\"Open In Colab\"/></a>"
   ]
  },
  {
   "cell_type": "code",
   "execution_count": 1,
   "metadata": {},
   "outputs": [],
   "source": [
    "%matplotlib inline"
   ]
  },
  {
   "cell_type": "markdown",
   "metadata": {},
   "source": [
    "# Practical Overview\n",
    "\n",
    " In this Practical you will learn :\n",
    "- Basic concepts of word embeddings.\n",
    "- How to extract word embeddings by N-Gram in a toy example.\n",
    "- How to extract word embeddings by CBoW in a toy example.\n",
    "- How to extract word embeddings by CBoW in `Alice in Wonderland`.\n",
    "- How to perform the analogy task.\n",
    "\n"
   ]
  },
  {
   "cell_type": "markdown",
   "metadata": {
    "id": "xJ4nnAY4jR4R"
   },
   "source": [
    "\n",
    "# Word Embeddings: Encoding Lexical Semantics\n",
    "\n",
    "\n",
    "Word embeddings are dense vectors of real numbers, one per word in your\n",
    "vocabulary. In NLP, it is almost always the case that your features are\n",
    "words! But how should you represent a word in a computer? You could\n",
    "store its ascii character representation, but that only tells you what\n",
    "the word *is*, it doesn't say much about what it *means* (you might be\n",
    "able to derive its part of speech from its affixes, or properties from\n",
    "its capitalization, but not much). Even more, in what sense could you\n",
    "combine these representations? We often want dense outputs from our\n",
    "neural networks, where the inputs are $|V|$ dimensional, where\n",
    "$V$ is our vocabulary, but often the outputs are only a few\n",
    "dimensional (if we are only predicting a handful of labels, for\n",
    "instance). How do we get from a massive dimensional space to a smaller\n",
    "dimensional space?\n",
    "\n",
    "How about instead of ascii representations, we use a one-hot encoding?\n",
    "That is, we represent the word $w$ by\n",
    "$$\n",
    "\\begin{align}\n",
    "\\overbrace{\\left[ 0, 0, \\dots, 1, \\dots, 0, 0 \\right]}^\\text{|V| elements}\n",
    "\\end{align}\n",
    "$$\n",
    "\n",
    "where the 1 is in a location unique to $w$. Any other word will\n",
    "have a 1 in some other location, and a 0 everywhere else.\n",
    "\n",
    "There is an enormous drawback to this representation, besides just how\n",
    "huge it is. It basically treats all words as independent entities with\n",
    "no relation to each other. What we really want is some notion of\n",
    "*similarity* between words. Why? Let's see an example.\n",
    "\n",
    "Suppose we are building a language model. Suppose we have seen the\n",
    "sentences\n",
    "\n",
    "* The mathematician ran to the store.\n",
    "* The physicist ran to the store.\n",
    "* The mathematician solved the open problem.\n",
    "\n",
    "in our training data. Now suppose we get a new sentence never before\n",
    "seen in our training data:\n",
    "\n",
    "* The physicist solved the open problem.\n",
    "\n",
    "Our language model might do OK on this sentence, but wouldn't it be much\n",
    "better if we could use the following two facts:\n",
    "\n",
    "- We have seen  mathematician and physicist in the same role in a sentence. Somehow they\n",
    "  have a semantic relation.\n",
    "* We have seen mathematician in the same role  in this new unseen sentence\n",
    "  as we are now seeing physicist.\n",
    "\n",
    "and then infer that physicist is actually a good fit in the new unseen\n",
    "sentence? This is what we mean by a notion of similarity: we mean\n",
    "*semantic similarity*, not simply having similar orthographic\n",
    "representations. It is a technique to combat the sparsity of linguistic\n",
    "data, by connecting the dots between what we have seen and what we\n",
    "haven't. This example of course relies on a fundamental linguistic\n",
    "assumption: that words appearing in similar contexts are related to each\n",
    "other semantically. This is called the [distributional\n",
    "hypothesis](https://en.wikipedia.org/wiki/Distributional_semantics).\n"
   ]
  },
  {
   "cell_type": "markdown",
   "metadata": {},
   "source": [
    "# Getting Dense Word Embeddings\n",
    "\n",
    "\n",
    "How can we solve this problem? That is, how could we actually encode\n",
    "semantic similarity in words? Maybe we think up some semantic\n",
    "attributes. For example, we see that both mathematicians and physicists\n",
    "can run, so maybe we give these words a high score for the \"is able to\n",
    "run\" semantic attribute. Think of some other attributes, and imagine\n",
    "what you might score some common words on those attributes.\n",
    "\n",
    "If each attribute is a dimension, then we might give each word a vector,\n",
    "like this:\n",
    "\n",
    "$$\n",
    "\\begin{align}\n",
    "q_\\text{mathematician} = \\left[ \\overbrace{2.3}^\\text{can run},\n",
    "   \\overbrace{9.4}^\\text{likes coffee}, \\overbrace{-5.5}^\\text{majored in Physics}, \\dots \\right]\n",
    " \\end{align}\n",
    "$$\n",
    "\n",
    "$$\n",
    "\\begin{align}\n",
    "q_\\text{physicist} = \\left[ \\overbrace{2.5}^\\text{can run},\n",
    "   \\overbrace{9.1}^\\text{likes coffee}, \\overbrace{6.4}^\\text{majored in Physics}, \\dots \\right]\n",
    "\\end{align}\n",
    "$$\n",
    "\n",
    "Then we can get a measure of similarity between these words by doing:\n",
    "\n",
    "$$\n",
    "\\begin{align}\n",
    "\\text{Similarity}(\\text{physicist}, \\text{mathematician}) = q_\\text{physicist} \\cdot q_\\text{mathematician}\n",
    "\\end{align}\n",
    "$$\n",
    "\n",
    "\n",
    "Although it is more common to normalize by the lengths:\n",
    "\n",
    "\\begin{align}\\text{Similarity}(\\text{physicist}, \\text{mathematician}) = \\frac{q_\\text{physicist} \\cdot q_\\text{mathematician}}\n",
    "   {\\| q_\\text{physicist} \\| \\| q_\\text{mathematician} \\|} = \\cos (\\phi)\\end{align}\n",
    "\n",
    "Where $\\phi$ is the angle between the two vectors. That way,\n",
    "extremely similar words (words whose embeddings point in the same\n",
    "direction) will have similarity 1. Extremely dissimilar words should\n",
    "have similarity -1.\n",
    "\n",
    "\n",
    "\n",
    "You can think of the sparse one-hot vectors from the beginning of this\n",
    "section as a special case of these new vectors we have defined, where\n",
    "each word basically has similarity 0, and we gave each word some unique\n",
    "semantic attribute. These new vectors are *dense*, which is to say their\n",
    "entries are (typically) non-zero.\n",
    "\n",
    "But these new vectors are a big pain: you could think of thousands of\n",
    "different semantic attributes that might be relevant to determining\n",
    "similarity, and how on earth would you set the values of the different\n",
    "attributes? Central to the idea of deep learning is that the neural\n",
    "network learns representations of the features, rather than requiring\n",
    "the programmer to design them herself. So why not just let the word\n",
    "embeddings be parameters in our model, and then be updated during\n",
    "training? This is exactly what we will do. We will have some *latent\n",
    "semantic attributes* that the network can, in principle, learn. Note\n",
    "that the word embeddings will probably not be interpretable. That is,\n",
    "although with our hand-crafted vectors above we can see that\n",
    "mathematicians and physicists are similar in that they both like coffee,\n",
    "if we allow a neural network to learn the embeddings and see that both\n",
    "mathematicians and physicists have a large value in the second\n",
    "dimension, it is not clear what that means. They are similar in some\n",
    "latent semantic dimension, but this probably has no interpretation to\n",
    "us.\n",
    "\n",
    "\n",
    "In summary, **word embeddings are a representation of the *semantics* of\n",
    "a word, efficiently encoding semantic information that might be relevant\n",
    "to the task at hand**. You can embed other things too: part of speech\n",
    "tags, parse trees, anything! The idea of feature embeddings is central\n",
    "to the field.\n"
   ]
  },
  {
   "cell_type": "markdown",
   "metadata": {},
   "source": [
    "# Word Embeddings in Pytorch\n",
    "\n",
    "\n",
    "Before we get to a worked example and an exercise, a few quick notes\n",
    "about how to use embeddings in Pytorch and in deep learning programming\n",
    "in general. Similar to how we defined a unique index for each word when\n",
    "making one-hot vectors, we also need to define an index for each word\n",
    "when using embeddings. These will be keys into a lookup table. That is,\n",
    "embeddings are stored as a $|V| \\times D$ matrix, where $D$\n",
    "is the dimensionality of the embeddings, such that the word assigned\n",
    "index $i$ has its embedding stored in the $i$'th row of the\n",
    "matrix. In all of code, the mapping from words to indices is a\n",
    "dictionary named word\\_to\\_ix.\n",
    "\n",
    "The module that allows you to use embeddings is torch.nn.Embedding,\n",
    "which takes two arguments: the vocabulary size, and the dimensionality\n",
    "of the embeddings.\n",
    "\n",
    "To index into this table, you must use torch.LongTensor (since the\n",
    "indices are integers, not floats).\n",
    "\n"
   ]
  },
  {
   "cell_type": "code",
   "execution_count": 2,
   "metadata": {
    "id": "SN-aYyHOjR4S"
   },
   "outputs": [
    {
     "output_type": "execute_result",
     "data": {
      "text/plain": [
       "<torch._C.Generator at 0x7fe45bfbb870>"
      ]
     },
     "metadata": {},
     "execution_count": 2
    }
   ],
   "source": [
    "# Author: Robert Guthrie\n",
    "\n",
    "import torch\n",
    "import torch.nn as nn\n",
    "import torch.nn.functional as F\n",
    "import torch.optim as optim\n",
    "import numpy as np\n",
    "torch.manual_seed(1)"
   ]
  },
  {
   "cell_type": "code",
   "execution_count": 28,
   "metadata": {
    "id": "Ki4s4m9IjR4T"
   },
   "outputs": [
    {
     "output_type": "stream",
     "name": "stdout",
     "text": [
      "tensor([[-2.3264,  1.6169, -0.9026,  0.1737,  0.0772]],\n       grad_fn=<EmbeddingBackward>)\n"
     ]
    }
   ],
   "source": [
    "word_to_ix = {\"hello\": 0, \"world\": 1}\n",
    "embeds = nn.Embedding(2, 5)  # 2 words in vocab, 5 dimensional embeddings\n",
    "lookup_tensor = torch.tensor([word_to_ix[\"hello\"]], dtype=torch.long)\n",
    "hello_embed = embeds(lookup_tensor)\n",
    "print(hello_embed)"
   ]
  },
  {
   "cell_type": "markdown",
   "metadata": {
    "id": "uzIyUMPKjR4U"
   },
   "source": [
    "# Example  N-Gram Language Modeling in a Toy example\n",
    "\n",
    "\n",
    "Recall that in an n-gram language model, given a sequence of words\n",
    "$w$, we want to compute\n",
    "\n",
    "\\begin{align}P(w_i | w_{i-1}, w_{i-2}, \\dots, w_{i-n+1} )\\end{align}\n",
    "\n",
    "Where $w_i$ is the ith word of the sequence.\n",
    "\n",
    "In this example, we will compute the loss function on some training\n",
    "examples and update the parameters with backpropagation.\n",
    "\n",
    "\n"
   ]
  },
  {
   "cell_type": "markdown",
   "metadata": {},
   "source": [
    "##  Data Preprocessing\n",
    "\n",
    "Before we can use the data in our model, we should build a list of tuples.  Each tuple is `([ word_i-2, word_i-1 ], target word)`, we also build dictionaries to map from words to indices, i.e. word_to_ix, and map from indices to words, i.e. ix_to_word,"
   ]
  },
  {
   "cell_type": "code",
   "execution_count": 91,
   "metadata": {},
   "outputs": [
    {
     "output_type": "stream",
     "name": "stdout",
     "text": [
      "[(['When', 'forty'], 'winters'), (['forty', 'winters'], 'shall'), (['winters', 'shall'], 'besiege')]\n"
     ]
    }
   ],
   "source": [
    "CONTEXT_SIZE = 2\n",
    "\n",
    "# We will use Shakespeare Sonnet 2\n",
    "test_sentence = \"\"\"When forty winters shall besiege thy brow,\n",
    "And dig deep trenches in thy beauty's field,\n",
    "Thy youth's proud livery so gazed on now,\n",
    "Will be a totter'd weed of small worth held:\n",
    "Then being asked, where all thy beauty lies,\n",
    "Where all the treasure of thy lusty days;\n",
    "To say, within thine own deep sunken eyes,\n",
    "Were an all-eating shame, and thriftless praise.\n",
    "How much more praise deserv'd thy beauty's use,\n",
    "If thou couldst answer 'This fair child of mine\n",
    "Shall sum my count, and make my old excuse,'\n",
    "Proving his beauty by succession thine!\n",
    "This were to be new made when thou art old,\n",
    "And see thy blood warm when thou feel'st it cold.\"\"\".split()\n",
    "# we should tokenize the input, but we will ignore that for now\n",
    "# build a list of tuples.  Each tuple is ([ word_i-2, word_i-1 ], target word)\n",
    "trigrams = [([test_sentence[i], test_sentence[i + 1]], test_sentence[i + 2])\n",
    "            for i in range(len(test_sentence) - 2)]\n",
    "# print the first 3, just so you can see what they look like\n",
    "print(trigrams[:3])\n",
    "\n",
    "\n",
    "vocab = set(test_sentence)\n",
    "word_to_ix = {word: i for i, word in enumerate(vocab)}\n",
    "ix_to_word = {ix:word for ix, word in enumerate(vocab)}\n"
   ]
  },
  {
   "cell_type": "markdown",
   "metadata": {},
   "source": [
    "## Create N-Gram model\n",
    "We create N-Gram language model, and set the word embedding size to be 100 (or other by your preferance)"
   ]
  },
  {
   "cell_type": "code",
   "execution_count": 92,
   "metadata": {
    "id": "cAWWomBFjR4V",
    "scrolled": true
   },
   "outputs": [
    {
     "output_type": "stream",
     "name": "stdout",
     "text": [
      "Epoch: 0 \tLoss: 4.626365231201712\n",
      "Epoch: 1 \tLoss: 4.575700713469919\n",
      "Epoch: 2 \tLoss: 4.525661622528482\n",
      "Epoch: 3 \tLoss: 4.476208777554267\n",
      "Epoch: 4 \tLoss: 4.427311705277029\n",
      "Epoch: 5 \tLoss: 4.3789082987118615\n",
      "Epoch: 6 \tLoss: 4.330896957785682\n",
      "Epoch: 7 \tLoss: 4.2831628428096264\n",
      "Epoch: 8 \tLoss: 4.23555365916902\n",
      "Epoch: 9 \tLoss: 4.188187324895268\n",
      "Epoch: 10 \tLoss: 4.140882053206452\n",
      "Epoch: 11 \tLoss: 4.09372252911593\n",
      "Epoch: 12 \tLoss: 4.046565714135634\n",
      "Epoch: 13 \tLoss: 3.999197877613844\n",
      "Epoch: 14 \tLoss: 3.9516022163154805\n",
      "Epoch: 15 \tLoss: 3.9037622477101013\n",
      "Epoch: 16 \tLoss: 3.8555072451059798\n",
      "Epoch: 17 \tLoss: 3.806986528160298\n",
      "Epoch: 18 \tLoss: 3.7581329282406157\n",
      "Epoch: 19 \tLoss: 3.708921892453084\n",
      "Epoch: 20 \tLoss: 3.6593494963856923\n",
      "Epoch: 21 \tLoss: 3.609248336437529\n",
      "Epoch: 22 \tLoss: 3.558551379009686\n",
      "Epoch: 23 \tLoss: 3.5074366637035808\n",
      "Epoch: 24 \tLoss: 3.4557576432692265\n",
      "Epoch: 25 \tLoss: 3.4035739476701856\n",
      "Epoch: 26 \tLoss: 3.350859136708015\n",
      "Epoch: 27 \tLoss: 3.297844743306658\n",
      "Epoch: 28 \tLoss: 3.244320583554496\n",
      "Epoch: 29 \tLoss: 3.190139077406014\n",
      "Epoch: 30 \tLoss: 3.1356969217283535\n",
      "Epoch: 31 \tLoss: 3.0807808669267502\n",
      "Epoch: 32 \tLoss: 3.025475825883646\n",
      "Epoch: 33 \tLoss: 2.969814719352047\n",
      "Epoch: 34 \tLoss: 2.913942156639774\n",
      "Epoch: 35 \tLoss: 2.857593688289676\n",
      "Epoch: 36 \tLoss: 2.8010989005586744\n",
      "Epoch: 37 \tLoss: 2.7442393819842716\n",
      "Epoch: 38 \tLoss: 2.6871076780082905\n",
      "Epoch: 39 \tLoss: 2.629835339246598\n",
      "Epoch: 40 \tLoss: 2.5724290340347626\n",
      "Epoch: 41 \tLoss: 2.5149026265186545\n",
      "Epoch: 42 \tLoss: 2.4572252277779367\n",
      "Epoch: 43 \tLoss: 2.3995717790274496\n",
      "Epoch: 44 \tLoss: 2.341794132131391\n",
      "Epoch: 45 \tLoss: 2.2841674068332773\n",
      "Epoch: 46 \tLoss: 2.2264853230619854\n",
      "Epoch: 47 \tLoss: 2.1690166413256553\n",
      "Epoch: 48 \tLoss: 2.1115881114934396\n",
      "Epoch: 49 \tLoss: 2.0544448468537455\n",
      "Epoch: 50 \tLoss: 1.9976792385620354\n",
      "Epoch: 51 \tLoss: 1.9410889140800036\n",
      "Epoch: 52 \tLoss: 1.8848884256012672\n",
      "Epoch: 53 \tLoss: 1.829310322229841\n",
      "Epoch: 54 \tLoss: 1.7739946409664322\n",
      "Epoch: 55 \tLoss: 1.7194260205842753\n",
      "Epoch: 56 \tLoss: 1.665492989584408\n",
      "Epoch: 57 \tLoss: 1.6121335451581837\n",
      "Epoch: 58 \tLoss: 1.5596782484676985\n",
      "Epoch: 59 \tLoss: 1.5079951382580057\n",
      "Epoch: 60 \tLoss: 1.4571450704758147\n",
      "Epoch: 61 \tLoss: 1.4072987284280558\n",
      "Epoch: 62 \tLoss: 1.3583611813002983\n",
      "Epoch: 63 \tLoss: 1.3104255264048028\n",
      "Epoch: 64 \tLoss: 1.26360738409304\n",
      "Epoch: 65 \tLoss: 1.2179294340642153\n",
      "Epoch: 66 \tLoss: 1.173348404664909\n",
      "Epoch: 67 \tLoss: 1.1299104491430045\n",
      "Epoch: 68 \tLoss: 1.087712915465895\n",
      "Epoch: 69 \tLoss: 1.0467756078042816\n",
      "Epoch: 70 \tLoss: 1.0070127904151394\n",
      "Epoch: 71 \tLoss: 0.9685356475874386\n",
      "Epoch: 72 \tLoss: 0.9313364768054633\n",
      "Epoch: 73 \tLoss: 0.8953227096163066\n",
      "Epoch: 74 \tLoss: 0.8606702689971544\n",
      "Epoch: 75 \tLoss: 0.8272517572066426\n",
      "Epoch: 76 \tLoss: 0.7950688869552275\n",
      "Epoch: 77 \tLoss: 0.7642015477856704\n",
      "Epoch: 78 \tLoss: 0.7345166141084866\n",
      "Epoch: 79 \tLoss: 0.7060613034177671\n",
      "Epoch: 80 \tLoss: 0.6788832602643333\n",
      "Epoch: 81 \tLoss: 0.6527542802876076\n",
      "Epoch: 82 \tLoss: 0.6278527595959933\n",
      "Epoch: 83 \tLoss: 0.6040195586011473\n",
      "Epoch: 84 \tLoss: 0.5812949070756415\n",
      "Epoch: 85 \tLoss: 0.5596381965200458\n",
      "Epoch: 86 \tLoss: 0.5389434642496362\n",
      "Epoch: 87 \tLoss: 0.5192379013890713\n",
      "Epoch: 88 \tLoss: 0.5004585320047573\n",
      "Epoch: 89 \tLoss: 0.482611523595004\n",
      "Epoch: 90 \tLoss: 0.4656158419968808\n",
      "Epoch: 91 \tLoss: 0.44942817777658983\n",
      "Epoch: 92 \tLoss: 0.4340795370197929\n",
      "Epoch: 93 \tLoss: 0.4194506522828499\n",
      "Epoch: 94 \tLoss: 0.40554244262454786\n",
      "Epoch: 95 \tLoss: 0.3923247004241015\n",
      "Epoch: 96 \tLoss: 0.3797606034946125\n",
      "Epoch: 97 \tLoss: 0.36779667631582874\n",
      "Epoch: 98 \tLoss: 0.3564341787281817\n",
      "Epoch: 99 \tLoss: 0.34561759658751234\n"
     ]
    }
   ],
   "source": [
    "EMBEDDING_DIM = 100\n",
    "\n",
    "class NGramLanguageModeler(nn.Module):\n",
    "\n",
    "    def __init__(self, vocab_size, embedding_dim, context_size):\n",
    "        super(NGramLanguageModeler, self).__init__()\n",
    "        self.embeddings = nn.Embedding(vocab_size, embedding_dim)\n",
    "        self.linear1 = nn.Linear(context_size * embedding_dim, 128)\n",
    "        self.linear2 = nn.Linear(128, vocab_size)\n",
    "\n",
    "    def forward(self, inputs):\n",
    "        embeds = self.embeddings(inputs).view((1, -1))\n",
    "        out = F.relu(self.linear1(embeds))\n",
    "        out = self.linear2(out)\n",
    "        log_probs = F.log_softmax(out, dim=1)\n",
    "        return log_probs\n",
    "\n",
    "\n",
    "\n",
    "loss_function = nn.NLLLoss()\n",
    "model = NGramLanguageModeler(len(vocab), EMBEDDING_DIM, CONTEXT_SIZE)\n",
    "optimizer = optim.SGD(model.parameters(), lr=0.001)\n",
    "\n",
    "for epoch in range(100):\n",
    "    total_loss = 0\n",
    "    for context, target in trigrams:\n",
    "\n",
    "        # Step 1. Prepare the inputs to be passed to the model (i.e, turn the words\n",
    "        # into integer indices and wrap them in tensors)\n",
    "        context_idxs = torch.tensor([word_to_ix[w] for w in context], dtype=torch.long)\n",
    "\n",
    "        # Step 2. Recall that torch *accumulates* gradients. Before passing in a\n",
    "        # new instance, you need to zero out the gradients from the old\n",
    "        # instance\n",
    "        model.zero_grad()\n",
    "\n",
    "        # Step 3. Run the forward pass, getting log probabilities over next\n",
    "        # words\n",
    "        log_probs = model(context_idxs)\n",
    "\n",
    "        # Step 4. Compute your loss function. (Again, Torch wants the target\n",
    "        # word wrapped in a tensor)\n",
    "        loss = loss_function(log_probs, torch.tensor([word_to_ix[target]], dtype=torch.long))\n",
    "\n",
    "        # Step 5. Do the backward pass and update the gradient\n",
    "        loss.backward()\n",
    "        optimizer.step()\n",
    "\n",
    "        # Get the Python number from a 1-element Tensor by calling tensor.item()\n",
    "        total_loss += loss.item()\n",
    "    average_loss= total_loss/len(trigrams)\n",
    "    print('Epoch:', epoch, '\\tLoss:', average_loss)  # The loss decreased every iteration over the training data!"
   ]
  },
  {
   "cell_type": "markdown",
   "metadata": {},
   "source": [
    "##  Check the results"
   ]
  },
  {
   "cell_type": "markdown",
   "metadata": {},
   "source": [
    "We can print the word embedding value by creating pandas table"
   ]
  },
  {
   "cell_type": "code",
   "execution_count": 33,
   "metadata": {
    "scrolled": true
   },
   "outputs": [
    {
     "output_type": "execute_result",
     "data": {
      "text/plain": [
       "              0         1         2         3         4         5         6   \\\n",
       "more    1.320313  0.828640 -1.312770 -0.359023 -0.481240  1.627352  1.056634   \n",
       "field,  0.085171 -0.335934 -0.001619  0.523827 -0.862167 -0.304661  0.630433   \n",
       "asked, -0.904634 -0.511664 -1.230640  1.028239  0.185730  0.373448  0.488494   \n",
       "thine!  0.917796 -0.544285 -2.358330 -1.520604  0.387231  1.644806  0.008153   \n",
       "blood   0.393552  0.069178  0.522326 -1.987879  0.512980  0.918553  1.045777   \n",
       "\n",
       "              7         8         9   ...        90        91        92  \\\n",
       "more    0.530470 -0.042100 -1.124597  ... -0.391645 -0.414608 -1.142812   \n",
       "field,  0.363044  0.559629  1.664607  ...  1.692478  0.184778  0.863177   \n",
       "asked, -0.203774  0.902683 -0.513498  ... -0.248238  0.510158 -0.151632   \n",
       "thine!  2.236723  2.123309 -0.914316  ...  1.750600 -0.573296 -0.137342   \n",
       "blood  -0.442237 -0.772400 -1.125736  ... -0.463219  0.522639 -0.183036   \n",
       "\n",
       "              93        94        95        96        97        98        99  \n",
       "more    1.180725  0.287632  0.175876 -0.964193  0.748175 -0.002119  1.344552  \n",
       "field, -0.286952  0.201761 -0.041516  1.153544  0.287470  0.276546 -0.939250  \n",
       "asked, -0.656623 -0.512230  1.119200  0.288812  0.597171 -1.254859 -1.938549  \n",
       "thine!  0.326746 -0.934264 -0.519515  0.230680 -0.257850 -0.985312  0.098289  \n",
       "blood  -0.418283 -1.665190  0.568302  2.224463 -1.163765 -0.293115 -0.577371  \n",
       "\n",
       "[5 rows x 100 columns]"
      ],
      "text/html": "<div>\n<style scoped>\n    .dataframe tbody tr th:only-of-type {\n        vertical-align: middle;\n    }\n\n    .dataframe tbody tr th {\n        vertical-align: top;\n    }\n\n    .dataframe thead th {\n        text-align: right;\n    }\n</style>\n<table border=\"1\" class=\"dataframe\">\n  <thead>\n    <tr style=\"text-align: right;\">\n      <th></th>\n      <th>0</th>\n      <th>1</th>\n      <th>2</th>\n      <th>3</th>\n      <th>4</th>\n      <th>5</th>\n      <th>6</th>\n      <th>7</th>\n      <th>8</th>\n      <th>9</th>\n      <th>...</th>\n      <th>90</th>\n      <th>91</th>\n      <th>92</th>\n      <th>93</th>\n      <th>94</th>\n      <th>95</th>\n      <th>96</th>\n      <th>97</th>\n      <th>98</th>\n      <th>99</th>\n    </tr>\n  </thead>\n  <tbody>\n    <tr>\n      <th>more</th>\n      <td>1.320313</td>\n      <td>0.828640</td>\n      <td>-1.312770</td>\n      <td>-0.359023</td>\n      <td>-0.481240</td>\n      <td>1.627352</td>\n      <td>1.056634</td>\n      <td>0.530470</td>\n      <td>-0.042100</td>\n      <td>-1.124597</td>\n      <td>...</td>\n      <td>-0.391645</td>\n      <td>-0.414608</td>\n      <td>-1.142812</td>\n      <td>1.180725</td>\n      <td>0.287632</td>\n      <td>0.175876</td>\n      <td>-0.964193</td>\n      <td>0.748175</td>\n      <td>-0.002119</td>\n      <td>1.344552</td>\n    </tr>\n    <tr>\n      <th>field,</th>\n      <td>0.085171</td>\n      <td>-0.335934</td>\n      <td>-0.001619</td>\n      <td>0.523827</td>\n      <td>-0.862167</td>\n      <td>-0.304661</td>\n      <td>0.630433</td>\n      <td>0.363044</td>\n      <td>0.559629</td>\n      <td>1.664607</td>\n      <td>...</td>\n      <td>1.692478</td>\n      <td>0.184778</td>\n      <td>0.863177</td>\n      <td>-0.286952</td>\n      <td>0.201761</td>\n      <td>-0.041516</td>\n      <td>1.153544</td>\n      <td>0.287470</td>\n      <td>0.276546</td>\n      <td>-0.939250</td>\n    </tr>\n    <tr>\n      <th>asked,</th>\n      <td>-0.904634</td>\n      <td>-0.511664</td>\n      <td>-1.230640</td>\n      <td>1.028239</td>\n      <td>0.185730</td>\n      <td>0.373448</td>\n      <td>0.488494</td>\n      <td>-0.203774</td>\n      <td>0.902683</td>\n      <td>-0.513498</td>\n      <td>...</td>\n      <td>-0.248238</td>\n      <td>0.510158</td>\n      <td>-0.151632</td>\n      <td>-0.656623</td>\n      <td>-0.512230</td>\n      <td>1.119200</td>\n      <td>0.288812</td>\n      <td>0.597171</td>\n      <td>-1.254859</td>\n      <td>-1.938549</td>\n    </tr>\n    <tr>\n      <th>thine!</th>\n      <td>0.917796</td>\n      <td>-0.544285</td>\n      <td>-2.358330</td>\n      <td>-1.520604</td>\n      <td>0.387231</td>\n      <td>1.644806</td>\n      <td>0.008153</td>\n      <td>2.236723</td>\n      <td>2.123309</td>\n      <td>-0.914316</td>\n      <td>...</td>\n      <td>1.750600</td>\n      <td>-0.573296</td>\n      <td>-0.137342</td>\n      <td>0.326746</td>\n      <td>-0.934264</td>\n      <td>-0.519515</td>\n      <td>0.230680</td>\n      <td>-0.257850</td>\n      <td>-0.985312</td>\n      <td>0.098289</td>\n    </tr>\n    <tr>\n      <th>blood</th>\n      <td>0.393552</td>\n      <td>0.069178</td>\n      <td>0.522326</td>\n      <td>-1.987879</td>\n      <td>0.512980</td>\n      <td>0.918553</td>\n      <td>1.045777</td>\n      <td>-0.442237</td>\n      <td>-0.772400</td>\n      <td>-1.125736</td>\n      <td>...</td>\n      <td>-0.463219</td>\n      <td>0.522639</td>\n      <td>-0.183036</td>\n      <td>-0.418283</td>\n      <td>-1.665190</td>\n      <td>0.568302</td>\n      <td>2.224463</td>\n      <td>-1.163765</td>\n      <td>-0.293115</td>\n      <td>-0.577371</td>\n    </tr>\n  </tbody>\n</table>\n<p>5 rows × 100 columns</p>\n</div>"
     },
     "metadata": {},
     "execution_count": 33
    }
   ],
   "source": [
    "import pandas as pd\n",
    "embeddings = model.embeddings(torch.Tensor([list(range(0,len(vocab)))]).long())\n",
    "embeddings = embeddings.view(-1,EMBEDDING_DIM)\n",
    "pd.DataFrame(embeddings.tolist(), index=list(ix_to_word.values())[0:]).head()"
   ]
  },
  {
   "cell_type": "markdown",
   "metadata": {},
   "source": [
    "We can also plot the TSNE to visualize the similarity"
   ]
  },
  {
   "cell_type": "code",
   "execution_count": 34,
   "metadata": {},
   "outputs": [],
   "source": [
    "labels=[]\n",
    "for i in range(len(ix_to_word)):\n",
    "    labels.append(ix_to_word[i])"
   ]
  },
  {
   "cell_type": "code",
   "execution_count": 35,
   "metadata": {
    "scrolled": true
   },
   "outputs": [
    {
     "output_type": "display_data",
     "data": {
      "text/plain": "<Figure size 720x720 with 1 Axes>",
      "image/svg+xml": "<?xml version=\"1.0\" encoding=\"utf-8\" standalone=\"no\"?>\n<!DOCTYPE svg PUBLIC \"-//W3C//DTD SVG 1.1//EN\"\n  \"http://www.w3.org/Graphics/SVG/1.1/DTD/svg11.dtd\">\n<!-- Created with matplotlib (https://matplotlib.org/) -->\n<svg height=\"574.678125pt\" version=\"1.1\" viewBox=\"0 0 594.142187 574.678125\" width=\"594.142187pt\" xmlns=\"http://www.w3.org/2000/svg\" xmlns:xlink=\"http://www.w3.org/1999/xlink\">\n <metadata>\n  <rdf:RDF xmlns:cc=\"http://creativecommons.org/ns#\" xmlns:dc=\"http://purl.org/dc/elements/1.1/\" xmlns:rdf=\"http://www.w3.org/1999/02/22-rdf-syntax-ns#\">\n   <cc:Work>\n    <dc:type rdf:resource=\"http://purl.org/dc/dcmitype/StillImage\"/>\n    <dc:date>2021-04-26T14:31:37.410438</dc:date>\n    <dc:format>image/svg+xml</dc:format>\n    <dc:creator>\n     <cc:Agent>\n      <dc:title>Matplotlib v3.3.2, https://matplotlib.org/</dc:title>\n     </cc:Agent>\n    </dc:creator>\n   </cc:Work>\n  </rdf:RDF>\n </metadata>\n <defs>\n  <style type=\"text/css\">*{stroke-linecap:butt;stroke-linejoin:round;}</style>\n </defs>\n <g id=\"figure_1\">\n  <g id=\"patch_1\">\n   <path d=\"M 0 574.678125 \nL 594.142187 574.678125 \nL 594.142187 0 \nL 0 0 \nz\n\" style=\"fill:none;\"/>\n  </g>\n  <g id=\"axes_1\">\n   <g id=\"patch_2\">\n    <path d=\"M 28.942188 550.8 \nL 586.942188 550.8 \nL 586.942188 7.2 \nL 28.942188 7.2 \nz\n\" style=\"fill:#ffffff;\"/>\n   </g>\n   <g id=\"PathCollection_1\">\n    <defs>\n     <path d=\"M 0 3 \nC 0.795609 3 1.55874 2.683901 2.12132 2.12132 \nC 2.683901 1.55874 3 0.795609 3 0 \nC 3 -0.795609 2.683901 -1.55874 2.12132 -2.12132 \nC 1.55874 -2.683901 0.795609 -3 0 -3 \nC -0.795609 -3 -1.55874 -2.683901 -2.12132 -2.12132 \nC -2.683901 -1.55874 -3 -0.795609 -3 0 \nC -3 0.795609 -2.683901 1.55874 -2.12132 2.12132 \nC -1.55874 2.683901 -0.795609 3 0 3 \nz\n\" id=\"m9cf0813ca0\" style=\"stroke:#1f77b4;\"/>\n    </defs>\n    <g clip-path=\"url(#p1999ea03a2)\">\n     <use style=\"fill:#1f77b4;stroke:#1f77b4;\" x=\"393.783803\" xlink:href=\"#m9cf0813ca0\" y=\"282.851905\"/>\n    </g>\n   </g>\n   <g id=\"PathCollection_2\">\n    <defs>\n     <path d=\"M 0 3 \nC 0.795609 3 1.55874 2.683901 2.12132 2.12132 \nC 2.683901 1.55874 3 0.795609 3 0 \nC 3 -0.795609 2.683901 -1.55874 2.12132 -2.12132 \nC 1.55874 -2.683901 0.795609 -3 0 -3 \nC -0.795609 -3 -1.55874 -2.683901 -2.12132 -2.12132 \nC -2.683901 -1.55874 -3 -0.795609 -3 0 \nC -3 0.795609 -2.683901 1.55874 -2.12132 2.12132 \nC -1.55874 2.683901 -0.795609 3 0 3 \nz\n\" id=\"ma758ce5bbe\" style=\"stroke:#ff7f0e;\"/>\n    </defs>\n    <g clip-path=\"url(#p1999ea03a2)\">\n     <use style=\"fill:#ff7f0e;stroke:#ff7f0e;\" x=\"242.048277\" xlink:href=\"#ma758ce5bbe\" y=\"205.106301\"/>\n    </g>\n   </g>\n   <g id=\"PathCollection_3\">\n    <defs>\n     <path d=\"M 0 3 \nC 0.795609 3 1.55874 2.683901 2.12132 2.12132 \nC 2.683901 1.55874 3 0.795609 3 0 \nC 3 -0.795609 2.683901 -1.55874 2.12132 -2.12132 \nC 1.55874 -2.683901 0.795609 -3 0 -3 \nC -0.795609 -3 -1.55874 -2.683901 -2.12132 -2.12132 \nC -2.683901 -1.55874 -3 -0.795609 -3 0 \nC -3 0.795609 -2.683901 1.55874 -2.12132 2.12132 \nC -1.55874 2.683901 -0.795609 3 0 3 \nz\n\" id=\"m75faa6368b\" style=\"stroke:#2ca02c;\"/>\n    </defs>\n    <g clip-path=\"url(#p1999ea03a2)\">\n     <use style=\"fill:#2ca02c;stroke:#2ca02c;\" x=\"352.54149\" xlink:href=\"#m75faa6368b\" y=\"43.738476\"/>\n    </g>\n   </g>\n   <g id=\"PathCollection_4\">\n    <defs>\n     <path d=\"M 0 3 \nC 0.795609 3 1.55874 2.683901 2.12132 2.12132 \nC 2.683901 1.55874 3 0.795609 3 0 \nC 3 -0.795609 2.683901 -1.55874 2.12132 -2.12132 \nC 1.55874 -2.683901 0.795609 -3 0 -3 \nC -0.795609 -3 -1.55874 -2.683901 -2.12132 -2.12132 \nC -2.683901 -1.55874 -3 -0.795609 -3 0 \nC -3 0.795609 -2.683901 1.55874 -2.12132 2.12132 \nC -1.55874 2.683901 -0.795609 3 0 3 \nz\n\" id=\"mcb80537547\" style=\"stroke:#d62728;\"/>\n    </defs>\n    <g clip-path=\"url(#p1999ea03a2)\">\n     <use style=\"fill:#d62728;stroke:#d62728;\" x=\"561.578551\" xlink:href=\"#mcb80537547\" y=\"294.909876\"/>\n    </g>\n   </g>\n   <g id=\"PathCollection_5\">\n    <defs>\n     <path d=\"M 0 3 \nC 0.795609 3 1.55874 2.683901 2.12132 2.12132 \nC 2.683901 1.55874 3 0.795609 3 0 \nC 3 -0.795609 2.683901 -1.55874 2.12132 -2.12132 \nC 1.55874 -2.683901 0.795609 -3 0 -3 \nC -0.795609 -3 -1.55874 -2.683901 -2.12132 -2.12132 \nC -2.683901 -1.55874 -3 -0.795609 -3 0 \nC -3 0.795609 -2.683901 1.55874 -2.12132 2.12132 \nC -1.55874 2.683901 -0.795609 3 0 3 \nz\n\" id=\"m1461c9f057\" style=\"stroke:#9467bd;\"/>\n    </defs>\n    <g clip-path=\"url(#p1999ea03a2)\">\n     <use style=\"fill:#9467bd;stroke:#9467bd;\" x=\"531.645814\" xlink:href=\"#m1461c9f057\" y=\"374.40179\"/>\n    </g>\n   </g>\n   <g id=\"PathCollection_6\">\n    <defs>\n     <path d=\"M 0 3 \nC 0.795609 3 1.55874 2.683901 2.12132 2.12132 \nC 2.683901 1.55874 3 0.795609 3 0 \nC 3 -0.795609 2.683901 -1.55874 2.12132 -2.12132 \nC 1.55874 -2.683901 0.795609 -3 0 -3 \nC -0.795609 -3 -1.55874 -2.683901 -2.12132 -2.12132 \nC -2.683901 -1.55874 -3 -0.795609 -3 0 \nC -3 0.795609 -2.683901 1.55874 -2.12132 2.12132 \nC -1.55874 2.683901 -0.795609 3 0 3 \nz\n\" id=\"me0703603ad\" style=\"stroke:#8c564b;\"/>\n    </defs>\n    <g clip-path=\"url(#p1999ea03a2)\">\n     <use style=\"fill:#8c564b;stroke:#8c564b;\" x=\"450.877665\" xlink:href=\"#me0703603ad\" y=\"120.414054\"/>\n    </g>\n   </g>\n   <g id=\"PathCollection_7\">\n    <defs>\n     <path d=\"M 0 3 \nC 0.795609 3 1.55874 2.683901 2.12132 2.12132 \nC 2.683901 1.55874 3 0.795609 3 0 \nC 3 -0.795609 2.683901 -1.55874 2.12132 -2.12132 \nC 1.55874 -2.683901 0.795609 -3 0 -3 \nC -0.795609 -3 -1.55874 -2.683901 -2.12132 -2.12132 \nC -2.683901 -1.55874 -3 -0.795609 -3 0 \nC -3 0.795609 -2.683901 1.55874 -2.12132 2.12132 \nC -1.55874 2.683901 -0.795609 3 0 3 \nz\n\" id=\"m1f3cfc781a\" style=\"stroke:#e377c2;\"/>\n    </defs>\n    <g clip-path=\"url(#p1999ea03a2)\">\n     <use style=\"fill:#e377c2;stroke:#e377c2;\" x=\"459.767509\" xlink:href=\"#m1f3cfc781a\" y=\"363.410488\"/>\n    </g>\n   </g>\n   <g id=\"PathCollection_8\">\n    <defs>\n     <path d=\"M 0 3 \nC 0.795609 3 1.55874 2.683901 2.12132 2.12132 \nC 2.683901 1.55874 3 0.795609 3 0 \nC 3 -0.795609 2.683901 -1.55874 2.12132 -2.12132 \nC 1.55874 -2.683901 0.795609 -3 0 -3 \nC -0.795609 -3 -1.55874 -2.683901 -2.12132 -2.12132 \nC -2.683901 -1.55874 -3 -0.795609 -3 0 \nC -3 0.795609 -2.683901 1.55874 -2.12132 2.12132 \nC -1.55874 2.683901 -0.795609 3 0 3 \nz\n\" id=\"m8bf14bbf8b\" style=\"stroke:#7f7f7f;\"/>\n    </defs>\n    <g clip-path=\"url(#p1999ea03a2)\">\n     <use style=\"fill:#7f7f7f;stroke:#7f7f7f;\" x=\"322.966421\" xlink:href=\"#m8bf14bbf8b\" y=\"332.199955\"/>\n    </g>\n   </g>\n   <g id=\"PathCollection_9\">\n    <defs>\n     <path d=\"M 0 3 \nC 0.795609 3 1.55874 2.683901 2.12132 2.12132 \nC 2.683901 1.55874 3 0.795609 3 0 \nC 3 -0.795609 2.683901 -1.55874 2.12132 -2.12132 \nC 1.55874 -2.683901 0.795609 -3 0 -3 \nC -0.795609 -3 -1.55874 -2.683901 -2.12132 -2.12132 \nC -2.683901 -1.55874 -3 -0.795609 -3 0 \nC -3 0.795609 -2.683901 1.55874 -2.12132 2.12132 \nC -1.55874 2.683901 -0.795609 3 0 3 \nz\n\" id=\"me4b30a87db\" style=\"stroke:#bcbd22;\"/>\n    </defs>\n    <g clip-path=\"url(#p1999ea03a2)\">\n     <use style=\"fill:#bcbd22;stroke:#bcbd22;\" x=\"274.514639\" xlink:href=\"#me4b30a87db\" y=\"258.742647\"/>\n    </g>\n   </g>\n   <g id=\"PathCollection_10\">\n    <defs>\n     <path d=\"M 0 3 \nC 0.795609 3 1.55874 2.683901 2.12132 2.12132 \nC 2.683901 1.55874 3 0.795609 3 0 \nC 3 -0.795609 2.683901 -1.55874 2.12132 -2.12132 \nC 1.55874 -2.683901 0.795609 -3 0 -3 \nC -0.795609 -3 -1.55874 -2.683901 -2.12132 -2.12132 \nC -2.683901 -1.55874 -3 -0.795609 -3 0 \nC -3 0.795609 -2.683901 1.55874 -2.12132 2.12132 \nC -1.55874 2.683901 -0.795609 3 0 3 \nz\n\" id=\"m4137afe0ea\" style=\"stroke:#17becf;\"/>\n    </defs>\n    <g clip-path=\"url(#p1999ea03a2)\">\n     <use style=\"fill:#17becf;stroke:#17becf;\" x=\"294.904122\" xlink:href=\"#m4137afe0ea\" y=\"402.992076\"/>\n    </g>\n   </g>\n   <g id=\"PathCollection_11\">\n    <g clip-path=\"url(#p1999ea03a2)\">\n     <use style=\"fill:#1f77b4;stroke:#1f77b4;\" x=\"329.442551\" xlink:href=\"#m9cf0813ca0\" y=\"306.122551\"/>\n    </g>\n   </g>\n   <g id=\"PathCollection_12\">\n    <g clip-path=\"url(#p1999ea03a2)\">\n     <use style=\"fill:#ff7f0e;stroke:#ff7f0e;\" x=\"216.250257\" xlink:href=\"#ma758ce5bbe\" y=\"38.490101\"/>\n    </g>\n   </g>\n   <g id=\"PathCollection_13\">\n    <g clip-path=\"url(#p1999ea03a2)\">\n     <use style=\"fill:#2ca02c;stroke:#2ca02c;\" x=\"141.879776\" xlink:href=\"#m75faa6368b\" y=\"110.272398\"/>\n    </g>\n   </g>\n   <g id=\"PathCollection_14\">\n    <g clip-path=\"url(#p1999ea03a2)\">\n     <use style=\"fill:#d62728;stroke:#d62728;\" x=\"385.768299\" xlink:href=\"#mcb80537547\" y=\"164.517303\"/>\n    </g>\n   </g>\n   <g id=\"PathCollection_15\">\n    <g clip-path=\"url(#p1999ea03a2)\">\n     <use style=\"fill:#9467bd;stroke:#9467bd;\" x=\"285.958891\" xlink:href=\"#m1461c9f057\" y=\"267.249777\"/>\n    </g>\n   </g>\n   <g id=\"PathCollection_16\">\n    <g clip-path=\"url(#p1999ea03a2)\">\n     <use style=\"fill:#8c564b;stroke:#8c564b;\" x=\"520.013603\" xlink:href=\"#me0703603ad\" y=\"280.125143\"/>\n    </g>\n   </g>\n   <g id=\"PathCollection_17\">\n    <g clip-path=\"url(#p1999ea03a2)\">\n     <use style=\"fill:#e377c2;stroke:#e377c2;\" x=\"294.187844\" xlink:href=\"#m1f3cfc781a\" y=\"318.191924\"/>\n    </g>\n   </g>\n   <g id=\"PathCollection_18\">\n    <g clip-path=\"url(#p1999ea03a2)\">\n     <use style=\"fill:#7f7f7f;stroke:#7f7f7f;\" x=\"318.993515\" xlink:href=\"#m8bf14bbf8b\" y=\"342.939026\"/>\n    </g>\n   </g>\n   <g id=\"PathCollection_19\">\n    <g clip-path=\"url(#p1999ea03a2)\">\n     <use style=\"fill:#bcbd22;stroke:#bcbd22;\" x=\"454.244125\" xlink:href=\"#me4b30a87db\" y=\"213.326064\"/>\n    </g>\n   </g>\n   <g id=\"PathCollection_20\">\n    <g clip-path=\"url(#p1999ea03a2)\">\n     <use style=\"fill:#17becf;stroke:#17becf;\" x=\"184.336759\" xlink:href=\"#m4137afe0ea\" y=\"191.540354\"/>\n    </g>\n   </g>\n   <g id=\"PathCollection_21\">\n    <g clip-path=\"url(#p1999ea03a2)\">\n     <use style=\"fill:#1f77b4;stroke:#1f77b4;\" x=\"452.802603\" xlink:href=\"#m9cf0813ca0\" y=\"317.276298\"/>\n    </g>\n   </g>\n   <g id=\"PathCollection_22\">\n    <g clip-path=\"url(#p1999ea03a2)\">\n     <use style=\"fill:#ff7f0e;stroke:#ff7f0e;\" x=\"255.899545\" xlink:href=\"#ma758ce5bbe\" y=\"419.867869\"/>\n    </g>\n   </g>\n   <g id=\"PathCollection_23\">\n    <g clip-path=\"url(#p1999ea03a2)\">\n     <use style=\"fill:#2ca02c;stroke:#2ca02c;\" x=\"423.026963\" xlink:href=\"#m75faa6368b\" y=\"373.849154\"/>\n    </g>\n   </g>\n   <g id=\"PathCollection_24\">\n    <g clip-path=\"url(#p1999ea03a2)\">\n     <use style=\"fill:#d62728;stroke:#d62728;\" x=\"342.014092\" xlink:href=\"#mcb80537547\" y=\"281.953213\"/>\n    </g>\n   </g>\n   <g id=\"PathCollection_25\">\n    <g clip-path=\"url(#p1999ea03a2)\">\n     <use style=\"fill:#9467bd;stroke:#9467bd;\" x=\"194.45022\" xlink:href=\"#m1461c9f057\" y=\"126.398615\"/>\n    </g>\n   </g>\n   <g id=\"PathCollection_26\">\n    <g clip-path=\"url(#p1999ea03a2)\">\n     <use style=\"fill:#8c564b;stroke:#8c564b;\" x=\"183.01223\" xlink:href=\"#me0703603ad\" y=\"313.541096\"/>\n    </g>\n   </g>\n   <g id=\"PathCollection_27\">\n    <g clip-path=\"url(#p1999ea03a2)\">\n     <use style=\"fill:#e377c2;stroke:#e377c2;\" x=\"211.562741\" xlink:href=\"#m1f3cfc781a\" y=\"149.188928\"/>\n    </g>\n   </g>\n   <g id=\"PathCollection_28\">\n    <g clip-path=\"url(#p1999ea03a2)\">\n     <use style=\"fill:#7f7f7f;stroke:#7f7f7f;\" x=\"440.718281\" xlink:href=\"#m8bf14bbf8b\" y=\"349.839834\"/>\n    </g>\n   </g>\n   <g id=\"PathCollection_29\">\n    <g clip-path=\"url(#p1999ea03a2)\">\n     <use style=\"fill:#bcbd22;stroke:#bcbd22;\" x=\"391.32461\" xlink:href=\"#me4b30a87db\" y=\"70.274184\"/>\n    </g>\n   </g>\n   <g id=\"PathCollection_30\">\n    <g clip-path=\"url(#p1999ea03a2)\">\n     <use style=\"fill:#17becf;stroke:#17becf;\" x=\"254.714013\" xlink:href=\"#m4137afe0ea\" y=\"355.269123\"/>\n    </g>\n   </g>\n   <g id=\"PathCollection_31\">\n    <g clip-path=\"url(#p1999ea03a2)\">\n     <use style=\"fill:#1f77b4;stroke:#1f77b4;\" x=\"450.524272\" xlink:href=\"#m9cf0813ca0\" y=\"438.271673\"/>\n    </g>\n   </g>\n   <g id=\"PathCollection_32\">\n    <g clip-path=\"url(#p1999ea03a2)\">\n     <use style=\"fill:#ff7f0e;stroke:#ff7f0e;\" x=\"355.987146\" xlink:href=\"#ma758ce5bbe\" y=\"347.09773\"/>\n    </g>\n   </g>\n   <g id=\"PathCollection_33\">\n    <g clip-path=\"url(#p1999ea03a2)\">\n     <use style=\"fill:#2ca02c;stroke:#2ca02c;\" x=\"209.349577\" xlink:href=\"#m75faa6368b\" y=\"277.346925\"/>\n    </g>\n   </g>\n   <g id=\"PathCollection_34\">\n    <g clip-path=\"url(#p1999ea03a2)\">\n     <use style=\"fill:#d62728;stroke:#d62728;\" x=\"266.464223\" xlink:href=\"#mcb80537547\" y=\"31.909091\"/>\n    </g>\n   </g>\n   <g id=\"PathCollection_35\">\n    <g clip-path=\"url(#p1999ea03a2)\">\n     <use style=\"fill:#9467bd;stroke:#9467bd;\" x=\"313.784534\" xlink:href=\"#m1461c9f057\" y=\"367.067013\"/>\n    </g>\n   </g>\n   <g id=\"PathCollection_36\">\n    <g clip-path=\"url(#p1999ea03a2)\">\n     <use style=\"fill:#8c564b;stroke:#8c564b;\" x=\"384.60013\" xlink:href=\"#me0703603ad\" y=\"234.527577\"/>\n    </g>\n   </g>\n   <g id=\"PathCollection_37\">\n    <g clip-path=\"url(#p1999ea03a2)\">\n     <use style=\"fill:#e377c2;stroke:#e377c2;\" x=\"198.148964\" xlink:href=\"#m1f3cfc781a\" y=\"260.299104\"/>\n    </g>\n   </g>\n   <g id=\"PathCollection_38\">\n    <g clip-path=\"url(#p1999ea03a2)\">\n     <use style=\"fill:#7f7f7f;stroke:#7f7f7f;\" x=\"283.308467\" xlink:href=\"#m8bf14bbf8b\" y=\"75.617788\"/>\n    </g>\n   </g>\n   <g id=\"PathCollection_39\">\n    <g clip-path=\"url(#p1999ea03a2)\">\n     <use style=\"fill:#bcbd22;stroke:#bcbd22;\" x=\"161.074235\" xlink:href=\"#me4b30a87db\" y=\"339.282569\"/>\n    </g>\n   </g>\n   <g id=\"PathCollection_40\">\n    <g clip-path=\"url(#p1999ea03a2)\">\n     <use style=\"fill:#17becf;stroke:#17becf;\" x=\"533.026699\" xlink:href=\"#m4137afe0ea\" y=\"288.454891\"/>\n    </g>\n   </g>\n   <g id=\"PathCollection_41\">\n    <g clip-path=\"url(#p1999ea03a2)\">\n     <use style=\"fill:#1f77b4;stroke:#1f77b4;\" x=\"396.637778\" xlink:href=\"#m9cf0813ca0\" y=\"272.165465\"/>\n    </g>\n   </g>\n   <g id=\"PathCollection_42\">\n    <g clip-path=\"url(#p1999ea03a2)\">\n     <use style=\"fill:#ff7f0e;stroke:#ff7f0e;\" x=\"287.45693\" xlink:href=\"#ma758ce5bbe\" y=\"301.10542\"/>\n    </g>\n   </g>\n   <g id=\"PathCollection_43\">\n    <g clip-path=\"url(#p1999ea03a2)\">\n     <use style=\"fill:#2ca02c;stroke:#2ca02c;\" x=\"178.914082\" xlink:href=\"#m75faa6368b\" y=\"58.332707\"/>\n    </g>\n   </g>\n   <g id=\"PathCollection_44\">\n    <g clip-path=\"url(#p1999ea03a2)\">\n     <use style=\"fill:#d62728;stroke:#d62728;\" x=\"298.851587\" xlink:href=\"#mcb80537547\" y=\"429.147644\"/>\n    </g>\n   </g>\n   <g id=\"PathCollection_45\">\n    <g clip-path=\"url(#p1999ea03a2)\">\n     <use style=\"fill:#9467bd;stroke:#9467bd;\" x=\"284.821753\" xlink:href=\"#m1461c9f057\" y=\"214.422658\"/>\n    </g>\n   </g>\n   <g id=\"PathCollection_46\">\n    <g clip-path=\"url(#p1999ea03a2)\">\n     <use style=\"fill:#8c564b;stroke:#8c564b;\" x=\"360.694372\" xlink:href=\"#me0703603ad\" y=\"471.335738\"/>\n    </g>\n   </g>\n   <g id=\"PathCollection_47\">\n    <g clip-path=\"url(#p1999ea03a2)\">\n     <use style=\"fill:#e377c2;stroke:#e377c2;\" x=\"410.247388\" xlink:href=\"#m1f3cfc781a\" y=\"149.311296\"/>\n    </g>\n   </g>\n   <g id=\"PathCollection_48\">\n    <g clip-path=\"url(#p1999ea03a2)\">\n     <use style=\"fill:#7f7f7f;stroke:#7f7f7f;\" x=\"428.949273\" xlink:href=\"#m8bf14bbf8b\" y=\"214.815321\"/>\n    </g>\n   </g>\n   <g id=\"PathCollection_49\">\n    <g clip-path=\"url(#p1999ea03a2)\">\n     <use style=\"fill:#bcbd22;stroke:#bcbd22;\" x=\"54.305824\" xlink:href=\"#me4b30a87db\" y=\"304.88161\"/>\n    </g>\n   </g>\n   <g id=\"PathCollection_50\">\n    <g clip-path=\"url(#p1999ea03a2)\">\n     <use style=\"fill:#17becf;stroke:#17becf;\" x=\"310.4568\" xlink:href=\"#m4137afe0ea\" y=\"283.251572\"/>\n    </g>\n   </g>\n   <g id=\"PathCollection_51\">\n    <g clip-path=\"url(#p1999ea03a2)\">\n     <use style=\"fill:#1f77b4;stroke:#1f77b4;\" x=\"281.054174\" xlink:href=\"#m9cf0813ca0\" y=\"198.665621\"/>\n    </g>\n   </g>\n   <g id=\"PathCollection_52\">\n    <g clip-path=\"url(#p1999ea03a2)\">\n     <use style=\"fill:#ff7f0e;stroke:#ff7f0e;\" x=\"349.250268\" xlink:href=\"#ma758ce5bbe\" y=\"378.068261\"/>\n    </g>\n   </g>\n   <g id=\"PathCollection_53\">\n    <g clip-path=\"url(#p1999ea03a2)\">\n     <use style=\"fill:#2ca02c;stroke:#2ca02c;\" x=\"235.720837\" xlink:href=\"#m75faa6368b\" y=\"317.459932\"/>\n    </g>\n   </g>\n   <g id=\"PathCollection_54\">\n    <g clip-path=\"url(#p1999ea03a2)\">\n     <use style=\"fill:#d62728;stroke:#d62728;\" x=\"327.16148\" xlink:href=\"#mcb80537547\" y=\"221.898188\"/>\n    </g>\n   </g>\n   <g id=\"PathCollection_55\">\n    <g clip-path=\"url(#p1999ea03a2)\">\n     <use style=\"fill:#9467bd;stroke:#9467bd;\" x=\"399.252182\" xlink:href=\"#m1461c9f057\" y=\"267.515867\"/>\n    </g>\n   </g>\n   <g id=\"PathCollection_56\">\n    <g clip-path=\"url(#p1999ea03a2)\">\n     <use style=\"fill:#8c564b;stroke:#8c564b;\" x=\"262.335606\" xlink:href=\"#me0703603ad\" y=\"250.456661\"/>\n    </g>\n   </g>\n   <g id=\"PathCollection_57\">\n    <g clip-path=\"url(#p1999ea03a2)\">\n     <use style=\"fill:#e377c2;stroke:#e377c2;\" x=\"529.763428\" xlink:href=\"#m1f3cfc781a\" y=\"164.526613\"/>\n    </g>\n   </g>\n   <g id=\"PathCollection_58\">\n    <g clip-path=\"url(#p1999ea03a2)\">\n     <use style=\"fill:#7f7f7f;stroke:#7f7f7f;\" x=\"114.457295\" xlink:href=\"#m8bf14bbf8b\" y=\"220.677316\"/>\n    </g>\n   </g>\n   <g id=\"PathCollection_59\">\n    <g clip-path=\"url(#p1999ea03a2)\">\n     <use style=\"fill:#bcbd22;stroke:#bcbd22;\" x=\"543.504552\" xlink:href=\"#me4b30a87db\" y=\"199.498397\"/>\n    </g>\n   </g>\n   <g id=\"PathCollection_60\">\n    <g clip-path=\"url(#p1999ea03a2)\">\n     <use style=\"fill:#17becf;stroke:#17becf;\" x=\"438.793058\" xlink:href=\"#m4137afe0ea\" y=\"437.436131\"/>\n    </g>\n   </g>\n   <g id=\"PathCollection_61\">\n    <g clip-path=\"url(#p1999ea03a2)\">\n     <use style=\"fill:#1f77b4;stroke:#1f77b4;\" x=\"441.745532\" xlink:href=\"#m9cf0813ca0\" y=\"186.233353\"/>\n    </g>\n   </g>\n   <g id=\"PathCollection_62\">\n    <g clip-path=\"url(#p1999ea03a2)\">\n     <use style=\"fill:#ff7f0e;stroke:#ff7f0e;\" x=\"459.531029\" xlink:href=\"#ma758ce5bbe\" y=\"240.256807\"/>\n    </g>\n   </g>\n   <g id=\"PathCollection_63\">\n    <g clip-path=\"url(#p1999ea03a2)\">\n     <use style=\"fill:#2ca02c;stroke:#2ca02c;\" x=\"333.197655\" xlink:href=\"#m75faa6368b\" y=\"108.675221\"/>\n    </g>\n   </g>\n   <g id=\"PathCollection_64\">\n    <g clip-path=\"url(#p1999ea03a2)\">\n     <use style=\"fill:#d62728;stroke:#d62728;\" x=\"371.088141\" xlink:href=\"#mcb80537547\" y=\"315.611097\"/>\n    </g>\n   </g>\n   <g id=\"PathCollection_65\">\n    <g clip-path=\"url(#p1999ea03a2)\">\n     <use style=\"fill:#9467bd;stroke:#9467bd;\" x=\"321.158648\" xlink:href=\"#m1461c9f057\" y=\"174.073488\"/>\n    </g>\n   </g>\n   <g id=\"PathCollection_66\">\n    <g clip-path=\"url(#p1999ea03a2)\">\n     <use style=\"fill:#8c564b;stroke:#8c564b;\" x=\"109.041721\" xlink:href=\"#me0703603ad\" y=\"224.627507\"/>\n    </g>\n   </g>\n   <g id=\"PathCollection_67\">\n    <g clip-path=\"url(#p1999ea03a2)\">\n     <use style=\"fill:#e377c2;stroke:#e377c2;\" x=\"174.204382\" xlink:href=\"#m1f3cfc781a\" y=\"222.959737\"/>\n    </g>\n   </g>\n   <g id=\"PathCollection_68\">\n    <g clip-path=\"url(#p1999ea03a2)\">\n     <use style=\"fill:#7f7f7f;stroke:#7f7f7f;\" x=\"273.147111\" xlink:href=\"#m8bf14bbf8b\" y=\"121.870814\"/>\n    </g>\n   </g>\n   <g id=\"PathCollection_69\">\n    <g clip-path=\"url(#p1999ea03a2)\">\n     <use style=\"fill:#bcbd22;stroke:#bcbd22;\" x=\"420.860964\" xlink:href=\"#me4b30a87db\" y=\"283.399158\"/>\n    </g>\n   </g>\n   <g id=\"PathCollection_70\">\n    <g clip-path=\"url(#p1999ea03a2)\">\n     <use style=\"fill:#17becf;stroke:#17becf;\" x=\"124.715708\" xlink:href=\"#m4137afe0ea\" y=\"239.782111\"/>\n    </g>\n   </g>\n   <g id=\"PathCollection_71\">\n    <g clip-path=\"url(#p1999ea03a2)\">\n     <use style=\"fill:#1f77b4;stroke:#1f77b4;\" x=\"343.554825\" xlink:href=\"#m9cf0813ca0\" y=\"526.090909\"/>\n    </g>\n   </g>\n   <g id=\"PathCollection_72\">\n    <g clip-path=\"url(#p1999ea03a2)\">\n     <use style=\"fill:#ff7f0e;stroke:#ff7f0e;\" x=\"225.779408\" xlink:href=\"#ma758ce5bbe\" y=\"269.355584\"/>\n    </g>\n   </g>\n   <g id=\"PathCollection_73\">\n    <g clip-path=\"url(#p1999ea03a2)\">\n     <use style=\"fill:#2ca02c;stroke:#2ca02c;\" x=\"268.577301\" xlink:href=\"#m75faa6368b\" y=\"434.048956\"/>\n    </g>\n   </g>\n   <g id=\"PathCollection_74\">\n    <g clip-path=\"url(#p1999ea03a2)\">\n     <use style=\"fill:#d62728;stroke:#d62728;\" x=\"500.84025\" xlink:href=\"#mcb80537547\" y=\"431.295895\"/>\n    </g>\n   </g>\n   <g id=\"PathCollection_75\">\n    <g clip-path=\"url(#p1999ea03a2)\">\n     <use style=\"fill:#9467bd;stroke:#9467bd;\" x=\"284.814036\" xlink:href=\"#m1461c9f057\" y=\"97.627518\"/>\n    </g>\n   </g>\n   <g id=\"PathCollection_76\">\n    <g clip-path=\"url(#p1999ea03a2)\">\n     <use style=\"fill:#8c564b;stroke:#8c564b;\" x=\"393.201187\" xlink:href=\"#me0703603ad\" y=\"77.855417\"/>\n    </g>\n   </g>\n   <g id=\"PathCollection_77\">\n    <g clip-path=\"url(#p1999ea03a2)\">\n     <use style=\"fill:#e377c2;stroke:#e377c2;\" x=\"283.389844\" xlink:href=\"#m1f3cfc781a\" y=\"147.827617\"/>\n    </g>\n   </g>\n   <g id=\"PathCollection_78\">\n    <g clip-path=\"url(#p1999ea03a2)\">\n     <use style=\"fill:#7f7f7f;stroke:#7f7f7f;\" x=\"217.517472\" xlink:href=\"#m8bf14bbf8b\" y=\"52.827497\"/>\n    </g>\n   </g>\n   <g id=\"PathCollection_79\">\n    <g clip-path=\"url(#p1999ea03a2)\">\n     <use style=\"fill:#bcbd22;stroke:#bcbd22;\" x=\"461.722985\" xlink:href=\"#me4b30a87db\" y=\"292.744422\"/>\n    </g>\n   </g>\n   <g id=\"PathCollection_80\">\n    <g clip-path=\"url(#p1999ea03a2)\">\n     <use style=\"fill:#17becf;stroke:#17becf;\" x=\"224.852377\" xlink:href=\"#m4137afe0ea\" y=\"292.467199\"/>\n    </g>\n   </g>\n   <g id=\"PathCollection_81\">\n    <g clip-path=\"url(#p1999ea03a2)\">\n     <use style=\"fill:#1f77b4;stroke:#1f77b4;\" x=\"359.826938\" xlink:href=\"#m9cf0813ca0\" y=\"222.562946\"/>\n    </g>\n   </g>\n   <g id=\"PathCollection_82\">\n    <g clip-path=\"url(#p1999ea03a2)\">\n     <use style=\"fill:#ff7f0e;stroke:#ff7f0e;\" x=\"368.681925\" xlink:href=\"#ma758ce5bbe\" y=\"419.227255\"/>\n    </g>\n   </g>\n   <g id=\"PathCollection_83\">\n    <g clip-path=\"url(#p1999ea03a2)\">\n     <use style=\"fill:#2ca02c;stroke:#2ca02c;\" x=\"282.681031\" xlink:href=\"#m75faa6368b\" y=\"208.279598\"/>\n    </g>\n   </g>\n   <g id=\"PathCollection_84\">\n    <g clip-path=\"url(#p1999ea03a2)\">\n     <use style=\"fill:#d62728;stroke:#d62728;\" x=\"215.808069\" xlink:href=\"#mcb80537547\" y=\"393.687234\"/>\n    </g>\n   </g>\n   <g id=\"PathCollection_85\">\n    <g clip-path=\"url(#p1999ea03a2)\">\n     <use style=\"fill:#9467bd;stroke:#9467bd;\" x=\"382.182524\" xlink:href=\"#m1461c9f057\" y=\"168.501967\"/>\n    </g>\n   </g>\n   <g id=\"PathCollection_86\">\n    <g clip-path=\"url(#p1999ea03a2)\">\n     <use style=\"fill:#8c564b;stroke:#8c564b;\" x=\"175.541383\" xlink:href=\"#me0703603ad\" y=\"385.812511\"/>\n    </g>\n   </g>\n   <g id=\"PathCollection_87\">\n    <g clip-path=\"url(#p1999ea03a2)\">\n     <use style=\"fill:#e377c2;stroke:#e377c2;\" x=\"145.389895\" xlink:href=\"#m1f3cfc781a\" y=\"322.940665\"/>\n    </g>\n   </g>\n   <g id=\"PathCollection_88\">\n    <g clip-path=\"url(#p1999ea03a2)\">\n     <use style=\"fill:#7f7f7f;stroke:#7f7f7f;\" x=\"369.394662\" xlink:href=\"#m8bf14bbf8b\" y=\"233.931578\"/>\n    </g>\n   </g>\n   <g id=\"PathCollection_89\">\n    <g clip-path=\"url(#p1999ea03a2)\">\n     <use style=\"fill:#bcbd22;stroke:#bcbd22;\" x=\"161.702469\" xlink:href=\"#me4b30a87db\" y=\"434.786654\"/>\n    </g>\n   </g>\n   <g id=\"PathCollection_90\">\n    <g clip-path=\"url(#p1999ea03a2)\">\n     <use style=\"fill:#17becf;stroke:#17becf;\" x=\"374.679396\" xlink:href=\"#m4137afe0ea\" y=\"126.314738\"/>\n    </g>\n   </g>\n   <g id=\"PathCollection_91\">\n    <g clip-path=\"url(#p1999ea03a2)\">\n     <use style=\"fill:#1f77b4;stroke:#1f77b4;\" x=\"419.729581\" xlink:href=\"#m9cf0813ca0\" y=\"381.445849\"/>\n    </g>\n   </g>\n   <g id=\"PathCollection_92\">\n    <g clip-path=\"url(#p1999ea03a2)\">\n     <use style=\"fill:#ff7f0e;stroke:#ff7f0e;\" x=\"344.667244\" xlink:href=\"#ma758ce5bbe\" y=\"209.658398\"/>\n    </g>\n   </g>\n   <g id=\"PathCollection_93\">\n    <g clip-path=\"url(#p1999ea03a2)\">\n     <use style=\"fill:#2ca02c;stroke:#2ca02c;\" x=\"248.568\" xlink:href=\"#m75faa6368b\" y=\"178.750621\"/>\n    </g>\n   </g>\n   <g id=\"PathCollection_94\">\n    <g clip-path=\"url(#p1999ea03a2)\">\n     <use style=\"fill:#d62728;stroke:#d62728;\" x=\"306.616921\" xlink:href=\"#mcb80537547\" y=\"205.456828\"/>\n    </g>\n   </g>\n   <g id=\"PathCollection_95\">\n    <g clip-path=\"url(#p1999ea03a2)\">\n     <use style=\"fill:#9467bd;stroke:#9467bd;\" x=\"261.8381\" xlink:href=\"#m1461c9f057\" y=\"502.471179\"/>\n    </g>\n   </g>\n   <g id=\"PathCollection_96\">\n    <g clip-path=\"url(#p1999ea03a2)\">\n     <use style=\"fill:#8c564b;stroke:#8c564b;\" x=\"351.936272\" xlink:href=\"#me0703603ad\" y=\"237.337743\"/>\n    </g>\n   </g>\n   <g id=\"PathCollection_97\">\n    <g clip-path=\"url(#p1999ea03a2)\">\n     <use style=\"fill:#e377c2;stroke:#e377c2;\" x=\"358.0085\" xlink:href=\"#m1f3cfc781a\" y=\"364.205327\"/>\n    </g>\n   </g>\n   <g id=\"matplotlib.axis_1\">\n    <g id=\"xtick_1\">\n     <g id=\"line2d_1\">\n      <defs>\n       <path d=\"M 0 0 \nL 0 3.5 \n\" id=\"mc359a66006\" style=\"stroke:#000000;stroke-width:0.8;\"/>\n      </defs>\n      <g>\n       <use style=\"stroke:#000000;stroke-width:0.8;\" x=\"96.921348\" xlink:href=\"#mc359a66006\" y=\"550.8\"/>\n      </g>\n     </g>\n     <g id=\"text_1\">\n      <!-- −1 -->\n      <g transform=\"translate(89.550254 565.398438)scale(0.1 -0.1)\">\n       <defs>\n        <path d=\"M 10.59375 35.5 \nL 73.1875 35.5 \nL 73.1875 27.203125 \nL 10.59375 27.203125 \nz\n\" id=\"DejaVuSans-8722\"/>\n        <path d=\"M 12.40625 8.296875 \nL 28.515625 8.296875 \nL 28.515625 63.921875 \nL 10.984375 60.40625 \nL 10.984375 69.390625 \nL 28.421875 72.90625 \nL 38.28125 72.90625 \nL 38.28125 8.296875 \nL 54.390625 8.296875 \nL 54.390625 0 \nL 12.40625 0 \nz\n\" id=\"DejaVuSans-49\"/>\n       </defs>\n       <use xlink:href=\"#DejaVuSans-8722\"/>\n       <use x=\"83.789062\" xlink:href=\"#DejaVuSans-49\"/>\n      </g>\n     </g>\n    </g>\n    <g id=\"xtick_2\">\n     <g id=\"line2d_2\">\n      <g>\n       <use style=\"stroke:#000000;stroke-width:0.8;\" x=\"188.871506\" xlink:href=\"#mc359a66006\" y=\"550.8\"/>\n      </g>\n     </g>\n     <g id=\"text_2\">\n      <!-- 0 -->\n      <g transform=\"translate(185.690256 565.398438)scale(0.1 -0.1)\">\n       <defs>\n        <path d=\"M 31.78125 66.40625 \nQ 24.171875 66.40625 20.328125 58.90625 \nQ 16.5 51.421875 16.5 36.375 \nQ 16.5 21.390625 20.328125 13.890625 \nQ 24.171875 6.390625 31.78125 6.390625 \nQ 39.453125 6.390625 43.28125 13.890625 \nQ 47.125 21.390625 47.125 36.375 \nQ 47.125 51.421875 43.28125 58.90625 \nQ 39.453125 66.40625 31.78125 66.40625 \nz\nM 31.78125 74.21875 \nQ 44.046875 74.21875 50.515625 64.515625 \nQ 56.984375 54.828125 56.984375 36.375 \nQ 56.984375 17.96875 50.515625 8.265625 \nQ 44.046875 -1.421875 31.78125 -1.421875 \nQ 19.53125 -1.421875 13.0625 8.265625 \nQ 6.59375 17.96875 6.59375 36.375 \nQ 6.59375 54.828125 13.0625 64.515625 \nQ 19.53125 74.21875 31.78125 74.21875 \nz\n\" id=\"DejaVuSans-48\"/>\n       </defs>\n       <use xlink:href=\"#DejaVuSans-48\"/>\n      </g>\n     </g>\n    </g>\n    <g id=\"xtick_3\">\n     <g id=\"line2d_3\">\n      <g>\n       <use style=\"stroke:#000000;stroke-width:0.8;\" x=\"280.821663\" xlink:href=\"#mc359a66006\" y=\"550.8\"/>\n      </g>\n     </g>\n     <g id=\"text_3\">\n      <!-- 1 -->\n      <g transform=\"translate(277.640413 565.398438)scale(0.1 -0.1)\">\n       <use xlink:href=\"#DejaVuSans-49\"/>\n      </g>\n     </g>\n    </g>\n    <g id=\"xtick_4\">\n     <g id=\"line2d_4\">\n      <g>\n       <use style=\"stroke:#000000;stroke-width:0.8;\" x=\"372.771821\" xlink:href=\"#mc359a66006\" y=\"550.8\"/>\n      </g>\n     </g>\n     <g id=\"text_4\">\n      <!-- 2 -->\n      <g transform=\"translate(369.590571 565.398438)scale(0.1 -0.1)\">\n       <defs>\n        <path d=\"M 19.1875 8.296875 \nL 53.609375 8.296875 \nL 53.609375 0 \nL 7.328125 0 \nL 7.328125 8.296875 \nQ 12.9375 14.109375 22.625 23.890625 \nQ 32.328125 33.6875 34.8125 36.53125 \nQ 39.546875 41.84375 41.421875 45.53125 \nQ 43.3125 49.21875 43.3125 52.78125 \nQ 43.3125 58.59375 39.234375 62.25 \nQ 35.15625 65.921875 28.609375 65.921875 \nQ 23.96875 65.921875 18.8125 64.3125 \nQ 13.671875 62.703125 7.8125 59.421875 \nL 7.8125 69.390625 \nQ 13.765625 71.78125 18.9375 73 \nQ 24.125 74.21875 28.421875 74.21875 \nQ 39.75 74.21875 46.484375 68.546875 \nQ 53.21875 62.890625 53.21875 53.421875 \nQ 53.21875 48.921875 51.53125 44.890625 \nQ 49.859375 40.875 45.40625 35.40625 \nQ 44.1875 33.984375 37.640625 27.21875 \nQ 31.109375 20.453125 19.1875 8.296875 \nz\n\" id=\"DejaVuSans-50\"/>\n       </defs>\n       <use xlink:href=\"#DejaVuSans-50\"/>\n      </g>\n     </g>\n    </g>\n    <g id=\"xtick_5\">\n     <g id=\"line2d_5\">\n      <g>\n       <use style=\"stroke:#000000;stroke-width:0.8;\" x=\"464.721978\" xlink:href=\"#mc359a66006\" y=\"550.8\"/>\n      </g>\n     </g>\n     <g id=\"text_5\">\n      <!-- 3 -->\n      <g transform=\"translate(461.540728 565.398438)scale(0.1 -0.1)\">\n       <defs>\n        <path d=\"M 40.578125 39.3125 \nQ 47.65625 37.796875 51.625 33 \nQ 55.609375 28.21875 55.609375 21.1875 \nQ 55.609375 10.40625 48.1875 4.484375 \nQ 40.765625 -1.421875 27.09375 -1.421875 \nQ 22.515625 -1.421875 17.65625 -0.515625 \nQ 12.796875 0.390625 7.625 2.203125 \nL 7.625 11.71875 \nQ 11.71875 9.328125 16.59375 8.109375 \nQ 21.484375 6.890625 26.8125 6.890625 \nQ 36.078125 6.890625 40.9375 10.546875 \nQ 45.796875 14.203125 45.796875 21.1875 \nQ 45.796875 27.640625 41.28125 31.265625 \nQ 36.765625 34.90625 28.71875 34.90625 \nL 20.21875 34.90625 \nL 20.21875 43.015625 \nL 29.109375 43.015625 \nQ 36.375 43.015625 40.234375 45.921875 \nQ 44.09375 48.828125 44.09375 54.296875 \nQ 44.09375 59.90625 40.109375 62.90625 \nQ 36.140625 65.921875 28.71875 65.921875 \nQ 24.65625 65.921875 20.015625 65.03125 \nQ 15.375 64.15625 9.8125 62.3125 \nL 9.8125 71.09375 \nQ 15.4375 72.65625 20.34375 73.4375 \nQ 25.25 74.21875 29.59375 74.21875 \nQ 40.828125 74.21875 47.359375 69.109375 \nQ 53.90625 64.015625 53.90625 55.328125 \nQ 53.90625 49.265625 50.4375 45.09375 \nQ 46.96875 40.921875 40.578125 39.3125 \nz\n\" id=\"DejaVuSans-51\"/>\n       </defs>\n       <use xlink:href=\"#DejaVuSans-51\"/>\n      </g>\n     </g>\n    </g>\n    <g id=\"xtick_6\">\n     <g id=\"line2d_6\">\n      <g>\n       <use style=\"stroke:#000000;stroke-width:0.8;\" x=\"556.672136\" xlink:href=\"#mc359a66006\" y=\"550.8\"/>\n      </g>\n     </g>\n     <g id=\"text_6\">\n      <!-- 4 -->\n      <g transform=\"translate(553.490886 565.398438)scale(0.1 -0.1)\">\n       <defs>\n        <path d=\"M 37.796875 64.3125 \nL 12.890625 25.390625 \nL 37.796875 25.390625 \nz\nM 35.203125 72.90625 \nL 47.609375 72.90625 \nL 47.609375 25.390625 \nL 58.015625 25.390625 \nL 58.015625 17.1875 \nL 47.609375 17.1875 \nL 47.609375 0 \nL 37.796875 0 \nL 37.796875 17.1875 \nL 4.890625 17.1875 \nL 4.890625 26.703125 \nz\n\" id=\"DejaVuSans-52\"/>\n       </defs>\n       <use xlink:href=\"#DejaVuSans-52\"/>\n      </g>\n     </g>\n    </g>\n   </g>\n   <g id=\"matplotlib.axis_2\">\n    <g id=\"ytick_1\">\n     <g id=\"line2d_7\">\n      <defs>\n       <path d=\"M 0 0 \nL -3.5 0 \n\" id=\"mba1a590f26\" style=\"stroke:#000000;stroke-width:0.8;\"/>\n      </defs>\n      <g>\n       <use style=\"stroke:#000000;stroke-width:0.8;\" x=\"28.942188\" xlink:href=\"#mba1a590f26\" y=\"482.076972\"/>\n      </g>\n     </g>\n     <g id=\"text_7\">\n      <!-- −1 -->\n      <g transform=\"translate(7.2 485.876191)scale(0.1 -0.1)\">\n       <use xlink:href=\"#DejaVuSans-8722\"/>\n       <use x=\"83.789062\" xlink:href=\"#DejaVuSans-49\"/>\n      </g>\n     </g>\n    </g>\n    <g id=\"ytick_2\">\n     <g id=\"line2d_8\">\n      <g>\n       <use style=\"stroke:#000000;stroke-width:0.8;\" x=\"28.942188\" xlink:href=\"#mba1a590f26\" y=\"389.981215\"/>\n      </g>\n     </g>\n     <g id=\"text_8\">\n      <!-- 0 -->\n      <g transform=\"translate(15.579688 393.780434)scale(0.1 -0.1)\">\n       <use xlink:href=\"#DejaVuSans-48\"/>\n      </g>\n     </g>\n    </g>\n    <g id=\"ytick_3\">\n     <g id=\"line2d_9\">\n      <g>\n       <use style=\"stroke:#000000;stroke-width:0.8;\" x=\"28.942188\" xlink:href=\"#mba1a590f26\" y=\"297.885458\"/>\n      </g>\n     </g>\n     <g id=\"text_9\">\n      <!-- 1 -->\n      <g transform=\"translate(15.579688 301.684677)scale(0.1 -0.1)\">\n       <use xlink:href=\"#DejaVuSans-49\"/>\n      </g>\n     </g>\n    </g>\n    <g id=\"ytick_4\">\n     <g id=\"line2d_10\">\n      <g>\n       <use style=\"stroke:#000000;stroke-width:0.8;\" x=\"28.942188\" xlink:href=\"#mba1a590f26\" y=\"205.789701\"/>\n      </g>\n     </g>\n     <g id=\"text_10\">\n      <!-- 2 -->\n      <g transform=\"translate(15.579688 209.58892)scale(0.1 -0.1)\">\n       <use xlink:href=\"#DejaVuSans-50\"/>\n      </g>\n     </g>\n    </g>\n    <g id=\"ytick_5\">\n     <g id=\"line2d_11\">\n      <g>\n       <use style=\"stroke:#000000;stroke-width:0.8;\" x=\"28.942188\" xlink:href=\"#mba1a590f26\" y=\"113.693945\"/>\n      </g>\n     </g>\n     <g id=\"text_11\">\n      <!-- 3 -->\n      <g transform=\"translate(15.579688 117.493163)scale(0.1 -0.1)\">\n       <use xlink:href=\"#DejaVuSans-51\"/>\n      </g>\n     </g>\n    </g>\n    <g id=\"ytick_6\">\n     <g id=\"line2d_12\">\n      <g>\n       <use style=\"stroke:#000000;stroke-width:0.8;\" x=\"28.942188\" xlink:href=\"#mba1a590f26\" y=\"21.598188\"/>\n      </g>\n     </g>\n     <g id=\"text_12\">\n      <!-- 4 -->\n      <g transform=\"translate(15.579688 25.397407)scale(0.1 -0.1)\">\n       <use xlink:href=\"#DejaVuSans-52\"/>\n      </g>\n     </g>\n    </g>\n   </g>\n   <g id=\"patch_3\">\n    <path d=\"M 28.942188 550.8 \nL 28.942188 7.2 \n\" style=\"fill:none;stroke:#000000;stroke-linecap:square;stroke-linejoin:miter;stroke-width:0.8;\"/>\n   </g>\n   <g id=\"patch_4\">\n    <path d=\"M 586.942188 550.8 \nL 586.942188 7.2 \n\" style=\"fill:none;stroke:#000000;stroke-linecap:square;stroke-linejoin:miter;stroke-width:0.8;\"/>\n   </g>\n   <g id=\"patch_5\">\n    <path d=\"M 28.942187 550.8 \nL 586.942187 550.8 \n\" style=\"fill:none;stroke:#000000;stroke-linecap:square;stroke-linejoin:miter;stroke-width:0.8;\"/>\n   </g>\n   <g id=\"patch_6\">\n    <path d=\"M 28.942187 7.2 \nL 586.942187 7.2 \n\" style=\"fill:none;stroke:#000000;stroke-linecap:square;stroke-linejoin:miter;stroke-width:0.8;\"/>\n   </g>\n   <g id=\"text_13\">\n    <!-- more -->\n    <g transform=\"translate(372.885365 278.772217)scale(0.1 -0.1)\">\n     <defs>\n      <path d=\"M 52 44.1875 \nQ 55.375 50.25 60.0625 53.125 \nQ 64.75 56 71.09375 56 \nQ 79.640625 56 84.28125 50.015625 \nQ 88.921875 44.046875 88.921875 33.015625 \nL 88.921875 0 \nL 79.890625 0 \nL 79.890625 32.71875 \nQ 79.890625 40.578125 77.09375 44.375 \nQ 74.3125 48.1875 68.609375 48.1875 \nQ 61.625 48.1875 57.5625 43.546875 \nQ 53.515625 38.921875 53.515625 30.90625 \nL 53.515625 0 \nL 44.484375 0 \nL 44.484375 32.71875 \nQ 44.484375 40.625 41.703125 44.40625 \nQ 38.921875 48.1875 33.109375 48.1875 \nQ 26.21875 48.1875 22.15625 43.53125 \nQ 18.109375 38.875 18.109375 30.90625 \nL 18.109375 0 \nL 9.078125 0 \nL 9.078125 54.6875 \nL 18.109375 54.6875 \nL 18.109375 46.1875 \nQ 21.1875 51.21875 25.484375 53.609375 \nQ 29.78125 56 35.6875 56 \nQ 41.65625 56 45.828125 52.96875 \nQ 50 49.953125 52 44.1875 \nz\n\" id=\"DejaVuSans-109\"/>\n      <path d=\"M 30.609375 48.390625 \nQ 23.390625 48.390625 19.1875 42.75 \nQ 14.984375 37.109375 14.984375 27.296875 \nQ 14.984375 17.484375 19.15625 11.84375 \nQ 23.34375 6.203125 30.609375 6.203125 \nQ 37.796875 6.203125 41.984375 11.859375 \nQ 46.1875 17.53125 46.1875 27.296875 \nQ 46.1875 37.015625 41.984375 42.703125 \nQ 37.796875 48.390625 30.609375 48.390625 \nz\nM 30.609375 56 \nQ 42.328125 56 49.015625 48.375 \nQ 55.71875 40.765625 55.71875 27.296875 \nQ 55.71875 13.875 49.015625 6.21875 \nQ 42.328125 -1.421875 30.609375 -1.421875 \nQ 18.84375 -1.421875 12.171875 6.21875 \nQ 5.515625 13.875 5.515625 27.296875 \nQ 5.515625 40.765625 12.171875 48.375 \nQ 18.84375 56 30.609375 56 \nz\n\" id=\"DejaVuSans-111\"/>\n      <path d=\"M 41.109375 46.296875 \nQ 39.59375 47.171875 37.8125 47.578125 \nQ 36.03125 48 33.890625 48 \nQ 26.265625 48 22.1875 43.046875 \nQ 18.109375 38.09375 18.109375 28.8125 \nL 18.109375 0 \nL 9.078125 0 \nL 9.078125 54.6875 \nL 18.109375 54.6875 \nL 18.109375 46.1875 \nQ 20.953125 51.171875 25.484375 53.578125 \nQ 30.03125 56 36.53125 56 \nQ 37.453125 56 38.578125 55.875 \nQ 39.703125 55.765625 41.0625 55.515625 \nz\n\" id=\"DejaVuSans-114\"/>\n      <path d=\"M 56.203125 29.59375 \nL 56.203125 25.203125 \nL 14.890625 25.203125 \nQ 15.484375 15.921875 20.484375 11.0625 \nQ 25.484375 6.203125 34.421875 6.203125 \nQ 39.59375 6.203125 44.453125 7.46875 \nQ 49.3125 8.734375 54.109375 11.28125 \nL 54.109375 2.78125 \nQ 49.265625 0.734375 44.1875 -0.34375 \nQ 39.109375 -1.421875 33.890625 -1.421875 \nQ 20.796875 -1.421875 13.15625 6.1875 \nQ 5.515625 13.8125 5.515625 26.8125 \nQ 5.515625 40.234375 12.765625 48.109375 \nQ 20.015625 56 32.328125 56 \nQ 43.359375 56 49.78125 48.890625 \nQ 56.203125 41.796875 56.203125 29.59375 \nz\nM 47.21875 32.234375 \nQ 47.125 39.59375 43.09375 43.984375 \nQ 39.0625 48.390625 32.421875 48.390625 \nQ 24.90625 48.390625 20.390625 44.140625 \nQ 15.875 39.890625 15.1875 32.171875 \nz\n\" id=\"DejaVuSans-101\"/>\n     </defs>\n     <use xlink:href=\"#DejaVuSans-109\"/>\n     <use x=\"97.412109\" xlink:href=\"#DejaVuSans-111\"/>\n     <use x=\"158.59375\" xlink:href=\"#DejaVuSans-114\"/>\n     <use x=\"197.457031\" xlink:href=\"#DejaVuSans-101\"/>\n    </g>\n   </g>\n   <g id=\"text_14\">\n    <!-- field, -->\n    <g transform=\"translate(222.292027 201.026614)scale(0.1 -0.1)\">\n     <defs>\n      <path d=\"M 37.109375 75.984375 \nL 37.109375 68.5 \nL 28.515625 68.5 \nQ 23.6875 68.5 21.796875 66.546875 \nQ 19.921875 64.59375 19.921875 59.515625 \nL 19.921875 54.6875 \nL 34.71875 54.6875 \nL 34.71875 47.703125 \nL 19.921875 47.703125 \nL 19.921875 0 \nL 10.890625 0 \nL 10.890625 47.703125 \nL 2.296875 47.703125 \nL 2.296875 54.6875 \nL 10.890625 54.6875 \nL 10.890625 58.5 \nQ 10.890625 67.625 15.140625 71.796875 \nQ 19.390625 75.984375 28.609375 75.984375 \nz\n\" id=\"DejaVuSans-102\"/>\n      <path d=\"M 9.421875 54.6875 \nL 18.40625 54.6875 \nL 18.40625 0 \nL 9.421875 0 \nz\nM 9.421875 75.984375 \nL 18.40625 75.984375 \nL 18.40625 64.59375 \nL 9.421875 64.59375 \nz\n\" id=\"DejaVuSans-105\"/>\n      <path d=\"M 9.421875 75.984375 \nL 18.40625 75.984375 \nL 18.40625 0 \nL 9.421875 0 \nz\n\" id=\"DejaVuSans-108\"/>\n      <path d=\"M 45.40625 46.390625 \nL 45.40625 75.984375 \nL 54.390625 75.984375 \nL 54.390625 0 \nL 45.40625 0 \nL 45.40625 8.203125 \nQ 42.578125 3.328125 38.25 0.953125 \nQ 33.9375 -1.421875 27.875 -1.421875 \nQ 17.96875 -1.421875 11.734375 6.484375 \nQ 5.515625 14.40625 5.515625 27.296875 \nQ 5.515625 40.1875 11.734375 48.09375 \nQ 17.96875 56 27.875 56 \nQ 33.9375 56 38.25 53.625 \nQ 42.578125 51.265625 45.40625 46.390625 \nz\nM 14.796875 27.296875 \nQ 14.796875 17.390625 18.875 11.75 \nQ 22.953125 6.109375 30.078125 6.109375 \nQ 37.203125 6.109375 41.296875 11.75 \nQ 45.40625 17.390625 45.40625 27.296875 \nQ 45.40625 37.203125 41.296875 42.84375 \nQ 37.203125 48.484375 30.078125 48.484375 \nQ 22.953125 48.484375 18.875 42.84375 \nQ 14.796875 37.203125 14.796875 27.296875 \nz\n\" id=\"DejaVuSans-100\"/>\n      <path d=\"M 11.71875 12.40625 \nL 22.015625 12.40625 \nL 22.015625 4 \nL 14.015625 -11.625 \nL 7.71875 -11.625 \nL 11.71875 4 \nz\n\" id=\"DejaVuSans-44\"/>\n     </defs>\n     <use xlink:href=\"#DejaVuSans-102\"/>\n     <use x=\"35.205078\" xlink:href=\"#DejaVuSans-105\"/>\n     <use x=\"62.988281\" xlink:href=\"#DejaVuSans-101\"/>\n     <use x=\"124.511719\" xlink:href=\"#DejaVuSans-108\"/>\n     <use x=\"152.294922\" xlink:href=\"#DejaVuSans-100\"/>\n     <use x=\"215.771484\" xlink:href=\"#DejaVuSans-44\"/>\n    </g>\n   </g>\n   <g id=\"text_15\">\n    <!-- asked, -->\n    <g transform=\"translate(325.096177 39.658788)scale(0.1 -0.1)\">\n     <defs>\n      <path d=\"M 34.28125 27.484375 \nQ 23.390625 27.484375 19.1875 25 \nQ 14.984375 22.515625 14.984375 16.5 \nQ 14.984375 11.71875 18.140625 8.90625 \nQ 21.296875 6.109375 26.703125 6.109375 \nQ 34.1875 6.109375 38.703125 11.40625 \nQ 43.21875 16.703125 43.21875 25.484375 \nL 43.21875 27.484375 \nz\nM 52.203125 31.203125 \nL 52.203125 0 \nL 43.21875 0 \nL 43.21875 8.296875 \nQ 40.140625 3.328125 35.546875 0.953125 \nQ 30.953125 -1.421875 24.3125 -1.421875 \nQ 15.921875 -1.421875 10.953125 3.296875 \nQ 6 8.015625 6 15.921875 \nQ 6 25.140625 12.171875 29.828125 \nQ 18.359375 34.515625 30.609375 34.515625 \nL 43.21875 34.515625 \nL 43.21875 35.40625 \nQ 43.21875 41.609375 39.140625 45 \nQ 35.0625 48.390625 27.6875 48.390625 \nQ 23 48.390625 18.546875 47.265625 \nQ 14.109375 46.140625 10.015625 43.890625 \nL 10.015625 52.203125 \nQ 14.9375 54.109375 19.578125 55.046875 \nQ 24.21875 56 28.609375 56 \nQ 40.484375 56 46.34375 49.84375 \nQ 52.203125 43.703125 52.203125 31.203125 \nz\n\" id=\"DejaVuSans-97\"/>\n      <path d=\"M 44.28125 53.078125 \nL 44.28125 44.578125 \nQ 40.484375 46.53125 36.375 47.5 \nQ 32.28125 48.484375 27.875 48.484375 \nQ 21.1875 48.484375 17.84375 46.4375 \nQ 14.5 44.390625 14.5 40.28125 \nQ 14.5 37.15625 16.890625 35.375 \nQ 19.28125 33.59375 26.515625 31.984375 \nL 29.59375 31.296875 \nQ 39.15625 29.25 43.1875 25.515625 \nQ 47.21875 21.78125 47.21875 15.09375 \nQ 47.21875 7.46875 41.1875 3.015625 \nQ 35.15625 -1.421875 24.609375 -1.421875 \nQ 20.21875 -1.421875 15.453125 -0.5625 \nQ 10.6875 0.296875 5.421875 2 \nL 5.421875 11.28125 \nQ 10.40625 8.6875 15.234375 7.390625 \nQ 20.0625 6.109375 24.8125 6.109375 \nQ 31.15625 6.109375 34.5625 8.28125 \nQ 37.984375 10.453125 37.984375 14.40625 \nQ 37.984375 18.0625 35.515625 20.015625 \nQ 33.0625 21.96875 24.703125 23.78125 \nL 21.578125 24.515625 \nQ 13.234375 26.265625 9.515625 29.90625 \nQ 5.8125 33.546875 5.8125 39.890625 \nQ 5.8125 47.609375 11.28125 51.796875 \nQ 16.75 56 26.8125 56 \nQ 31.78125 56 36.171875 55.265625 \nQ 40.578125 54.546875 44.28125 53.078125 \nz\n\" id=\"DejaVuSans-115\"/>\n      <path d=\"M 9.078125 75.984375 \nL 18.109375 75.984375 \nL 18.109375 31.109375 \nL 44.921875 54.6875 \nL 56.390625 54.6875 \nL 27.390625 29.109375 \nL 57.625 0 \nL 45.90625 0 \nL 18.109375 26.703125 \nL 18.109375 0 \nL 9.078125 0 \nz\n\" id=\"DejaVuSans-107\"/>\n     </defs>\n     <use xlink:href=\"#DejaVuSans-97\"/>\n     <use x=\"61.279297\" xlink:href=\"#DejaVuSans-115\"/>\n     <use x=\"113.378906\" xlink:href=\"#DejaVuSans-107\"/>\n     <use x=\"167.664062\" xlink:href=\"#DejaVuSans-101\"/>\n     <use x=\"229.1875\" xlink:href=\"#DejaVuSans-100\"/>\n     <use x=\"292.664062\" xlink:href=\"#DejaVuSans-44\"/>\n    </g>\n   </g>\n   <g id=\"text_16\">\n    <!-- thine! -->\n    <g transform=\"translate(537.042614 290.830189)scale(0.1 -0.1)\">\n     <defs>\n      <path d=\"M 18.3125 70.21875 \nL 18.3125 54.6875 \nL 36.8125 54.6875 \nL 36.8125 47.703125 \nL 18.3125 47.703125 \nL 18.3125 18.015625 \nQ 18.3125 11.328125 20.140625 9.421875 \nQ 21.96875 7.515625 27.59375 7.515625 \nL 36.8125 7.515625 \nL 36.8125 0 \nL 27.59375 0 \nQ 17.1875 0 13.234375 3.875 \nQ 9.28125 7.765625 9.28125 18.015625 \nL 9.28125 47.703125 \nL 2.6875 47.703125 \nL 2.6875 54.6875 \nL 9.28125 54.6875 \nL 9.28125 70.21875 \nz\n\" id=\"DejaVuSans-116\"/>\n      <path d=\"M 54.890625 33.015625 \nL 54.890625 0 \nL 45.90625 0 \nL 45.90625 32.71875 \nQ 45.90625 40.484375 42.875 44.328125 \nQ 39.84375 48.1875 33.796875 48.1875 \nQ 26.515625 48.1875 22.3125 43.546875 \nQ 18.109375 38.921875 18.109375 30.90625 \nL 18.109375 0 \nL 9.078125 0 \nL 9.078125 75.984375 \nL 18.109375 75.984375 \nL 18.109375 46.1875 \nQ 21.34375 51.125 25.703125 53.5625 \nQ 30.078125 56 35.796875 56 \nQ 45.21875 56 50.046875 50.171875 \nQ 54.890625 44.34375 54.890625 33.015625 \nz\n\" id=\"DejaVuSans-104\"/>\n      <path d=\"M 54.890625 33.015625 \nL 54.890625 0 \nL 45.90625 0 \nL 45.90625 32.71875 \nQ 45.90625 40.484375 42.875 44.328125 \nQ 39.84375 48.1875 33.796875 48.1875 \nQ 26.515625 48.1875 22.3125 43.546875 \nQ 18.109375 38.921875 18.109375 30.90625 \nL 18.109375 0 \nL 9.078125 0 \nL 9.078125 54.6875 \nL 18.109375 54.6875 \nL 18.109375 46.1875 \nQ 21.34375 51.125 25.703125 53.5625 \nQ 30.078125 56 35.796875 56 \nQ 45.21875 56 50.046875 50.171875 \nQ 54.890625 44.34375 54.890625 33.015625 \nz\n\" id=\"DejaVuSans-110\"/>\n      <path d=\"M 15.09375 12.40625 \nL 25 12.40625 \nL 25 0 \nL 15.09375 0 \nz\nM 15.09375 72.90625 \nL 25 72.90625 \nL 25 40.921875 \nL 24.03125 23.484375 \nL 16.109375 23.484375 \nL 15.09375 40.921875 \nz\n\" id=\"DejaVuSans-33\"/>\n     </defs>\n     <use xlink:href=\"#DejaVuSans-116\"/>\n     <use x=\"39.208984\" xlink:href=\"#DejaVuSans-104\"/>\n     <use x=\"102.587891\" xlink:href=\"#DejaVuSans-105\"/>\n     <use x=\"130.371094\" xlink:href=\"#DejaVuSans-110\"/>\n     <use x=\"193.75\" xlink:href=\"#DejaVuSans-101\"/>\n     <use x=\"255.273438\" xlink:href=\"#DejaVuSans-33\"/>\n    </g>\n   </g>\n   <g id=\"text_17\">\n    <!-- blood -->\n    <g transform=\"translate(508.933314 370.322102)scale(0.1 -0.1)\">\n     <defs>\n      <path d=\"M 48.6875 27.296875 \nQ 48.6875 37.203125 44.609375 42.84375 \nQ 40.53125 48.484375 33.40625 48.484375 \nQ 26.265625 48.484375 22.1875 42.84375 \nQ 18.109375 37.203125 18.109375 27.296875 \nQ 18.109375 17.390625 22.1875 11.75 \nQ 26.265625 6.109375 33.40625 6.109375 \nQ 40.53125 6.109375 44.609375 11.75 \nQ 48.6875 17.390625 48.6875 27.296875 \nz\nM 18.109375 46.390625 \nQ 20.953125 51.265625 25.265625 53.625 \nQ 29.59375 56 35.59375 56 \nQ 45.5625 56 51.78125 48.09375 \nQ 58.015625 40.1875 58.015625 27.296875 \nQ 58.015625 14.40625 51.78125 6.484375 \nQ 45.5625 -1.421875 35.59375 -1.421875 \nQ 29.59375 -1.421875 25.265625 0.953125 \nQ 20.953125 3.328125 18.109375 8.203125 \nL 18.109375 0 \nL 9.078125 0 \nL 9.078125 75.984375 \nL 18.109375 75.984375 \nz\n\" id=\"DejaVuSans-98\"/>\n     </defs>\n     <use xlink:href=\"#DejaVuSans-98\"/>\n     <use x=\"63.476562\" xlink:href=\"#DejaVuSans-108\"/>\n     <use x=\"91.259766\" xlink:href=\"#DejaVuSans-111\"/>\n     <use x=\"152.441406\" xlink:href=\"#DejaVuSans-111\"/>\n     <use x=\"213.623047\" xlink:href=\"#DejaVuSans-100\"/>\n    </g>\n   </g>\n   <g id=\"text_18\">\n    <!-- treasure -->\n    <g transform=\"translate(414.204227 116.334367)scale(0.1 -0.1)\">\n     <defs>\n      <path d=\"M 8.5 21.578125 \nL 8.5 54.6875 \nL 17.484375 54.6875 \nL 17.484375 21.921875 \nQ 17.484375 14.15625 20.5 10.265625 \nQ 23.53125 6.390625 29.59375 6.390625 \nQ 36.859375 6.390625 41.078125 11.03125 \nQ 45.3125 15.671875 45.3125 23.6875 \nL 45.3125 54.6875 \nL 54.296875 54.6875 \nL 54.296875 0 \nL 45.3125 0 \nL 45.3125 8.40625 \nQ 42.046875 3.421875 37.71875 1 \nQ 33.40625 -1.421875 27.6875 -1.421875 \nQ 18.265625 -1.421875 13.375 4.4375 \nQ 8.5 10.296875 8.5 21.578125 \nz\nM 31.109375 56 \nz\n\" id=\"DejaVuSans-117\"/>\n     </defs>\n     <use xlink:href=\"#DejaVuSans-116\"/>\n     <use x=\"39.208984\" xlink:href=\"#DejaVuSans-114\"/>\n     <use x=\"78.072266\" xlink:href=\"#DejaVuSans-101\"/>\n     <use x=\"139.595703\" xlink:href=\"#DejaVuSans-97\"/>\n     <use x=\"200.875\" xlink:href=\"#DejaVuSans-115\"/>\n     <use x=\"252.974609\" xlink:href=\"#DejaVuSans-117\"/>\n     <use x=\"316.353516\" xlink:href=\"#DejaVuSans-114\"/>\n     <use x=\"355.216797\" xlink:href=\"#DejaVuSans-101\"/>\n    </g>\n   </g>\n   <g id=\"text_19\">\n    <!-- praise -->\n    <g transform=\"translate(434.039384 359.3308)scale(0.1 -0.1)\">\n     <defs>\n      <path d=\"M 18.109375 8.203125 \nL 18.109375 -20.796875 \nL 9.078125 -20.796875 \nL 9.078125 54.6875 \nL 18.109375 54.6875 \nL 18.109375 46.390625 \nQ 20.953125 51.265625 25.265625 53.625 \nQ 29.59375 56 35.59375 56 \nQ 45.5625 56 51.78125 48.09375 \nQ 58.015625 40.1875 58.015625 27.296875 \nQ 58.015625 14.40625 51.78125 6.484375 \nQ 45.5625 -1.421875 35.59375 -1.421875 \nQ 29.59375 -1.421875 25.265625 0.953125 \nQ 20.953125 3.328125 18.109375 8.203125 \nz\nM 48.6875 27.296875 \nQ 48.6875 37.203125 44.609375 42.84375 \nQ 40.53125 48.484375 33.40625 48.484375 \nQ 26.265625 48.484375 22.1875 42.84375 \nQ 18.109375 37.203125 18.109375 27.296875 \nQ 18.109375 17.390625 22.1875 11.75 \nQ 26.265625 6.109375 33.40625 6.109375 \nQ 40.53125 6.109375 44.609375 11.75 \nQ 48.6875 17.390625 48.6875 27.296875 \nz\n\" id=\"DejaVuSans-112\"/>\n     </defs>\n     <use xlink:href=\"#DejaVuSans-112\"/>\n     <use x=\"63.476562\" xlink:href=\"#DejaVuSans-114\"/>\n     <use x=\"104.589844\" xlink:href=\"#DejaVuSans-97\"/>\n     <use x=\"165.869141\" xlink:href=\"#DejaVuSans-105\"/>\n     <use x=\"193.652344\" xlink:href=\"#DejaVuSans-115\"/>\n     <use x=\"245.751953\" xlink:href=\"#DejaVuSans-101\"/>\n    </g>\n   </g>\n   <g id=\"text_20\">\n    <!-- on -->\n    <g transform=\"translate(315.510171 328.120267)scale(0.1 -0.1)\">\n     <use xlink:href=\"#DejaVuSans-111\"/>\n     <use x=\"61.181641\" xlink:href=\"#DejaVuSans-110\"/>\n    </g>\n   </g>\n   <g id=\"text_21\">\n    <!-- when -->\n    <g transform=\"translate(252.508389 254.66296)scale(0.1 -0.1)\">\n     <defs>\n      <path d=\"M 4.203125 54.6875 \nL 13.1875 54.6875 \nL 24.421875 12.015625 \nL 35.59375 54.6875 \nL 46.1875 54.6875 \nL 57.421875 12.015625 \nL 68.609375 54.6875 \nL 77.59375 54.6875 \nL 63.28125 0 \nL 52.6875 0 \nL 40.921875 44.828125 \nL 29.109375 0 \nL 18.5 0 \nz\n\" id=\"DejaVuSans-119\"/>\n     </defs>\n     <use xlink:href=\"#DejaVuSans-119\"/>\n     <use x=\"81.787109\" xlink:href=\"#DejaVuSans-104\"/>\n     <use x=\"145.166016\" xlink:href=\"#DejaVuSans-101\"/>\n     <use x=\"206.689453\" xlink:href=\"#DejaVuSans-110\"/>\n    </g>\n   </g>\n   <g id=\"text_22\">\n    <!-- beauty -->\n    <g transform=\"translate(265.097872 398.912389)scale(0.1 -0.1)\">\n     <defs>\n      <path d=\"M 32.171875 -5.078125 \nQ 28.375 -14.84375 24.75 -17.8125 \nQ 21.140625 -20.796875 15.09375 -20.796875 \nL 7.90625 -20.796875 \nL 7.90625 -13.28125 \nL 13.1875 -13.28125 \nQ 16.890625 -13.28125 18.9375 -11.515625 \nQ 21 -9.765625 23.484375 -3.21875 \nL 25.09375 0.875 \nL 2.984375 54.6875 \nL 12.5 54.6875 \nL 29.59375 11.921875 \nL 46.6875 54.6875 \nL 56.203125 54.6875 \nz\n\" id=\"DejaVuSans-121\"/>\n     </defs>\n     <use xlink:href=\"#DejaVuSans-98\"/>\n     <use x=\"63.476562\" xlink:href=\"#DejaVuSans-101\"/>\n     <use x=\"125\" xlink:href=\"#DejaVuSans-97\"/>\n     <use x=\"186.279297\" xlink:href=\"#DejaVuSans-117\"/>\n     <use x=\"249.658203\" xlink:href=\"#DejaVuSans-116\"/>\n     <use x=\"288.867188\" xlink:href=\"#DejaVuSans-121\"/>\n    </g>\n   </g>\n   <g id=\"text_23\">\n    <!-- besiege -->\n    <g transform=\"translate(295.298801 302.042864)scale(0.1 -0.1)\">\n     <defs>\n      <path d=\"M 45.40625 27.984375 \nQ 45.40625 37.75 41.375 43.109375 \nQ 37.359375 48.484375 30.078125 48.484375 \nQ 22.859375 48.484375 18.828125 43.109375 \nQ 14.796875 37.75 14.796875 27.984375 \nQ 14.796875 18.265625 18.828125 12.890625 \nQ 22.859375 7.515625 30.078125 7.515625 \nQ 37.359375 7.515625 41.375 12.890625 \nQ 45.40625 18.265625 45.40625 27.984375 \nz\nM 54.390625 6.78125 \nQ 54.390625 -7.171875 48.1875 -13.984375 \nQ 42 -20.796875 29.203125 -20.796875 \nQ 24.46875 -20.796875 20.265625 -20.09375 \nQ 16.0625 -19.390625 12.109375 -17.921875 \nL 12.109375 -9.1875 \nQ 16.0625 -11.328125 19.921875 -12.34375 \nQ 23.78125 -13.375 27.78125 -13.375 \nQ 36.625 -13.375 41.015625 -8.765625 \nQ 45.40625 -4.15625 45.40625 5.171875 \nL 45.40625 9.625 \nQ 42.625 4.78125 38.28125 2.390625 \nQ 33.9375 0 27.875 0 \nQ 17.828125 0 11.671875 7.65625 \nQ 5.515625 15.328125 5.515625 27.984375 \nQ 5.515625 40.671875 11.671875 48.328125 \nQ 17.828125 56 27.875 56 \nQ 33.9375 56 38.28125 53.609375 \nQ 42.625 51.21875 45.40625 46.390625 \nL 45.40625 54.6875 \nL 54.390625 54.6875 \nz\n\" id=\"DejaVuSans-103\"/>\n     </defs>\n     <use xlink:href=\"#DejaVuSans-98\"/>\n     <use x=\"63.476562\" xlink:href=\"#DejaVuSans-101\"/>\n     <use x=\"125\" xlink:href=\"#DejaVuSans-115\"/>\n     <use x=\"177.099609\" xlink:href=\"#DejaVuSans-105\"/>\n     <use x=\"204.882812\" xlink:href=\"#DejaVuSans-101\"/>\n     <use x=\"266.40625\" xlink:href=\"#DejaVuSans-103\"/>\n     <use x=\"329.882812\" xlink:href=\"#DejaVuSans-101\"/>\n    </g>\n   </g>\n   <g id=\"text_24\">\n    <!-- much -->\n    <g transform=\"translate(193.336194 34.410413)scale(0.1 -0.1)\">\n     <defs>\n      <path d=\"M 48.78125 52.59375 \nL 48.78125 44.1875 \nQ 44.96875 46.296875 41.140625 47.34375 \nQ 37.3125 48.390625 33.40625 48.390625 \nQ 24.65625 48.390625 19.8125 42.84375 \nQ 14.984375 37.3125 14.984375 27.296875 \nQ 14.984375 17.28125 19.8125 11.734375 \nQ 24.65625 6.203125 33.40625 6.203125 \nQ 37.3125 6.203125 41.140625 7.25 \nQ 44.96875 8.296875 48.78125 10.40625 \nL 48.78125 2.09375 \nQ 45.015625 0.34375 40.984375 -0.53125 \nQ 36.96875 -1.421875 32.421875 -1.421875 \nQ 20.0625 -1.421875 12.78125 6.34375 \nQ 5.515625 14.109375 5.515625 27.296875 \nQ 5.515625 40.671875 12.859375 48.328125 \nQ 20.21875 56 33.015625 56 \nQ 37.15625 56 41.109375 55.140625 \nQ 45.0625 54.296875 48.78125 52.59375 \nz\n\" id=\"DejaVuSans-99\"/>\n     </defs>\n     <use xlink:href=\"#DejaVuSans-109\"/>\n     <use x=\"97.412109\" xlink:href=\"#DejaVuSans-117\"/>\n     <use x=\"160.791016\" xlink:href=\"#DejaVuSans-99\"/>\n     <use x=\"215.771484\" xlink:href=\"#DejaVuSans-104\"/>\n    </g>\n   </g>\n   <g id=\"text_25\">\n    <!-- in -->\n    <g transform=\"translate(137.764151 106.192711)scale(0.1 -0.1)\">\n     <use xlink:href=\"#DejaVuSans-105\"/>\n     <use x=\"27.783203\" xlink:href=\"#DejaVuSans-110\"/>\n    </g>\n   </g>\n   <g id=\"text_26\">\n    <!-- Were -->\n    <g transform=\"translate(365.276111 160.437615)scale(0.1 -0.1)\">\n     <defs>\n      <path d=\"M 3.328125 72.90625 \nL 13.28125 72.90625 \nL 28.609375 11.28125 \nL 43.890625 72.90625 \nL 54.984375 72.90625 \nL 70.3125 11.28125 \nL 85.59375 72.90625 \nL 95.609375 72.90625 \nL 77.296875 0 \nL 64.890625 0 \nL 49.515625 63.28125 \nL 33.984375 0 \nL 21.578125 0 \nz\n\" id=\"DejaVuSans-87\"/>\n     </defs>\n     <use xlink:href=\"#DejaVuSans-87\"/>\n     <use x=\"93.001953\" xlink:href=\"#DejaVuSans-101\"/>\n     <use x=\"154.525391\" xlink:href=\"#DejaVuSans-114\"/>\n     <use x=\"193.388672\" xlink:href=\"#DejaVuSans-101\"/>\n    </g>\n   </g>\n   <g id=\"text_27\">\n    <!-- excuse,' -->\n    <g transform=\"translate(250.112016 263.170089)scale(0.1 -0.1)\">\n     <defs>\n      <path d=\"M 54.890625 54.6875 \nL 35.109375 28.078125 \nL 55.90625 0 \nL 45.3125 0 \nL 29.390625 21.484375 \nL 13.484375 0 \nL 2.875 0 \nL 24.125 28.609375 \nL 4.6875 54.6875 \nL 15.28125 54.6875 \nL 29.78125 35.203125 \nL 44.28125 54.6875 \nz\n\" id=\"DejaVuSans-120\"/>\n      <path d=\"M 17.921875 72.90625 \nL 17.921875 45.796875 \nL 9.625 45.796875 \nL 9.625 72.90625 \nz\n\" id=\"DejaVuSans-39\"/>\n     </defs>\n     <use xlink:href=\"#DejaVuSans-101\"/>\n     <use x=\"59.773438\" xlink:href=\"#DejaVuSans-120\"/>\n     <use x=\"117.203125\" xlink:href=\"#DejaVuSans-99\"/>\n     <use x=\"172.183594\" xlink:href=\"#DejaVuSans-117\"/>\n     <use x=\"235.5625\" xlink:href=\"#DejaVuSans-115\"/>\n     <use x=\"287.662109\" xlink:href=\"#DejaVuSans-101\"/>\n     <use x=\"349.185547\" xlink:href=\"#DejaVuSans-44\"/>\n     <use x=\"380.972656\" xlink:href=\"#DejaVuSans-39\"/>\n    </g>\n   </g>\n   <g id=\"text_28\">\n    <!-- small -->\n    <g transform=\"translate(498.379228 276.045456)scale(0.1 -0.1)\">\n     <use xlink:href=\"#DejaVuSans-115\"/>\n     <use x=\"52.099609\" xlink:href=\"#DejaVuSans-109\"/>\n     <use x=\"149.511719\" xlink:href=\"#DejaVuSans-97\"/>\n     <use x=\"210.791016\" xlink:href=\"#DejaVuSans-108\"/>\n     <use x=\"238.574219\" xlink:href=\"#DejaVuSans-108\"/>\n    </g>\n   </g>\n   <g id=\"text_29\">\n    <!-- When -->\n    <g transform=\"translate(270.472219 314.112237)scale(0.1 -0.1)\">\n     <use xlink:href=\"#DejaVuSans-87\"/>\n     <use x=\"98.876953\" xlink:href=\"#DejaVuSans-104\"/>\n     <use x=\"162.255859\" xlink:href=\"#DejaVuSans-101\"/>\n     <use x=\"223.779297\" xlink:href=\"#DejaVuSans-110\"/>\n    </g>\n   </g>\n   <g id=\"text_30\">\n    <!-- were -->\n    <g transform=\"translate(299.623202 338.859339)scale(0.1 -0.1)\">\n     <use xlink:href=\"#DejaVuSans-119\"/>\n     <use x=\"81.787109\" xlink:href=\"#DejaVuSans-101\"/>\n     <use x=\"143.310547\" xlink:href=\"#DejaVuSans-114\"/>\n     <use x=\"182.173828\" xlink:href=\"#DejaVuSans-101\"/>\n    </g>\n   </g>\n   <g id=\"text_31\">\n    <!-- To -->\n    <g transform=\"translate(448.717563 209.246377)scale(0.1 -0.1)\">\n     <defs>\n      <path d=\"M -0.296875 72.90625 \nL 61.375 72.90625 \nL 61.375 64.59375 \nL 35.5 64.59375 \nL 35.5 0 \nL 25.59375 0 \nL 25.59375 64.59375 \nL -0.296875 64.59375 \nz\n\" id=\"DejaVuSans-84\"/>\n     </defs>\n     <use xlink:href=\"#DejaVuSans-84\"/>\n     <use x=\"44.083984\" xlink:href=\"#DejaVuSans-111\"/>\n    </g>\n   </g>\n   <g id=\"text_32\">\n    <!-- made -->\n    <g transform=\"translate(160.966446 187.460667)scale(0.1 -0.1)\">\n     <use xlink:href=\"#DejaVuSans-109\"/>\n     <use x=\"97.412109\" xlink:href=\"#DejaVuSans-97\"/>\n     <use x=\"158.691406\" xlink:href=\"#DejaVuSans-100\"/>\n     <use x=\"222.167969\" xlink:href=\"#DejaVuSans-101\"/>\n    </g>\n   </g>\n   <g id=\"text_33\">\n    <!-- by -->\n    <g transform=\"translate(445.535415 313.19661)scale(0.1 -0.1)\">\n     <use xlink:href=\"#DejaVuSans-98\"/>\n     <use x=\"63.476562\" xlink:href=\"#DejaVuSans-121\"/>\n    </g>\n   </g>\n   <g id=\"text_34\">\n    <!-- 'This -->\n    <g transform=\"translate(237.718295 415.788181)scale(0.1 -0.1)\">\n     <use xlink:href=\"#DejaVuSans-39\"/>\n     <use x=\"27.490234\" xlink:href=\"#DejaVuSans-84\"/>\n     <use x=\"88.574219\" xlink:href=\"#DejaVuSans-104\"/>\n     <use x=\"151.953125\" xlink:href=\"#DejaVuSans-105\"/>\n     <use x=\"179.736328\" xlink:href=\"#DejaVuSans-115\"/>\n    </g>\n   </g>\n   <g id=\"text_35\">\n    <!-- new -->\n    <g transform=\"translate(407.358213 369.769466)scale(0.1 -0.1)\">\n     <use xlink:href=\"#DejaVuSans-110\"/>\n     <use x=\"63.378906\" xlink:href=\"#DejaVuSans-101\"/>\n     <use x=\"124.902344\" xlink:href=\"#DejaVuSans-119\"/>\n    </g>\n   </g>\n   <g id=\"text_36\">\n    <!-- This -->\n    <g transform=\"translate(326.581279 277.873525)scale(0.1 -0.1)\">\n     <use xlink:href=\"#DejaVuSans-84\"/>\n     <use x=\"61.083984\" xlink:href=\"#DejaVuSans-104\"/>\n     <use x=\"124.462891\" xlink:href=\"#DejaVuSans-105\"/>\n     <use x=\"152.246094\" xlink:href=\"#DejaVuSans-115\"/>\n    </g>\n   </g>\n   <g id=\"text_37\">\n    <!-- to -->\n    <g transform=\"translate(189.411158 122.318927)scale(0.1 -0.1)\">\n     <use xlink:href=\"#DejaVuSans-116\"/>\n     <use x=\"39.208984\" xlink:href=\"#DejaVuSans-111\"/>\n    </g>\n   </g>\n   <g id=\"text_38\">\n    <!-- brow, -->\n    <g transform=\"translate(160.302855 309.461409)scale(0.1 -0.1)\">\n     <use xlink:href=\"#DejaVuSans-98\"/>\n     <use x=\"63.476562\" xlink:href=\"#DejaVuSans-114\"/>\n     <use x=\"102.339844\" xlink:href=\"#DejaVuSans-111\"/>\n     <use x=\"163.521484\" xlink:href=\"#DejaVuSans-119\"/>\n     <use x=\"245.308594\" xlink:href=\"#DejaVuSans-44\"/>\n    </g>\n   </g>\n   <g id=\"text_39\">\n    <!-- sum -->\n    <g transform=\"translate(195.275241 145.109241)scale(0.1 -0.1)\">\n     <use xlink:href=\"#DejaVuSans-115\"/>\n     <use x=\"52.099609\" xlink:href=\"#DejaVuSans-117\"/>\n     <use x=\"115.478516\" xlink:href=\"#DejaVuSans-109\"/>\n    </g>\n   </g>\n   <g id=\"text_40\">\n    <!-- lies, -->\n    <g transform=\"translate(425.621406 345.760146)scale(0.1 -0.1)\">\n     <use xlink:href=\"#DejaVuSans-108\"/>\n     <use x=\"27.783203\" xlink:href=\"#DejaVuSans-105\"/>\n     <use x=\"55.566406\" xlink:href=\"#DejaVuSans-101\"/>\n     <use x=\"117.089844\" xlink:href=\"#DejaVuSans-115\"/>\n     <use x=\"169.189453\" xlink:href=\"#DejaVuSans-44\"/>\n    </g>\n   </g>\n   <g id=\"text_41\">\n    <!-- If -->\n    <g transform=\"translate(389.854298 66.194497)scale(0.1 -0.1)\">\n     <defs>\n      <path d=\"M 9.8125 72.90625 \nL 19.671875 72.90625 \nL 19.671875 0 \nL 9.8125 0 \nz\n\" id=\"DejaVuSans-73\"/>\n     </defs>\n     <use xlink:href=\"#DejaVuSans-73\"/>\n     <use x=\"29.492188\" xlink:href=\"#DejaVuSans-102\"/>\n    </g>\n   </g>\n   <g id=\"text_42\">\n    <!-- shall -->\n    <g transform=\"translate(236.482763 351.189436)scale(0.1 -0.1)\">\n     <use xlink:href=\"#DejaVuSans-115\"/>\n     <use x=\"52.099609\" xlink:href=\"#DejaVuSans-104\"/>\n     <use x=\"115.478516\" xlink:href=\"#DejaVuSans-97\"/>\n     <use x=\"176.757812\" xlink:href=\"#DejaVuSans-108\"/>\n     <use x=\"204.541016\" xlink:href=\"#DejaVuSans-108\"/>\n    </g>\n   </g>\n   <g id=\"text_43\">\n    <!-- his -->\n    <g transform=\"translate(441.199272 434.191986)scale(0.1 -0.1)\">\n     <use xlink:href=\"#DejaVuSans-104\"/>\n     <use x=\"63.378906\" xlink:href=\"#DejaVuSans-105\"/>\n     <use x=\"91.162109\" xlink:href=\"#DejaVuSans-115\"/>\n    </g>\n   </g>\n   <g id=\"text_44\">\n    <!-- now, -->\n    <g transform=\"translate(337.174646 343.018042)scale(0.1 -0.1)\">\n     <use xlink:href=\"#DejaVuSans-110\"/>\n     <use x=\"63.378906\" xlink:href=\"#DejaVuSans-111\"/>\n     <use x=\"124.560547\" xlink:href=\"#DejaVuSans-119\"/>\n     <use x=\"206.347656\" xlink:href=\"#DejaVuSans-44\"/>\n    </g>\n   </g>\n   <g id=\"text_45\">\n    <!-- old -->\n    <g transform=\"translate(199.104265 273.267238)scale(0.1 -0.1)\">\n     <use xlink:href=\"#DejaVuSans-111\"/>\n     <use x=\"61.181641\" xlink:href=\"#DejaVuSans-108\"/>\n     <use x=\"88.964844\" xlink:href=\"#DejaVuSans-100\"/>\n    </g>\n   </g>\n   <g id=\"text_46\">\n    <!-- see -->\n    <g transform=\"translate(253.948598 27.829403)scale(0.1 -0.1)\">\n     <use xlink:href=\"#DejaVuSans-115\"/>\n     <use x=\"52.099609\" xlink:href=\"#DejaVuSans-101\"/>\n     <use x=\"113.623047\" xlink:href=\"#DejaVuSans-101\"/>\n    </g>\n   </g>\n   <g id=\"text_47\">\n    <!-- How -->\n    <g transform=\"translate(296.967347 362.987326)scale(0.1 -0.1)\">\n     <defs>\n      <path d=\"M 9.8125 72.90625 \nL 19.671875 72.90625 \nL 19.671875 43.015625 \nL 55.515625 43.015625 \nL 55.515625 72.90625 \nL 65.375 72.90625 \nL 65.375 0 \nL 55.515625 0 \nL 55.515625 34.71875 \nL 19.671875 34.71875 \nL 19.671875 0 \nL 9.8125 0 \nz\n\" id=\"DejaVuSans-72\"/>\n     </defs>\n     <use xlink:href=\"#DejaVuSans-72\"/>\n     <use x=\"75.195312\" xlink:href=\"#DejaVuSans-111\"/>\n     <use x=\"136.376953\" xlink:href=\"#DejaVuSans-119\"/>\n    </g>\n   </g>\n   <g id=\"text_48\">\n    <!-- cold. -->\n    <g transform=\"translate(365.678255 230.44789)scale(0.1 -0.1)\">\n     <defs>\n      <path d=\"M 10.6875 12.40625 \nL 21 12.40625 \nL 21 0 \nL 10.6875 0 \nz\n\" id=\"DejaVuSans-46\"/>\n     </defs>\n     <use xlink:href=\"#DejaVuSans-99\"/>\n     <use x=\"54.980469\" xlink:href=\"#DejaVuSans-111\"/>\n     <use x=\"116.162109\" xlink:href=\"#DejaVuSans-108\"/>\n     <use x=\"143.945312\" xlink:href=\"#DejaVuSans-100\"/>\n     <use x=\"207.421875\" xlink:href=\"#DejaVuSans-46\"/>\n    </g>\n   </g>\n   <g id=\"text_49\">\n    <!-- fair -->\n    <g transform=\"translate(186.611464 256.219417)scale(0.1 -0.1)\">\n     <use xlink:href=\"#DejaVuSans-102\"/>\n     <use x=\"35.205078\" xlink:href=\"#DejaVuSans-97\"/>\n     <use x=\"96.484375\" xlink:href=\"#DejaVuSans-105\"/>\n     <use x=\"124.267578\" xlink:href=\"#DejaVuSans-114\"/>\n    </g>\n   </g>\n   <g id=\"text_50\">\n    <!-- And -->\n    <g transform=\"translate(268.781905 71.538101)scale(0.1 -0.1)\">\n     <defs>\n      <path d=\"M 34.1875 63.1875 \nL 20.796875 26.90625 \nL 47.609375 26.90625 \nz\nM 28.609375 72.90625 \nL 39.796875 72.90625 \nL 67.578125 0 \nL 57.328125 0 \nL 50.6875 18.703125 \nL 17.828125 18.703125 \nL 11.1875 0 \nL 0.78125 0 \nz\n\" id=\"DejaVuSans-65\"/>\n     </defs>\n     <use xlink:href=\"#DejaVuSans-65\"/>\n     <use x=\"68.408203\" xlink:href=\"#DejaVuSans-110\"/>\n     <use x=\"131.787109\" xlink:href=\"#DejaVuSans-100\"/>\n    </g>\n   </g>\n   <g id=\"text_51\">\n    <!-- totter'd -->\n    <g transform=\"translate(128.83361 335.202882)scale(0.1 -0.1)\">\n     <use xlink:href=\"#DejaVuSans-116\"/>\n     <use x=\"39.208984\" xlink:href=\"#DejaVuSans-111\"/>\n     <use x=\"100.390625\" xlink:href=\"#DejaVuSans-116\"/>\n     <use x=\"139.599609\" xlink:href=\"#DejaVuSans-116\"/>\n     <use x=\"178.808594\" xlink:href=\"#DejaVuSans-101\"/>\n     <use x=\"240.332031\" xlink:href=\"#DejaVuSans-114\"/>\n     <use x=\"281.445312\" xlink:href=\"#DejaVuSans-39\"/>\n     <use x=\"308.935547\" xlink:href=\"#DejaVuSans-100\"/>\n    </g>\n   </g>\n   <g id=\"text_52\">\n    <!-- Where -->\n    <g transform=\"translate(505.609511 284.375203)scale(0.1 -0.1)\">\n     <use xlink:href=\"#DejaVuSans-87\"/>\n     <use x=\"98.876953\" xlink:href=\"#DejaVuSans-104\"/>\n     <use x=\"162.255859\" xlink:href=\"#DejaVuSans-101\"/>\n     <use x=\"223.779297\" xlink:href=\"#DejaVuSans-114\"/>\n     <use x=\"262.642578\" xlink:href=\"#DejaVuSans-101\"/>\n    </g>\n   </g>\n   <g id=\"text_53\">\n    <!-- say, -->\n    <g transform=\"translate(381.203403 268.085778)scale(0.1 -0.1)\">\n     <use xlink:href=\"#DejaVuSans-115\"/>\n     <use x=\"52.099609\" xlink:href=\"#DejaVuSans-97\"/>\n     <use x=\"113.378906\" xlink:href=\"#DejaVuSans-121\"/>\n     <use x=\"172.558594\" xlink:href=\"#DejaVuSans-44\"/>\n    </g>\n   </g>\n   <g id=\"text_54\">\n    <!-- praise. -->\n    <g transform=\"translate(258.55068 297.025732)scale(0.1 -0.1)\">\n     <use xlink:href=\"#DejaVuSans-112\"/>\n     <use x=\"63.476562\" xlink:href=\"#DejaVuSans-114\"/>\n     <use x=\"104.589844\" xlink:href=\"#DejaVuSans-97\"/>\n     <use x=\"165.869141\" xlink:href=\"#DejaVuSans-105\"/>\n     <use x=\"193.652344\" xlink:href=\"#DejaVuSans-115\"/>\n     <use x=\"245.751953\" xlink:href=\"#DejaVuSans-101\"/>\n     <use x=\"307.275391\" xlink:href=\"#DejaVuSans-46\"/>\n    </g>\n   </g>\n   <g id=\"text_55\">\n    <!-- within -->\n    <g transform=\"translate(153.584394 54.253019)scale(0.1 -0.1)\">\n     <use xlink:href=\"#DejaVuSans-119\"/>\n     <use x=\"81.787109\" xlink:href=\"#DejaVuSans-105\"/>\n     <use x=\"109.570312\" xlink:href=\"#DejaVuSans-116\"/>\n     <use x=\"148.779297\" xlink:href=\"#DejaVuSans-104\"/>\n     <use x=\"212.158203\" xlink:href=\"#DejaVuSans-105\"/>\n     <use x=\"239.941406\" xlink:href=\"#DejaVuSans-110\"/>\n    </g>\n   </g>\n   <g id=\"text_56\">\n    <!-- count, -->\n    <g transform=\"translate(272.460962 425.067957)scale(0.1 -0.1)\">\n     <use xlink:href=\"#DejaVuSans-99\"/>\n     <use x=\"54.980469\" xlink:href=\"#DejaVuSans-111\"/>\n     <use x=\"116.162109\" xlink:href=\"#DejaVuSans-117\"/>\n     <use x=\"179.541016\" xlink:href=\"#DejaVuSans-110\"/>\n     <use x=\"242.919922\" xlink:href=\"#DejaVuSans-116\"/>\n     <use x=\"282.128906\" xlink:href=\"#DejaVuSans-44\"/>\n    </g>\n   </g>\n   <g id=\"text_57\">\n    <!-- my -->\n    <g transform=\"translate(274.162378 210.34297)scale(0.1 -0.1)\">\n     <use xlink:href=\"#DejaVuSans-109\"/>\n     <use x=\"97.412109\" xlink:href=\"#DejaVuSans-121\"/>\n    </g>\n   </g>\n   <g id=\"text_58\">\n    <!-- child -->\n    <g transform=\"translate(341.953747 467.25605)scale(0.1 -0.1)\">\n     <use xlink:href=\"#DejaVuSans-99\"/>\n     <use x=\"54.980469\" xlink:href=\"#DejaVuSans-104\"/>\n     <use x=\"118.359375\" xlink:href=\"#DejaVuSans-105\"/>\n     <use x=\"146.142578\" xlink:href=\"#DejaVuSans-108\"/>\n     <use x=\"173.925781\" xlink:href=\"#DejaVuSans-100\"/>\n    </g>\n   </g>\n   <g id=\"text_59\">\n    <!-- answer -->\n    <g transform=\"translate(379.1302 145.231609)scale(0.1 -0.1)\">\n     <use xlink:href=\"#DejaVuSans-97\"/>\n     <use x=\"61.279297\" xlink:href=\"#DejaVuSans-110\"/>\n     <use x=\"124.658203\" xlink:href=\"#DejaVuSans-115\"/>\n     <use x=\"176.757812\" xlink:href=\"#DejaVuSans-119\"/>\n     <use x=\"258.544922\" xlink:href=\"#DejaVuSans-101\"/>\n     <use x=\"320.068359\" xlink:href=\"#DejaVuSans-114\"/>\n    </g>\n   </g>\n   <g id=\"text_60\">\n    <!-- shame, -->\n    <g transform=\"translate(397.202398 210.735633)scale(0.1 -0.1)\">\n     <use xlink:href=\"#DejaVuSans-115\"/>\n     <use x=\"52.099609\" xlink:href=\"#DejaVuSans-104\"/>\n     <use x=\"115.478516\" xlink:href=\"#DejaVuSans-97\"/>\n     <use x=\"176.757812\" xlink:href=\"#DejaVuSans-109\"/>\n     <use x=\"274.169922\" xlink:href=\"#DejaVuSans-101\"/>\n     <use x=\"335.693359\" xlink:href=\"#DejaVuSans-44\"/>\n    </g>\n   </g>\n   <g id=\"text_61\">\n    <!-- weed -->\n    <g transform=\"translate(32.473011 300.801923)scale(0.1 -0.1)\">\n     <use xlink:href=\"#DejaVuSans-119\"/>\n     <use x=\"81.787109\" xlink:href=\"#DejaVuSans-101\"/>\n     <use x=\"143.310547\" xlink:href=\"#DejaVuSans-101\"/>\n     <use x=\"204.833984\" xlink:href=\"#DejaVuSans-100\"/>\n    </g>\n   </g>\n   <g id=\"text_62\">\n    <!-- feel'st -->\n    <g transform=\"translate(284.973988 279.171885)scale(0.1 -0.1)\">\n     <use xlink:href=\"#DejaVuSans-102\"/>\n     <use x=\"35.205078\" xlink:href=\"#DejaVuSans-101\"/>\n     <use x=\"96.728516\" xlink:href=\"#DejaVuSans-101\"/>\n     <use x=\"158.251953\" xlink:href=\"#DejaVuSans-108\"/>\n     <use x=\"186.035156\" xlink:href=\"#DejaVuSans-39\"/>\n     <use x=\"213.525391\" xlink:href=\"#DejaVuSans-115\"/>\n     <use x=\"265.625\" xlink:href=\"#DejaVuSans-116\"/>\n    </g>\n   </g>\n   <g id=\"text_63\">\n    <!-- beauty's -->\n    <g transform=\"translate(243.290112 194.585933)scale(0.1 -0.1)\">\n     <use xlink:href=\"#DejaVuSans-98\"/>\n     <use x=\"63.476562\" xlink:href=\"#DejaVuSans-101\"/>\n     <use x=\"125\" xlink:href=\"#DejaVuSans-97\"/>\n     <use x=\"186.279297\" xlink:href=\"#DejaVuSans-117\"/>\n     <use x=\"249.658203\" xlink:href=\"#DejaVuSans-116\"/>\n     <use x=\"288.867188\" xlink:href=\"#DejaVuSans-121\"/>\n     <use x=\"348.046875\" xlink:href=\"#DejaVuSans-39\"/>\n     <use x=\"375.537109\" xlink:href=\"#DejaVuSans-115\"/>\n    </g>\n   </g>\n   <g id=\"text_64\">\n    <!-- eyes, -->\n    <g transform=\"translate(327.637768 373.988573)scale(0.1 -0.1)\">\n     <use xlink:href=\"#DejaVuSans-101\"/>\n     <use x=\"61.523438\" xlink:href=\"#DejaVuSans-121\"/>\n     <use x=\"120.703125\" xlink:href=\"#DejaVuSans-101\"/>\n     <use x=\"182.226562\" xlink:href=\"#DejaVuSans-115\"/>\n     <use x=\"234.326172\" xlink:href=\"#DejaVuSans-44\"/>\n    </g>\n   </g>\n   <g id=\"text_65\">\n    <!-- livery -->\n    <g transform=\"translate(213.063024 313.380245)scale(0.1 -0.1)\">\n     <defs>\n      <path d=\"M 2.984375 54.6875 \nL 12.5 54.6875 \nL 29.59375 8.796875 \nL 46.6875 54.6875 \nL 56.203125 54.6875 \nL 35.6875 0 \nL 23.484375 0 \nz\n\" id=\"DejaVuSans-118\"/>\n     </defs>\n     <use xlink:href=\"#DejaVuSans-108\"/>\n     <use x=\"27.783203\" xlink:href=\"#DejaVuSans-105\"/>\n     <use x=\"55.566406\" xlink:href=\"#DejaVuSans-118\"/>\n     <use x=\"114.746094\" xlink:href=\"#DejaVuSans-101\"/>\n     <use x=\"176.269531\" xlink:href=\"#DejaVuSans-114\"/>\n     <use x=\"217.382812\" xlink:href=\"#DejaVuSans-121\"/>\n    </g>\n   </g>\n   <g id=\"text_66\">\n    <!-- thy -->\n    <g transform=\"translate(315.984917 217.8185)scale(0.1 -0.1)\">\n     <use xlink:href=\"#DejaVuSans-116\"/>\n     <use x=\"39.208984\" xlink:href=\"#DejaVuSans-104\"/>\n     <use x=\"102.587891\" xlink:href=\"#DejaVuSans-121\"/>\n    </g>\n   </g>\n   <g id=\"text_67\">\n    <!-- own -->\n    <g transform=\"translate(383.617807 263.436179)scale(0.1 -0.1)\">\n     <use xlink:href=\"#DejaVuSans-111\"/>\n     <use x=\"61.181641\" xlink:href=\"#DejaVuSans-119\"/>\n     <use x=\"142.96875\" xlink:href=\"#DejaVuSans-110\"/>\n    </g>\n   </g>\n   <g id=\"text_68\">\n    <!-- Proving -->\n    <g transform=\"translate(230.093419 246.376973)scale(0.1 -0.1)\">\n     <defs>\n      <path d=\"M 19.671875 64.796875 \nL 19.671875 37.40625 \nL 32.078125 37.40625 \nQ 38.96875 37.40625 42.71875 40.96875 \nQ 46.484375 44.53125 46.484375 51.125 \nQ 46.484375 57.671875 42.71875 61.234375 \nQ 38.96875 64.796875 32.078125 64.796875 \nz\nM 9.8125 72.90625 \nL 32.078125 72.90625 \nQ 44.34375 72.90625 50.609375 67.359375 \nQ 56.890625 61.8125 56.890625 51.125 \nQ 56.890625 40.328125 50.609375 34.8125 \nQ 44.34375 29.296875 32.078125 29.296875 \nL 19.671875 29.296875 \nL 19.671875 0 \nL 9.8125 0 \nz\n\" id=\"DejaVuSans-80\"/>\n     </defs>\n     <use xlink:href=\"#DejaVuSans-80\"/>\n     <use x=\"58.552734\" xlink:href=\"#DejaVuSans-114\"/>\n     <use x=\"97.416016\" xlink:href=\"#DejaVuSans-111\"/>\n     <use x=\"158.597656\" xlink:href=\"#DejaVuSans-118\"/>\n     <use x=\"217.777344\" xlink:href=\"#DejaVuSans-105\"/>\n     <use x=\"245.560547\" xlink:href=\"#DejaVuSans-110\"/>\n     <use x=\"308.939453\" xlink:href=\"#DejaVuSans-103\"/>\n    </g>\n   </g>\n   <g id=\"text_69\">\n    <!-- winters -->\n    <g transform=\"translate(498.075928 160.446925)scale(0.1 -0.1)\">\n     <use xlink:href=\"#DejaVuSans-119\"/>\n     <use x=\"81.787109\" xlink:href=\"#DejaVuSans-105\"/>\n     <use x=\"109.570312\" xlink:href=\"#DejaVuSans-110\"/>\n     <use x=\"172.949219\" xlink:href=\"#DejaVuSans-116\"/>\n     <use x=\"212.158203\" xlink:href=\"#DejaVuSans-101\"/>\n     <use x=\"273.681641\" xlink:href=\"#DejaVuSans-114\"/>\n     <use x=\"314.794922\" xlink:href=\"#DejaVuSans-115\"/>\n    </g>\n   </g>\n   <g id=\"text_70\">\n    <!-- a -->\n    <g transform=\"translate(113.32917 216.597628)scale(0.1 -0.1)\">\n     <use xlink:href=\"#DejaVuSans-97\"/>\n    </g>\n   </g>\n   <g id=\"text_71\">\n    <!-- where -->\n    <g transform=\"translate(517.796739 195.418709)scale(0.1 -0.1)\">\n     <use xlink:href=\"#DejaVuSans-119\"/>\n     <use x=\"81.787109\" xlink:href=\"#DejaVuSans-104\"/>\n     <use x=\"145.166016\" xlink:href=\"#DejaVuSans-101\"/>\n     <use x=\"206.689453\" xlink:href=\"#DejaVuSans-114\"/>\n     <use x=\"245.552734\" xlink:href=\"#DejaVuSans-101\"/>\n    </g>\n   </g>\n   <g id=\"text_72\">\n    <!-- it -->\n    <g transform=\"translate(437.094621 433.356443)scale(0.1 -0.1)\">\n     <use xlink:href=\"#DejaVuSans-105\"/>\n     <use x=\"27.783203\" xlink:href=\"#DejaVuSans-116\"/>\n    </g>\n   </g>\n   <g id=\"text_73\">\n    <!-- held: -->\n    <g transform=\"translate(421.759594 182.153666)scale(0.1 -0.1)\">\n     <defs>\n      <path d=\"M 11.71875 12.40625 \nL 22.015625 12.40625 \nL 22.015625 0 \nL 11.71875 0 \nz\nM 11.71875 51.703125 \nL 22.015625 51.703125 \nL 22.015625 39.3125 \nL 11.71875 39.3125 \nz\n\" id=\"DejaVuSans-58\"/>\n     </defs>\n     <use xlink:href=\"#DejaVuSans-104\"/>\n     <use x=\"63.378906\" xlink:href=\"#DejaVuSans-101\"/>\n     <use x=\"124.902344\" xlink:href=\"#DejaVuSans-108\"/>\n     <use x=\"152.685547\" xlink:href=\"#DejaVuSans-100\"/>\n     <use x=\"216.162109\" xlink:href=\"#DejaVuSans-58\"/>\n    </g>\n   </g>\n   <g id=\"text_74\">\n    <!-- Then -->\n    <g transform=\"translate(439.595092 236.177119)scale(0.1 -0.1)\">\n     <use xlink:href=\"#DejaVuSans-84\"/>\n     <use x=\"61.083984\" xlink:href=\"#DejaVuSans-104\"/>\n     <use x=\"124.462891\" xlink:href=\"#DejaVuSans-101\"/>\n     <use x=\"185.986328\" xlink:href=\"#DejaVuSans-110\"/>\n    </g>\n   </g>\n   <g id=\"text_75\">\n    <!-- sunken -->\n    <g transform=\"translate(302.39453 104.595534)scale(0.1 -0.1)\">\n     <use xlink:href=\"#DejaVuSans-115\"/>\n     <use x=\"52.099609\" xlink:href=\"#DejaVuSans-117\"/>\n     <use x=\"115.478516\" xlink:href=\"#DejaVuSans-110\"/>\n     <use x=\"178.857422\" xlink:href=\"#DejaVuSans-107\"/>\n     <use x=\"233.142578\" xlink:href=\"#DejaVuSans-101\"/>\n     <use x=\"294.666016\" xlink:href=\"#DejaVuSans-110\"/>\n    </g>\n   </g>\n   <g id=\"text_76\">\n    <!-- youth's -->\n    <g transform=\"translate(339.497516 311.531409)scale(0.1 -0.1)\">\n     <use xlink:href=\"#DejaVuSans-121\"/>\n     <use x=\"59.179688\" xlink:href=\"#DejaVuSans-111\"/>\n     <use x=\"120.361328\" xlink:href=\"#DejaVuSans-117\"/>\n     <use x=\"183.740234\" xlink:href=\"#DejaVuSans-116\"/>\n     <use x=\"222.949219\" xlink:href=\"#DejaVuSans-104\"/>\n     <use x=\"286.328125\" xlink:href=\"#DejaVuSans-39\"/>\n     <use x=\"313.818359\" xlink:href=\"#DejaVuSans-115\"/>\n    </g>\n   </g>\n   <g id=\"text_77\">\n    <!-- warm -->\n    <g transform=\"translate(298.175836 169.993801)scale(0.1 -0.1)\">\n     <use xlink:href=\"#DejaVuSans-119\"/>\n     <use x=\"81.787109\" xlink:href=\"#DejaVuSans-97\"/>\n     <use x=\"143.066406\" xlink:href=\"#DejaVuSans-114\"/>\n     <use x=\"182.429688\" xlink:href=\"#DejaVuSans-109\"/>\n    </g>\n   </g>\n   <g id=\"text_78\">\n    <!-- trenches -->\n    <g transform=\"translate(70.546409 220.547819)scale(0.1 -0.1)\">\n     <use xlink:href=\"#DejaVuSans-116\"/>\n     <use x=\"39.208984\" xlink:href=\"#DejaVuSans-114\"/>\n     <use x=\"78.072266\" xlink:href=\"#DejaVuSans-101\"/>\n     <use x=\"139.595703\" xlink:href=\"#DejaVuSans-110\"/>\n     <use x=\"202.974609\" xlink:href=\"#DejaVuSans-99\"/>\n     <use x=\"257.955078\" xlink:href=\"#DejaVuSans-104\"/>\n     <use x=\"321.333984\" xlink:href=\"#DejaVuSans-101\"/>\n     <use x=\"382.857422\" xlink:href=\"#DejaVuSans-115\"/>\n    </g>\n   </g>\n   <g id=\"text_79\">\n    <!-- days; -->\n    <g transform=\"translate(152.230945 218.88005)scale(0.1 -0.1)\">\n     <defs>\n      <path d=\"M 11.71875 51.703125 \nL 22.015625 51.703125 \nL 22.015625 39.3125 \nL 11.71875 39.3125 \nz\nM 11.71875 12.40625 \nL 22.015625 12.40625 \nL 22.015625 4 \nL 14.015625 -11.625 \nL 7.71875 -11.625 \nL 11.71875 4 \nz\n\" id=\"DejaVuSans-59\"/>\n     </defs>\n     <use xlink:href=\"#DejaVuSans-100\"/>\n     <use x=\"63.476562\" xlink:href=\"#DejaVuSans-97\"/>\n     <use x=\"124.755859\" xlink:href=\"#DejaVuSans-121\"/>\n     <use x=\"183.935547\" xlink:href=\"#DejaVuSans-115\"/>\n     <use x=\"236.035156\" xlink:href=\"#DejaVuSans-59\"/>\n    </g>\n   </g>\n   <g id=\"text_80\">\n    <!-- dig -->\n    <g transform=\"translate(262.672111 117.791126)scale(0.1 -0.1)\">\n     <use xlink:href=\"#DejaVuSans-100\"/>\n     <use x=\"63.476562\" xlink:href=\"#DejaVuSans-105\"/>\n     <use x=\"91.259766\" xlink:href=\"#DejaVuSans-103\"/>\n    </g>\n   </g>\n   <g id=\"text_81\">\n    <!-- Thy -->\n    <g transform=\"translate(407.496902 279.319471)scale(0.1 -0.1)\">\n     <use xlink:href=\"#DejaVuSans-84\"/>\n     <use x=\"61.083984\" xlink:href=\"#DejaVuSans-104\"/>\n     <use x=\"124.462891\" xlink:href=\"#DejaVuSans-121\"/>\n    </g>\n   </g>\n   <g id=\"text_82\">\n    <!-- art -->\n    <g transform=\"translate(115.556333 235.702424)scale(0.1 -0.1)\">\n     <use xlink:href=\"#DejaVuSans-97\"/>\n     <use x=\"61.279297\" xlink:href=\"#DejaVuSans-114\"/>\n     <use x=\"102.392578\" xlink:href=\"#DejaVuSans-116\"/>\n    </g>\n   </g>\n   <g id=\"text_83\">\n    <!-- proud -->\n    <g transform=\"translate(319.515762 522.011222)scale(0.1 -0.1)\">\n     <use xlink:href=\"#DejaVuSans-112\"/>\n     <use x=\"63.476562\" xlink:href=\"#DejaVuSans-114\"/>\n     <use x=\"102.339844\" xlink:href=\"#DejaVuSans-111\"/>\n     <use x=\"163.521484\" xlink:href=\"#DejaVuSans-117\"/>\n     <use x=\"226.900391\" xlink:href=\"#DejaVuSans-100\"/>\n    </g>\n   </g>\n   <g id=\"text_84\">\n    <!-- Will -->\n    <g transform=\"translate(212.782533 265.275897)scale(0.1 -0.1)\">\n     <use xlink:href=\"#DejaVuSans-87\"/>\n     <use x=\"96.626953\" xlink:href=\"#DejaVuSans-105\"/>\n     <use x=\"124.410156\" xlink:href=\"#DejaVuSans-108\"/>\n     <use x=\"152.193359\" xlink:href=\"#DejaVuSans-108\"/>\n    </g>\n   </g>\n   <g id=\"text_85\">\n    <!-- all -->\n    <g transform=\"translate(261.892926 429.969268)scale(0.1 -0.1)\">\n     <use xlink:href=\"#DejaVuSans-97\"/>\n     <use x=\"61.279297\" xlink:href=\"#DejaVuSans-108\"/>\n     <use x=\"89.0625\" xlink:href=\"#DejaVuSans-108\"/>\n    </g>\n   </g>\n   <g id=\"text_86\">\n    <!-- old, -->\n    <g transform=\"translate(487.416812 427.216208)scale(0.1 -0.1)\">\n     <use xlink:href=\"#DejaVuSans-111\"/>\n     <use x=\"61.181641\" xlink:href=\"#DejaVuSans-108\"/>\n     <use x=\"88.964844\" xlink:href=\"#DejaVuSans-100\"/>\n     <use x=\"152.441406\" xlink:href=\"#DejaVuSans-44\"/>\n    </g>\n   </g>\n   <g id=\"text_87\">\n    <!-- the -->\n    <g transform=\"translate(273.403099 93.54783)scale(0.1 -0.1)\">\n     <use xlink:href=\"#DejaVuSans-116\"/>\n     <use x=\"39.208984\" xlink:href=\"#DejaVuSans-104\"/>\n     <use x=\"102.587891\" xlink:href=\"#DejaVuSans-101\"/>\n    </g>\n   </g>\n   <g id=\"text_88\">\n    <!-- so -->\n    <g transform=\"translate(386.873062 73.775729)scale(0.1 -0.1)\">\n     <use xlink:href=\"#DejaVuSans-115\"/>\n     <use x=\"52.099609\" xlink:href=\"#DejaVuSans-111\"/>\n    </g>\n   </g>\n   <g id=\"text_89\">\n    <!-- deserv'd -->\n    <g transform=\"translate(245.399219 143.747929)scale(0.1 -0.1)\">\n     <use xlink:href=\"#DejaVuSans-100\"/>\n     <use x=\"63.476562\" xlink:href=\"#DejaVuSans-101\"/>\n     <use x=\"125\" xlink:href=\"#DejaVuSans-115\"/>\n     <use x=\"177.099609\" xlink:href=\"#DejaVuSans-101\"/>\n     <use x=\"238.623047\" xlink:href=\"#DejaVuSans-114\"/>\n     <use x=\"279.736328\" xlink:href=\"#DejaVuSans-118\"/>\n     <use x=\"338.916016\" xlink:href=\"#DejaVuSans-39\"/>\n     <use x=\"366.40625\" xlink:href=\"#DejaVuSans-100\"/>\n    </g>\n   </g>\n   <g id=\"text_90\">\n    <!-- be -->\n    <g transform=\"translate(210.015909 48.747809)scale(0.1 -0.1)\">\n     <use xlink:href=\"#DejaVuSans-98\"/>\n     <use x=\"63.476562\" xlink:href=\"#DejaVuSans-101\"/>\n    </g>\n   </g>\n   <g id=\"text_91\">\n    <!-- lusty -->\n    <g transform=\"translate(442.558923 288.664734)scale(0.1 -0.1)\">\n     <use xlink:href=\"#DejaVuSans-108\"/>\n     <use x=\"27.783203\" xlink:href=\"#DejaVuSans-117\"/>\n     <use x=\"91.162109\" xlink:href=\"#DejaVuSans-115\"/>\n     <use x=\"143.261719\" xlink:href=\"#DejaVuSans-116\"/>\n     <use x=\"182.470703\" xlink:href=\"#DejaVuSans-121\"/>\n    </g>\n   </g>\n   <g id=\"text_92\">\n    <!-- couldst -->\n    <g transform=\"translate(193.64144 288.387512)scale(0.1 -0.1)\">\n     <use xlink:href=\"#DejaVuSans-99\"/>\n     <use x=\"54.980469\" xlink:href=\"#DejaVuSans-111\"/>\n     <use x=\"116.162109\" xlink:href=\"#DejaVuSans-117\"/>\n     <use x=\"179.541016\" xlink:href=\"#DejaVuSans-108\"/>\n     <use x=\"207.324219\" xlink:href=\"#DejaVuSans-100\"/>\n     <use x=\"270.800781\" xlink:href=\"#DejaVuSans-115\"/>\n     <use x=\"322.900391\" xlink:href=\"#DejaVuSans-116\"/>\n    </g>\n   </g>\n   <g id=\"text_93\">\n    <!-- gazed -->\n    <g transform=\"translate(334.600375 218.483259)scale(0.1 -0.1)\">\n     <defs>\n      <path d=\"M 5.515625 54.6875 \nL 48.1875 54.6875 \nL 48.1875 46.484375 \nL 14.40625 7.171875 \nL 48.1875 7.171875 \nL 48.1875 0 \nL 4.296875 0 \nL 4.296875 8.203125 \nL 38.09375 47.515625 \nL 5.515625 47.515625 \nz\n\" id=\"DejaVuSans-122\"/>\n     </defs>\n     <use xlink:href=\"#DejaVuSans-103\"/>\n     <use x=\"63.476562\" xlink:href=\"#DejaVuSans-97\"/>\n     <use x=\"124.755859\" xlink:href=\"#DejaVuSans-122\"/>\n     <use x=\"177.246094\" xlink:href=\"#DejaVuSans-101\"/>\n     <use x=\"238.769531\" xlink:href=\"#DejaVuSans-100\"/>\n    </g>\n   </g>\n   <g id=\"text_94\">\n    <!-- succession -->\n    <g transform=\"translate(319.331925 415.147568)scale(0.1 -0.1)\">\n     <use xlink:href=\"#DejaVuSans-115\"/>\n     <use x=\"52.099609\" xlink:href=\"#DejaVuSans-117\"/>\n     <use x=\"115.478516\" xlink:href=\"#DejaVuSans-99\"/>\n     <use x=\"170.458984\" xlink:href=\"#DejaVuSans-99\"/>\n     <use x=\"225.439453\" xlink:href=\"#DejaVuSans-101\"/>\n     <use x=\"286.962891\" xlink:href=\"#DejaVuSans-115\"/>\n     <use x=\"339.0625\" xlink:href=\"#DejaVuSans-115\"/>\n     <use x=\"391.162109\" xlink:href=\"#DejaVuSans-105\"/>\n     <use x=\"418.945312\" xlink:href=\"#DejaVuSans-111\"/>\n     <use x=\"480.126953\" xlink:href=\"#DejaVuSans-110\"/>\n    </g>\n   </g>\n   <g id=\"text_95\">\n    <!-- Shall -->\n    <g transform=\"translate(263.310718 204.19991)scale(0.1 -0.1)\">\n     <defs>\n      <path d=\"M 53.515625 70.515625 \nL 53.515625 60.890625 \nQ 47.90625 63.578125 42.921875 64.890625 \nQ 37.9375 66.21875 33.296875 66.21875 \nQ 25.25 66.21875 20.875 63.09375 \nQ 16.5 59.96875 16.5 54.203125 \nQ 16.5 49.359375 19.40625 46.890625 \nQ 22.3125 44.4375 30.421875 42.921875 \nL 36.375 41.703125 \nQ 47.40625 39.59375 52.65625 34.296875 \nQ 57.90625 29 57.90625 20.125 \nQ 57.90625 9.515625 50.796875 4.046875 \nQ 43.703125 -1.421875 29.984375 -1.421875 \nQ 24.8125 -1.421875 18.96875 -0.25 \nQ 13.140625 0.921875 6.890625 3.21875 \nL 6.890625 13.375 \nQ 12.890625 10.015625 18.65625 8.296875 \nQ 24.421875 6.59375 29.984375 6.59375 \nQ 38.421875 6.59375 43.015625 9.90625 \nQ 47.609375 13.234375 47.609375 19.390625 \nQ 47.609375 24.75 44.3125 27.78125 \nQ 41.015625 30.8125 33.5 32.328125 \nL 27.484375 33.5 \nQ 16.453125 35.6875 11.515625 40.375 \nQ 6.59375 45.0625 6.59375 53.421875 \nQ 6.59375 63.09375 13.40625 68.65625 \nQ 20.21875 74.21875 32.171875 74.21875 \nQ 37.3125 74.21875 42.625 73.28125 \nQ 47.953125 72.359375 53.515625 70.515625 \nz\n\" id=\"DejaVuSans-83\"/>\n     </defs>\n     <use xlink:href=\"#DejaVuSans-83\"/>\n     <use x=\"63.476562\" xlink:href=\"#DejaVuSans-104\"/>\n     <use x=\"126.855469\" xlink:href=\"#DejaVuSans-97\"/>\n     <use x=\"188.134766\" xlink:href=\"#DejaVuSans-108\"/>\n     <use x=\"215.917969\" xlink:href=\"#DejaVuSans-108\"/>\n    </g>\n   </g>\n   <g id=\"text_96\">\n    <!-- forty -->\n    <g transform=\"translate(197.219006 389.607546)scale(0.1 -0.1)\">\n     <use xlink:href=\"#DejaVuSans-102\"/>\n     <use x=\"35.205078\" xlink:href=\"#DejaVuSans-111\"/>\n     <use x=\"96.386719\" xlink:href=\"#DejaVuSans-114\"/>\n     <use x=\"137.5\" xlink:href=\"#DejaVuSans-116\"/>\n     <use x=\"176.708984\" xlink:href=\"#DejaVuSans-121\"/>\n    </g>\n   </g>\n   <g id=\"text_97\">\n    <!-- of -->\n    <g transform=\"translate(377.543462 164.42228)scale(0.1 -0.1)\">\n     <use xlink:href=\"#DejaVuSans-111\"/>\n     <use x=\"61.181641\" xlink:href=\"#DejaVuSans-102\"/>\n    </g>\n   </g>\n   <g id=\"text_98\">\n    <!-- and -->\n    <g transform=\"translate(161.72732 381.732823)scale(0.1 -0.1)\">\n     <use xlink:href=\"#DejaVuSans-97\"/>\n     <use x=\"61.279297\" xlink:href=\"#DejaVuSans-110\"/>\n     <use x=\"124.658203\" xlink:href=\"#DejaVuSans-100\"/>\n    </g>\n   </g>\n   <g id=\"text_99\">\n    <!-- all-eating -->\n    <g transform=\"translate(103.432083 318.860978)scale(0.1 -0.1)\">\n     <defs>\n      <path d=\"M 4.890625 31.390625 \nL 31.203125 31.390625 \nL 31.203125 23.390625 \nL 4.890625 23.390625 \nz\n\" id=\"DejaVuSans-45\"/>\n     </defs>\n     <use xlink:href=\"#DejaVuSans-97\"/>\n     <use x=\"61.279297\" xlink:href=\"#DejaVuSans-108\"/>\n     <use x=\"89.0625\" xlink:href=\"#DejaVuSans-108\"/>\n     <use x=\"116.845703\" xlink:href=\"#DejaVuSans-45\"/>\n     <use x=\"152.929688\" xlink:href=\"#DejaVuSans-101\"/>\n     <use x=\"214.453125\" xlink:href=\"#DejaVuSans-97\"/>\n     <use x=\"275.732422\" xlink:href=\"#DejaVuSans-116\"/>\n     <use x=\"314.941406\" xlink:href=\"#DejaVuSans-105\"/>\n     <use x=\"342.724609\" xlink:href=\"#DejaVuSans-110\"/>\n     <use x=\"406.103516\" xlink:href=\"#DejaVuSans-103\"/>\n    </g>\n   </g>\n   <g id=\"text_100\">\n    <!-- make -->\n    <g transform=\"translate(346.944662 229.851891)scale(0.1 -0.1)\">\n     <use xlink:href=\"#DejaVuSans-109\"/>\n     <use x=\"97.412109\" xlink:href=\"#DejaVuSans-97\"/>\n     <use x=\"158.691406\" xlink:href=\"#DejaVuSans-107\"/>\n     <use x=\"212.976562\" xlink:href=\"#DejaVuSans-101\"/>\n    </g>\n   </g>\n   <g id=\"text_101\">\n    <!-- being -->\n    <g transform=\"translate(138.736844 430.706966)scale(0.1 -0.1)\">\n     <use xlink:href=\"#DejaVuSans-98\"/>\n     <use x=\"63.476562\" xlink:href=\"#DejaVuSans-101\"/>\n     <use x=\"125\" xlink:href=\"#DejaVuSans-105\"/>\n     <use x=\"152.783203\" xlink:href=\"#DejaVuSans-110\"/>\n     <use x=\"216.162109\" xlink:href=\"#DejaVuSans-103\"/>\n    </g>\n   </g>\n   <g id=\"text_102\">\n    <!-- thou -->\n    <g transform=\"translate(356.965334 122.23505)scale(0.1 -0.1)\">\n     <use xlink:href=\"#DejaVuSans-116\"/>\n     <use x=\"39.208984\" xlink:href=\"#DejaVuSans-104\"/>\n     <use x=\"102.587891\" xlink:href=\"#DejaVuSans-111\"/>\n     <use x=\"163.769531\" xlink:href=\"#DejaVuSans-117\"/>\n    </g>\n   </g>\n   <g id=\"text_103\">\n    <!-- thine -->\n    <g transform=\"translate(399.203019 377.366162)scale(0.1 -0.1)\">\n     <use xlink:href=\"#DejaVuSans-116\"/>\n     <use x=\"39.208984\" xlink:href=\"#DejaVuSans-104\"/>\n     <use x=\"102.587891\" xlink:href=\"#DejaVuSans-105\"/>\n     <use x=\"130.371094\" xlink:href=\"#DejaVuSans-110\"/>\n     <use x=\"193.75\" xlink:href=\"#DejaVuSans-101\"/>\n    </g>\n   </g>\n   <g id=\"text_104\">\n    <!-- thriftless -->\n    <g transform=\"translate(305.904744 205.578711)scale(0.1 -0.1)\">\n     <use xlink:href=\"#DejaVuSans-116\"/>\n     <use x=\"39.208984\" xlink:href=\"#DejaVuSans-104\"/>\n     <use x=\"102.587891\" xlink:href=\"#DejaVuSans-114\"/>\n     <use x=\"143.701172\" xlink:href=\"#DejaVuSans-105\"/>\n     <use x=\"171.484375\" xlink:href=\"#DejaVuSans-102\"/>\n     <use x=\"204.939453\" xlink:href=\"#DejaVuSans-116\"/>\n     <use x=\"244.148438\" xlink:href=\"#DejaVuSans-108\"/>\n     <use x=\"271.931641\" xlink:href=\"#DejaVuSans-101\"/>\n     <use x=\"333.455078\" xlink:href=\"#DejaVuSans-115\"/>\n     <use x=\"385.554688\" xlink:href=\"#DejaVuSans-115\"/>\n    </g>\n   </g>\n   <g id=\"text_105\">\n    <!-- worth -->\n    <g transform=\"translate(224.902375 174.670934)scale(0.1 -0.1)\">\n     <use xlink:href=\"#DejaVuSans-119\"/>\n     <use x=\"81.787109\" xlink:href=\"#DejaVuSans-111\"/>\n     <use x=\"142.96875\" xlink:href=\"#DejaVuSans-114\"/>\n     <use x=\"184.082031\" xlink:href=\"#DejaVuSans-116\"/>\n     <use x=\"223.291016\" xlink:href=\"#DejaVuSans-104\"/>\n    </g>\n   </g>\n   <g id=\"text_106\">\n    <!-- an -->\n    <g transform=\"translate(299.151296 201.377141)scale(0.1 -0.1)\">\n     <use xlink:href=\"#DejaVuSans-97\"/>\n     <use x=\"61.279297\" xlink:href=\"#DejaVuSans-110\"/>\n    </g>\n   </g>\n   <g id=\"text_107\">\n    <!-- mine -->\n    <g transform=\"translate(241.828725 498.391492)scale(0.1 -0.1)\">\n     <use xlink:href=\"#DejaVuSans-109\"/>\n     <use x=\"97.412109\" xlink:href=\"#DejaVuSans-105\"/>\n     <use x=\"125.195312\" xlink:href=\"#DejaVuSans-110\"/>\n     <use x=\"188.574219\" xlink:href=\"#DejaVuSans-101\"/>\n    </g>\n   </g>\n   <g id=\"text_108\">\n    <!-- use, -->\n    <g transform=\"translate(336.058147 233.258056)scale(0.1 -0.1)\">\n     <use xlink:href=\"#DejaVuSans-117\"/>\n     <use x=\"63.378906\" xlink:href=\"#DejaVuSans-115\"/>\n     <use x=\"115.478516\" xlink:href=\"#DejaVuSans-101\"/>\n     <use x=\"177.001953\" xlink:href=\"#DejaVuSans-44\"/>\n    </g>\n   </g>\n   <g id=\"text_109\">\n    <!-- deep -->\n    <g transform=\"translate(338.005375 360.125639)scale(0.1 -0.1)\">\n     <use xlink:href=\"#DejaVuSans-100\"/>\n     <use x=\"63.476562\" xlink:href=\"#DejaVuSans-101\"/>\n     <use x=\"125\" xlink:href=\"#DejaVuSans-101\"/>\n     <use x=\"186.523438\" xlink:href=\"#DejaVuSans-112\"/>\n    </g>\n   </g>\n  </g>\n </g>\n <defs>\n  <clipPath id=\"p1999ea03a2\">\n   <rect height=\"543.6\" width=\"558\" x=\"28.942188\" y=\"7.2\"/>\n  </clipPath>\n </defs>\n</svg>\n",
      "image/png": "[encoded data removed]"
     },
     "metadata": {
      "needs_background": "light"
     }
    }
   ],
   "source": [
    "from matplotlib import pylab\n",
    "from sklearn.manifold import TSNE\n",
    "\n",
    "tsne = TSNE(n_components=2)\n",
    "two_d_embeddings = tsne.fit_transform(embeddings.detach().numpy())\n",
    "\n",
    "def plot(embeddings, labels):\n",
    "      assert embeddings.shape[0] >= len(labels), 'More labels than embeddings'\n",
    "      pylab.figure(figsize=(10,10))  # in inches\n",
    "      for i, label in enumerate(labels):\n",
    "        x, y = embeddings[i,:]\n",
    "        pylab.scatter(x, y)\n",
    "        pylab.annotate(label, xy=(x, y), xytext=(5, 2), textcoords='offset points',\n",
    "                       ha='right', va='bottom')\n",
    "      pylab.show()\n",
    "\n",
    "\n",
    "plot(two_d_embeddings, labels)"
   ]
  },
  {
   "cell_type": "code",
   "execution_count": 36,
   "metadata": {},
   "outputs": [
    {
     "output_type": "stream",
     "name": "stdout",
     "text": [
      "Raw text: When forty winters shall besiege thy brow, And dig deep trenches in thy beauty's field, Thy youth's proud livery so gazed on now, Will be a totter'd weed of small worth held: Then being asked, where all thy beauty lies, Where all the treasure of thy lusty days; To say, within thine own deep sunken eyes, Were an all-eating shame, and thriftless praise. How much more praise deserv'd thy beauty's use, If thou couldst answer 'This fair child of mine Shall sum my count, and make my old excuse,' Proving his beauty by succession thine! This were to be new made when thou art old, And see thy blood warm when thou feel'st it cold.\n\nContext: ['When', 'forty']\n\nPrediction: winters\n"
     ]
    }
   ],
   "source": [
    "context = ['When','forty']\n",
    "\n",
    "a = model(torch.tensor([word_to_ix[w] for w in context]))\n",
    "\n",
    "#Print result\n",
    "print(f'Raw text: {\" \".join(test_sentence)}\\n')\n",
    "print(f'Context: {context}\\n')\n",
    "print(f'Prediction: {ix_to_word[torch.argmax(a[0]).item()]}')"
   ]
  },
  {
   "cell_type": "markdown",
   "metadata": {
    "id": "TuCM5LSqjR4V"
   },
   "source": [
    "# Practical. 1: Computing Word Embeddings: Continuous Bag-of-Words in a Toy example\n",
    "\n",
    "\n",
    "\n",
    "The Continuous Bag-of-Words model (CBOW) is frequently used in NLP deep\n",
    "learning. It is a model that tries to predict words given the context of\n",
    "a few words before and a few words after the target word. This is\n",
    "distinct from language modeling, since CBOW is not sequential and does\n",
    "not have to be probabilistic. Typcially, CBOW is used to quickly train\n",
    "word embeddings, and these embeddings are used to initialize the\n",
    "embeddings of some more complicated model. Usually, this is referred to\n",
    "as *pretraining embeddings*. It almost always helps performance a couple\n",
    "of percent.\n",
    "\n",
    "The CBOW model is as follows. Given a target word $w_i$ and an\n",
    "$N$ context window on each side, $w_{i-1}, \\dots, w_{i-N}$\n",
    "and $w_{i+1}, \\dots, w_{i+N}$, referring to all context words\n",
    "collectively as $C$, CBOW tries to minimize,\n",
    "\n",
    "$$\n",
    "\\begin{align}\n",
    "-\\log p(w_i | C) = -\\log \\text{Softmax}(A(\\sum_{w \\in C} q_w) + b)\n",
    "\\end{align}\n",
    "$$\n",
    "\n",
    "where $q_w$ is the embedding for word $w$.\n",
    "\n",
    "Implement this model in Pytorch by filling in the class below. Some\n",
    "tips:\n",
    "\n",
    "* Think about which parameters you need to define.\n",
    "* Make sure you know what shape each operation expects. Use .view() if you need to\n",
    "  reshape.\n",
    "\n",
    "\n"
   ]
  },
  {
   "cell_type": "markdown",
   "metadata": {},
   "source": [
    "##  Data Preprocessing\n",
    "\n",
    "The CBOW model architecture tries to predict the current target word (the center word) based on the source context words (surrounding words). Considering a simple sentence, `the quick brown fox jumps over the lazy dog`, this can be pairs of (context_window, target_word) where if we consider a context size 2 (2 words to the left, 2 to the right),  we have examples like `([the, quick, fox, jumps], brown)` and so on. Thus the model tries to predict the target_word based on the context_window words.\n",
    "\n",
    "\n",
    "Therefore should build a list of tuples.  Each tuple is `([ word_i-2, word_i-1,word_i+1, word_i+2 ], target word)`, we also build dictionaries to map from words to indices, i.e. word_to_ix, and map from indices to words, i.e. ix_to_word,"
   ]
  },
  {
   "cell_type": "code",
   "execution_count": 94,
   "metadata": {},
   "outputs": [
    {
     "output_type": "stream",
     "name": "stdout",
     "text": [
      "[(['We', 'are', 'to', 'study'], 'about'), (['are', 'about', 'study', 'the'], 'to'), (['about', 'to', 'the', 'idea'], 'study'), (['to', 'study', 'idea', 'of'], 'the'), (['study', 'the', 'of', 'a'], 'idea')]\n"
     ]
    }
   ],
   "source": [
    "import torch\n",
    "import torch.nn as nn\n",
    "\n",
    "\n",
    "CONTEXT_SIZE = 2  # 2 words to the left, 2 to the right\n",
    "EMBEDDING_DIM = 100\n",
    "\n",
    "raw_text = \"\"\"We are about to study the idea of a computational process.\n",
    "Computational processes are abstract beings that inhabit computers.\n",
    "As they evolve, processes manipulate other abstract things called data.\n",
    "The evolution of a process is directed by a pattern of rules\n",
    "called a program. People create programs to direct processes. In effect,\n",
    "we conjure the spirits of the computer with our spells.\"\"\".split()\n",
    "\n",
    "\n",
    "# By deriving a set from `raw_text`, we deduplicate the array\n",
    "vocab = set(raw_text)\n",
    "vocab_size = len(vocab)\n",
    "\n",
    "word_to_ix = {word:ix for ix, word in enumerate(vocab)}\n",
    "ix_to_word = {ix:word for ix, word in enumerate(vocab)}\n",
    "\n",
    "data = []\n",
    "for i in range(CONTEXT_SIZE, len(raw_text) - CONTEXT_SIZE):\n",
    "    context = raw_text[i-CONTEXT_SIZE:i] + raw_text[i+1:i+1+CONTEXT_SIZE]\n",
    "    target = raw_text[i]\n",
    "    data.append((context, target))\n",
    "    \n",
    "print(data[:5])"
   ]
  },
  {
   "cell_type": "markdown",
   "metadata": {},
   "source": [
    "\n",
    "## Create CBoW Model\n",
    "Following is an image to illustrate the model architecture. We set the word embedding size to be 100 (or other by your preference)."
   ]
  },
  {
   "cell_type": "markdown",
   "metadata": {},
   "source": [
    "![avatar](https://miro.medium.com/max/328/1*bkrBASpteKfCaxZDEEeN6g.png)"
   ]
  },
  {
   "cell_type": "code",
   "execution_count": 60,
   "metadata": {},
   "outputs": [
    {
     "output_type": "execute_result",
     "data": {
      "text/plain": [
       "str"
      ]
     },
     "metadata": {},
     "execution_count": 60
    }
   ],
   "source": [
    "type(data[0][1])"
   ]
  },
  {
   "cell_type": "code",
   "execution_count": 125,
   "metadata": {
    "id": "c83HvD2hjR4W",
    "scrolled": true,
    "tags": []
   },
   "outputs": [
    {
     "output_type": "stream",
     "name": "stdout",
     "text": [
      "EPOCH 00 | avg_loss 3.9923 | accuracy 0.0000\n",
      "EPOCH 01 | avg_loss 3.8627 | accuracy 0.0172\n",
      "EPOCH 02 | avg_loss 3.7387 | accuracy 0.0862\n",
      "EPOCH 03 | avg_loss 3.6193 | accuracy 0.1207\n",
      "EPOCH 04 | avg_loss 3.5032 | accuracy 0.1379\n",
      "EPOCH 05 | avg_loss 3.3898 | accuracy 0.2069\n",
      "EPOCH 06 | avg_loss 3.2787 | accuracy 0.2414\n",
      "EPOCH 07 | avg_loss 3.1687 | accuracy 0.3103\n",
      "EPOCH 08 | avg_loss 3.0607 | accuracy 0.4138\n",
      "EPOCH 09 | avg_loss 2.9556 | accuracy 0.4655\n",
      "EPOCH 10 | avg_loss 2.8523 | accuracy 0.4655\n",
      "EPOCH 11 | avg_loss 2.7513 | accuracy 0.4828\n",
      "EPOCH 12 | avg_loss 2.6518 | accuracy 0.5000\n",
      "EPOCH 13 | avg_loss 2.5536 | accuracy 0.5000\n",
      "EPOCH 14 | avg_loss 2.4572 | accuracy 0.5690\n",
      "EPOCH 15 | avg_loss 2.3625 | accuracy 0.6034\n",
      "EPOCH 16 | avg_loss 2.2695 | accuracy 0.6379\n",
      "EPOCH 17 | avg_loss 2.1780 | accuracy 0.6552\n",
      "EPOCH 18 | avg_loss 2.0881 | accuracy 0.7241\n",
      "EPOCH 19 | avg_loss 1.9998 | accuracy 0.7586\n",
      "EPOCH 20 | avg_loss 1.9132 | accuracy 0.7759\n",
      "EPOCH 21 | avg_loss 1.8285 | accuracy 0.7759\n",
      "EPOCH 22 | avg_loss 1.7455 | accuracy 0.8103\n",
      "EPOCH 23 | avg_loss 1.6645 | accuracy 0.8103\n",
      "EPOCH 24 | avg_loss 1.5856 | accuracy 0.8621\n",
      "EPOCH 25 | avg_loss 1.5088 | accuracy 0.8621\n",
      "EPOCH 26 | avg_loss 1.4342 | accuracy 0.8793\n",
      "EPOCH 27 | avg_loss 1.3619 | accuracy 0.9138\n",
      "EPOCH 28 | avg_loss 1.2921 | accuracy 0.9310\n",
      "EPOCH 29 | avg_loss 1.2251 | accuracy 0.9655\n",
      "EPOCH 30 | avg_loss 1.1607 | accuracy 0.9828\n",
      "EPOCH 31 | avg_loss 1.0987 | accuracy 0.9828\n",
      "EPOCH 32 | avg_loss 1.0395 | accuracy 0.9828\n",
      "EPOCH 33 | avg_loss 0.9834 | accuracy 1.0000\n",
      "EPOCH 34 | avg_loss 0.9296 | accuracy 1.0000\n",
      "EPOCH 35 | avg_loss 0.8789 | accuracy 1.0000\n",
      "EPOCH 36 | avg_loss 0.8309 | accuracy 1.0000\n",
      "EPOCH 37 | avg_loss 0.7855 | accuracy 1.0000\n",
      "EPOCH 38 | avg_loss 0.7430 | accuracy 1.0000\n",
      "EPOCH 39 | avg_loss 0.7031 | accuracy 1.0000\n",
      "EPOCH 40 | avg_loss 0.6657 | accuracy 1.0000\n",
      "EPOCH 41 | avg_loss 0.6306 | accuracy 1.0000\n",
      "EPOCH 42 | avg_loss 0.5980 | accuracy 1.0000\n",
      "EPOCH 43 | avg_loss 0.5673 | accuracy 1.0000\n",
      "EPOCH 44 | avg_loss 0.5387 | accuracy 1.0000\n",
      "EPOCH 45 | avg_loss 0.5120 | accuracy 1.0000\n",
      "EPOCH 46 | avg_loss 0.4872 | accuracy 1.0000\n",
      "EPOCH 47 | avg_loss 0.4639 | accuracy 1.0000\n",
      "EPOCH 48 | avg_loss 0.4422 | accuracy 1.0000\n",
      "EPOCH 49 | avg_loss 0.4219 | accuracy 1.0000\n"
     ]
    }
   ],
   "source": [
    "class CBOW(torch.nn.Module):\n",
    "    def __init__(self, vocab_size, embedding_dim, context_size):\n",
    "        super(CBOW, self).__init__()\n",
    "        self.embedding = nn.Embedding(vocab_size, embedding_dim)\n",
    "        self.linear1 = nn.Linear(embedding_dim, 128)\n",
    "        self.activation1 = nn.ReLU()\n",
    "        self.linear2 = nn.Linear(128, vocab_size)\n",
    "        self.activation2 = nn.LogSoftmax(dim=-1)\n",
    "\n",
    "    def forward(self, inputs):\n",
    "        out = sum(self.embedding(inputs)).view((1, -1))\n",
    "        out = self.linear1(out)\n",
    "        out = self.activation1(out)\n",
    "        out = self.linear2(out)\n",
    "        out = self.activation2(out)\n",
    "        return out\n",
    "\n",
    "def make_ix_vector(words, word_to_ix=word_to_ix):\n",
    "    if type(words) is str:\n",
    "        idxs = [word_to_ix[words]]\n",
    "    else:\n",
    "        idxs = [word_to_ix[w] for w in context]\n",
    "    return torch.tensor(idxs, dtype=torch.long)\n",
    "\n",
    "\n",
    "model = CBOW(vocab_size, EMBEDDING_DIM, CONTEXT_SIZE)\n",
    "loss_function = nn.NLLLoss()\n",
    "opt = optim.SGD(model.parameters(), lr=0.001)\n",
    "\n",
    "#TRAINING\n",
    "for epoch in range(50):\n",
    "    total_loss = 0\n",
    "    total_correct = 0\n",
    "    for context, target in data:\n",
    "        context_ix = make_ix_vector(context)\n",
    "        target_ix = make_ix_vector(target)\n",
    "        model.zero_grad()\n",
    "\n",
    "        log_probs = model(context_ix)\n",
    "        loss = loss_function(log_probs, target_ix)\n",
    "        if torch.argmax(log_probs[0]).item() == target_ix:\n",
    "            total_correct += 1\n",
    "\n",
    "        loss.backward()\n",
    "        opt.step()\n",
    "\n",
    "        total_loss += loss.item()\n",
    "\n",
    "    avg_loss = total_loss / len(data)\n",
    "    acc = total_correct / len(data)\n",
    "    print(f'EPOCH {epoch:02d} | avg_loss {avg_loss:.4f} | accuracy {acc:.4f}')"
   ]
  },
  {
   "cell_type": "markdown",
   "metadata": {},
   "source": [
    "##  Check the results\n",
    "\n",
    "Then we check the results by making predictions of target work by context"
   ]
  },
  {
   "cell_type": "code",
   "execution_count": 71,
   "metadata": {
    "scrolled": true
   },
   "outputs": [
    {
     "output_type": "stream",
     "name": "stdout",
     "text": [
      "Raw text: We are about to study the idea of a computational process. Computational processes are abstract beings that inhabit computers. As they evolve, processes manipulate other abstract things called data. The evolution of a process is directed by a pattern of rules called a program. People create programs to direct processes. In effect, we conjure the spirits of the computer with our spells.\n\nContext: ['People', 'create', 'to', 'direct']\n\nPrediction: programs\n"
     ]
    }
   ],
   "source": [
    "context = ['People','create','to', 'direct']\n",
    "context_vector = make_ix_vector(context, word_to_ix)\n",
    "a = model(context_vector)\n",
    "\n",
    "#Print result\n",
    "print(f'Raw text: {\" \".join(raw_text)}\\n')\n",
    "print(f'Context: {context}\\n')\n",
    "print(f'Prediction: {ix_to_word[torch.argmax(a[0]).item()]}')"
   ]
  },
  {
   "cell_type": "markdown",
   "metadata": {},
   "source": [
    "# Practical. 2: Computing Word Embeddings in  `Alice in Wonderland` using CBoW"
   ]
  },
  {
   "cell_type": "markdown",
   "metadata": {},
   "source": [
    "Now let's try to build word embedding in a  ‘Alice in Wonderland’ instead of a toy example.  Download the word-label mapping dictionaries and corpus by this [link](https://drive.google.com/drive/folders/1mYM29PbWQ4rS0bgKndFJjZlkbcwMaEpO?usp=sharing), and upload them into your own google drive. After that, mount them to the drive folder so we can use them in colab by:"
   ]
  },
  {
   "cell_type": "markdown",
   "metadata": {},
   "source": [
    "##  Data Preprocessing"
   ]
  },
  {
   "cell_type": "code",
   "execution_count": null,
   "metadata": {},
   "outputs": [],
   "source": [
    "# from google.colab import drive\n",
    "# !mkdir drive\n",
    "# drive.mount('drive')"
   ]
  },
  {
   "cell_type": "markdown",
   "metadata": {},
   "source": [
    "Then we list all the data in your drive to see if we mount successfully."
   ]
  },
  {
   "cell_type": "code",
   "execution_count": null,
   "metadata": {},
   "outputs": [],
   "source": [
    "# !ls \"drive/My Drive/\""
   ]
  },
  {
   "cell_type": "code",
   "execution_count": 3,
   "metadata": {},
   "outputs": [],
   "source": [
    "# modify the path according to your own file location\n",
    "import os\n",
    "data_path=os.path.join(\"Word_embedding_data/\")"
   ]
  },
  {
   "cell_type": "markdown",
   "metadata": {},
   "source": [
    "Then we load the data"
   ]
  },
  {
   "cell_type": "code",
   "execution_count": 4,
   "metadata": {},
   "outputs": [],
   "source": [
    "import json\n",
    "with open(os.path.join(data_path,\"alice.json\"),'r') as f:\n",
    "    alice = json.load(f)\n",
    "with open(os.path.join(data_path,\"ix_to_word.json\"),'r') as f:\n",
    "    ix_to_word = json.load(f)\n",
    "with open(os.path.join(data_path,\"word_to_ix.json\"),'r') as f:\n",
    "    word_to_ix = json.load(f)"
   ]
  },
  {
   "cell_type": "markdown",
   "metadata": {},
   "source": [
    "Then we create the context and target pair with the help of keras function, we set the window_size 2 (2 words to the left, 2 to the right)"
   ]
  },
  {
   "cell_type": "code",
   "execution_count": 5,
   "metadata": {},
   "outputs": [],
   "source": [
    "window_size=2\n",
    "vocab_size=len(word_to_ix)\n",
    "\n",
    "from keras.preprocessing import text\n",
    "from keras.preprocessing import sequence\n",
    "\n",
    "corpus = [[word_to_ix[w] for w in text.text_to_word_sequence(doc)] for doc in alice]\n",
    "\n",
    "def generate_context_word_pairs(corpus, window_size, vocab_size):\n",
    "    X = []\n",
    "    Y = []\n",
    "    context_length = window_size*2\n",
    "    for words in corpus:\n",
    "        sentence_length = len(words)\n",
    "        for index, word in enumerate(words):           \n",
    "            start = index - window_size\n",
    "            end = index + window_size + 1\n",
    "            context = [words[i] for i in range(start, end)if 0 <= i < sentence_length and i != index]\n",
    "            x = sequence.pad_sequences([context], maxlen=context_length)[0]\n",
    "            X.append(x)\n",
    "            Y.append([word])\n",
    "\n",
    "    X=torch.tensor(X, dtype=torch.long)\n",
    "    Y=torch.tensor(Y, dtype=torch.long)\n",
    "    return X,Y\n",
    "\n",
    "X,Y = generate_context_word_pairs(corpus, window_size=window_size, vocab_size=vocab_size)"
   ]
  },
  {
   "cell_type": "markdown",
   "metadata": {},
   "source": [
    "\n",
    "##  Create CBoW Model\n",
    "Now we create CBoW model, we could set the word embedding size to be 100 (or other by your preference)."
   ]
  },
  {
   "cell_type": "code",
   "execution_count": 6,
   "metadata": {},
   "outputs": [],
   "source": [
    "class CBOW(torch.nn.Module):\n",
    "    def __init__(self, vocab_size, embedding_dim, context_size):\n",
    "         super(CBOW, self).__init__()\n",
    "         self.embedding = nn.Embedding(vocab_size, embedding_dim)\n",
    "         self.linear1 = nn.Linear(embedding_dim, 128)\n",
    "         self.linear2 = nn.Linear(128, vocab_size)\n",
    "\n",
    "    def forward(self, inputs):\n",
    "         out = sum(self.embedding(inputs)).view((1, -1))\n",
    "         out = F.relu(self.linear1(out))\n",
    "         out = self.linear2(out)\n",
    "         return F.log_softmax(out, dim=1)\n",
    "    \n",
    "    \n",
    "EMBEDDING_DIM=100\n",
    "model = CBOW(vocab_size, EMBEDDING_DIM, window_size)"
   ]
  },
  {
   "cell_type": "markdown",
   "metadata": {},
   "source": [
    "Remember to move your model to GPU because now we are training with a lot of corpus."
   ]
  },
  {
   "cell_type": "code",
   "execution_count": 7,
   "metadata": {},
   "outputs": [
    {
     "output_type": "execute_result",
     "data": {
      "text/plain": [
       "CBOW(\n",
       "  (embedding): Embedding(2379, 100)\n",
       "  (linear1): Linear(in_features=100, out_features=128, bias=True)\n",
       "  (linear2): Linear(in_features=128, out_features=2379, bias=True)\n",
       ")"
      ]
     },
     "metadata": {},
     "execution_count": 7
    }
   ],
   "source": [
    "# Move model to GPU\n",
    "dev = torch.device(\n",
    "    \"cuda\") if torch.cuda.is_available() else torch.device(\"cpu\")\n",
    "\n",
    "model.to(dev)"
   ]
  },
  {
   "cell_type": "markdown",
   "metadata": {},
   "source": [
    "Then we train the model and print the loss. Loss should decrease every iteration over the training data. Play with the epochs numbers here, recommend 200 or above."
   ]
  },
  {
   "cell_type": "code",
   "execution_count": 9,
   "metadata": {},
   "outputs": [
    {
     "output_type": "stream",
     "name": "stdout",
     "text": [
      "EPOCH 000 | avg_loss 6.3433 | accuracy 0.0737\n",
      "EPOCH 001 | avg_loss 6.1804 | accuracy 0.0806\n",
      "EPOCH 002 | avg_loss 6.0189 | accuracy 0.0893\n",
      "EPOCH 003 | avg_loss 5.8567 | accuracy 0.0961\n",
      "EPOCH 004 | avg_loss 5.6900 | accuracy 0.1033\n",
      "EPOCH 005 | avg_loss 5.5164 | accuracy 0.1125\n",
      "EPOCH 006 | avg_loss 5.3351 | accuracy 0.1240\n",
      "EPOCH 007 | avg_loss 5.1457 | accuracy 0.1358\n",
      "EPOCH 008 | avg_loss 4.9490 | accuracy 0.1476\n",
      "EPOCH 009 | avg_loss 4.7456 | accuracy 0.1604\n",
      "EPOCH 010 | avg_loss 4.5365 | accuracy 0.1772\n",
      "EPOCH 011 | avg_loss 4.3233 | accuracy 0.1947\n",
      "EPOCH 012 | avg_loss 4.1074 | accuracy 0.2160\n",
      "EPOCH 013 | avg_loss 3.8905 | accuracy 0.2380\n",
      "EPOCH 014 | avg_loss 3.6749 | accuracy 0.2642\n",
      "EPOCH 015 | avg_loss 3.4631 | accuracy 0.2961\n",
      "EPOCH 016 | avg_loss 3.2570 | accuracy 0.3299\n",
      "EPOCH 017 | avg_loss 3.0592 | accuracy 0.3687\n",
      "EPOCH 018 | avg_loss 2.8716 | accuracy 0.4061\n",
      "EPOCH 019 | avg_loss 2.6965 | accuracy 0.4407\n",
      "EPOCH 020 | avg_loss 2.5349 | accuracy 0.4738\n",
      "EPOCH 021 | avg_loss 2.3870 | accuracy 0.5017\n",
      "EPOCH 022 | avg_loss 2.2522 | accuracy 0.5315\n",
      "EPOCH 023 | avg_loss 2.1298 | accuracy 0.5568\n",
      "EPOCH 024 | avg_loss 2.0186 | accuracy 0.5808\n",
      "EPOCH 025 | avg_loss 1.9176 | accuracy 0.6019\n",
      "EPOCH 026 | avg_loss 1.8252 | accuracy 0.6223\n",
      "EPOCH 027 | avg_loss 1.7408 | accuracy 0.6403\n",
      "EPOCH 028 | avg_loss 1.6634 | accuracy 0.6568\n",
      "EPOCH 029 | avg_loss 1.5918 | accuracy 0.6730\n",
      "EPOCH 030 | avg_loss 1.5255 | accuracy 0.6856\n",
      "EPOCH 031 | avg_loss 1.4640 | accuracy 0.6994\n",
      "EPOCH 032 | avg_loss 1.4064 | accuracy 0.7110\n",
      "EPOCH 033 | avg_loss 1.3524 | accuracy 0.7235\n",
      "EPOCH 034 | avg_loss 1.3019 | accuracy 0.7343\n",
      "EPOCH 035 | avg_loss 1.2543 | accuracy 0.7438\n",
      "EPOCH 036 | avg_loss 1.2092 | accuracy 0.7535\n",
      "EPOCH 037 | avg_loss 1.1666 | accuracy 0.7638\n",
      "EPOCH 038 | avg_loss 1.1262 | accuracy 0.7705\n",
      "EPOCH 039 | avg_loss 1.0876 | accuracy 0.7797\n",
      "EPOCH 040 | avg_loss 1.0507 | accuracy 0.7883\n",
      "EPOCH 041 | avg_loss 1.0156 | accuracy 0.7959\n",
      "EPOCH 042 | avg_loss 0.9822 | accuracy 0.8032\n",
      "EPOCH 043 | avg_loss 0.9501 | accuracy 0.8098\n",
      "EPOCH 044 | avg_loss 0.9194 | accuracy 0.8174\n",
      "EPOCH 045 | avg_loss 0.8900 | accuracy 0.8242\n",
      "EPOCH 046 | avg_loss 0.8615 | accuracy 0.8305\n",
      "EPOCH 047 | avg_loss 0.8345 | accuracy 0.8363\n",
      "EPOCH 048 | avg_loss 0.8082 | accuracy 0.8432\n",
      "EPOCH 049 | avg_loss 0.7833 | accuracy 0.8480\n",
      "EPOCH 050 | avg_loss 0.7590 | accuracy 0.8529\n",
      "EPOCH 051 | avg_loss 0.7357 | accuracy 0.8568\n",
      "EPOCH 052 | avg_loss 0.7134 | accuracy 0.8615\n",
      "EPOCH 053 | avg_loss 0.6916 | accuracy 0.8661\n",
      "EPOCH 054 | avg_loss 0.6707 | accuracy 0.8712\n",
      "EPOCH 055 | avg_loss 0.6505 | accuracy 0.8751\n",
      "EPOCH 056 | avg_loss 0.6311 | accuracy 0.8802\n",
      "EPOCH 057 | avg_loss 0.6125 | accuracy 0.8836\n",
      "EPOCH 058 | avg_loss 0.5944 | accuracy 0.8878\n",
      "EPOCH 059 | avg_loss 0.5771 | accuracy 0.8905\n",
      "EPOCH 060 | avg_loss 0.5602 | accuracy 0.8940\n",
      "EPOCH 061 | avg_loss 0.5443 | accuracy 0.8973\n",
      "EPOCH 062 | avg_loss 0.5287 | accuracy 0.9014\n",
      "EPOCH 063 | avg_loss 0.5137 | accuracy 0.9054\n",
      "EPOCH 064 | avg_loss 0.4994 | accuracy 0.9084\n",
      "EPOCH 065 | avg_loss 0.4854 | accuracy 0.9116\n",
      "EPOCH 066 | avg_loss 0.4724 | accuracy 0.9139\n",
      "EPOCH 067 | avg_loss 0.4597 | accuracy 0.9157\n",
      "EPOCH 068 | avg_loss 0.4476 | accuracy 0.9178\n",
      "EPOCH 069 | avg_loss 0.4360 | accuracy 0.9199\n",
      "EPOCH 070 | avg_loss 0.4248 | accuracy 0.9221\n",
      "EPOCH 071 | avg_loss 0.4143 | accuracy 0.9236\n",
      "EPOCH 072 | avg_loss 0.4043 | accuracy 0.9250\n",
      "EPOCH 073 | avg_loss 0.3946 | accuracy 0.9274\n",
      "EPOCH 074 | avg_loss 0.3856 | accuracy 0.9285\n",
      "EPOCH 075 | avg_loss 0.3768 | accuracy 0.9292\n",
      "EPOCH 076 | avg_loss 0.3687 | accuracy 0.9310\n",
      "EPOCH 077 | avg_loss 0.3608 | accuracy 0.9322\n",
      "EPOCH 078 | avg_loss 0.3533 | accuracy 0.9333\n",
      "EPOCH 079 | avg_loss 0.3462 | accuracy 0.9342\n",
      "EPOCH 080 | avg_loss 0.3394 | accuracy 0.9351\n",
      "EPOCH 081 | avg_loss 0.3330 | accuracy 0.9358\n",
      "EPOCH 082 | avg_loss 0.3271 | accuracy 0.9365\n",
      "EPOCH 083 | avg_loss 0.3213 | accuracy 0.9375\n",
      "EPOCH 084 | avg_loss 0.3159 | accuracy 0.9376\n",
      "EPOCH 085 | avg_loss 0.3106 | accuracy 0.9385\n",
      "EPOCH 086 | avg_loss 0.3060 | accuracy 0.9391\n",
      "EPOCH 087 | avg_loss 0.3014 | accuracy 0.9393\n",
      "EPOCH 088 | avg_loss 0.2970 | accuracy 0.9397\n",
      "EPOCH 089 | avg_loss 0.2929 | accuracy 0.9398\n",
      "EPOCH 090 | avg_loss 0.2890 | accuracy 0.9401\n",
      "EPOCH 091 | avg_loss 0.2854 | accuracy 0.9399\n",
      "EPOCH 092 | avg_loss 0.2819 | accuracy 0.9403\n",
      "EPOCH 093 | avg_loss 0.2786 | accuracy 0.9404\n",
      "EPOCH 094 | avg_loss 0.2755 | accuracy 0.9405\n",
      "EPOCH 095 | avg_loss 0.2725 | accuracy 0.9407\n",
      "EPOCH 096 | avg_loss 0.2697 | accuracy 0.9408\n",
      "EPOCH 097 | avg_loss 0.2671 | accuracy 0.9409\n",
      "EPOCH 098 | avg_loss 0.2645 | accuracy 0.9408\n",
      "EPOCH 099 | avg_loss 0.2620 | accuracy 0.9409\n",
      "EPOCH 100 | avg_loss 0.2596 | accuracy 0.9408\n",
      "EPOCH 101 | avg_loss 0.2574 | accuracy 0.9409\n",
      "EPOCH 102 | avg_loss 0.2552 | accuracy 0.9412\n",
      "EPOCH 103 | avg_loss 0.2533 | accuracy 0.9412\n",
      "EPOCH 104 | avg_loss 0.2513 | accuracy 0.9411\n",
      "EPOCH 105 | avg_loss 0.2494 | accuracy 0.9414\n",
      "EPOCH 106 | avg_loss 0.2475 | accuracy 0.9414\n",
      "EPOCH 107 | avg_loss 0.2460 | accuracy 0.9413\n",
      "EPOCH 108 | avg_loss 0.2443 | accuracy 0.9413\n",
      "EPOCH 109 | avg_loss 0.2428 | accuracy 0.9414\n",
      "EPOCH 110 | avg_loss 0.2411 | accuracy 0.9415\n",
      "EPOCH 111 | avg_loss 0.2397 | accuracy 0.9416\n",
      "EPOCH 112 | avg_loss 0.2382 | accuracy 0.9415\n",
      "EPOCH 113 | avg_loss 0.2369 | accuracy 0.9415\n",
      "EPOCH 114 | avg_loss 0.2356 | accuracy 0.9415\n",
      "EPOCH 115 | avg_loss 0.2344 | accuracy 0.9415\n",
      "EPOCH 116 | avg_loss 0.2331 | accuracy 0.9415\n",
      "EPOCH 117 | avg_loss 0.2319 | accuracy 0.9415\n",
      "EPOCH 118 | avg_loss 0.2307 | accuracy 0.9416\n",
      "EPOCH 119 | avg_loss 0.2296 | accuracy 0.9416\n",
      "EPOCH 120 | avg_loss 0.2285 | accuracy 0.9417\n",
      "EPOCH 121 | avg_loss 0.2274 | accuracy 0.9416\n",
      "EPOCH 122 | avg_loss 0.2263 | accuracy 0.9418\n",
      "EPOCH 123 | avg_loss 0.2254 | accuracy 0.9416\n",
      "EPOCH 124 | avg_loss 0.2244 | accuracy 0.9417\n",
      "EPOCH 125 | avg_loss 0.2234 | accuracy 0.9418\n",
      "EPOCH 126 | avg_loss 0.2225 | accuracy 0.9417\n",
      "EPOCH 127 | avg_loss 0.2214 | accuracy 0.9418\n",
      "EPOCH 128 | avg_loss 0.2207 | accuracy 0.9417\n",
      "EPOCH 129 | avg_loss 0.2200 | accuracy 0.9418\n",
      "EPOCH 130 | avg_loss 0.2189 | accuracy 0.9417\n",
      "EPOCH 131 | avg_loss 0.2181 | accuracy 0.9418\n",
      "EPOCH 132 | avg_loss 0.2172 | accuracy 0.9417\n",
      "EPOCH 133 | avg_loss 0.2164 | accuracy 0.9418\n",
      "EPOCH 134 | avg_loss 0.2157 | accuracy 0.9417\n",
      "EPOCH 135 | avg_loss 0.2149 | accuracy 0.9416\n",
      "EPOCH 136 | avg_loss 0.2142 | accuracy 0.9416\n",
      "EPOCH 137 | avg_loss 0.2133 | accuracy 0.9416\n",
      "EPOCH 138 | avg_loss 0.2126 | accuracy 0.9416\n",
      "EPOCH 139 | avg_loss 0.2120 | accuracy 0.9415\n",
      "EPOCH 140 | avg_loss 0.2113 | accuracy 0.9416\n",
      "EPOCH 141 | avg_loss 0.2105 | accuracy 0.9416\n",
      "EPOCH 142 | avg_loss 0.2098 | accuracy 0.9415\n",
      "EPOCH 143 | avg_loss 0.2092 | accuracy 0.9414\n",
      "EPOCH 144 | avg_loss 0.2084 | accuracy 0.9413\n",
      "EPOCH 145 | avg_loss 0.2079 | accuracy 0.9413\n",
      "EPOCH 146 | avg_loss 0.2071 | accuracy 0.9413\n",
      "EPOCH 147 | avg_loss 0.2065 | accuracy 0.9414\n",
      "EPOCH 148 | avg_loss 0.2059 | accuracy 0.9414\n",
      "EPOCH 149 | avg_loss 0.2054 | accuracy 0.9413\n",
      "EPOCH 150 | avg_loss 0.2046 | accuracy 0.9414\n",
      "EPOCH 151 | avg_loss 0.2041 | accuracy 0.9415\n",
      "EPOCH 152 | avg_loss 0.2036 | accuracy 0.9415\n",
      "EPOCH 153 | avg_loss 0.2029 | accuracy 0.9415\n",
      "EPOCH 154 | avg_loss 0.2024 | accuracy 0.9414\n",
      "EPOCH 155 | avg_loss 0.2018 | accuracy 0.9414\n",
      "EPOCH 156 | avg_loss 0.2014 | accuracy 0.9414\n",
      "EPOCH 157 | avg_loss 0.2008 | accuracy 0.9414\n",
      "EPOCH 158 | avg_loss 0.2004 | accuracy 0.9414\n",
      "EPOCH 159 | avg_loss 0.1998 | accuracy 0.9414\n",
      "EPOCH 160 | avg_loss 0.1993 | accuracy 0.9414\n",
      "EPOCH 161 | avg_loss 0.1988 | accuracy 0.9414\n",
      "EPOCH 162 | avg_loss 0.1983 | accuracy 0.9414\n",
      "EPOCH 163 | avg_loss 0.1979 | accuracy 0.9413\n",
      "EPOCH 164 | avg_loss 0.1974 | accuracy 0.9414\n",
      "EPOCH 165 | avg_loss 0.1968 | accuracy 0.9414\n",
      "EPOCH 166 | avg_loss 0.1963 | accuracy 0.9412\n",
      "EPOCH 167 | avg_loss 0.1959 | accuracy 0.9413\n",
      "EPOCH 168 | avg_loss 0.1953 | accuracy 0.9412\n",
      "EPOCH 169 | avg_loss 0.1948 | accuracy 0.9412\n",
      "EPOCH 170 | avg_loss 0.1944 | accuracy 0.9412\n",
      "EPOCH 171 | avg_loss 0.1940 | accuracy 0.9411\n",
      "EPOCH 172 | avg_loss 0.1935 | accuracy 0.9410\n",
      "EPOCH 173 | avg_loss 0.1931 | accuracy 0.9411\n",
      "EPOCH 174 | avg_loss 0.1926 | accuracy 0.9411\n",
      "EPOCH 175 | avg_loss 0.1920 | accuracy 0.9411\n",
      "EPOCH 176 | avg_loss 0.1917 | accuracy 0.9410\n",
      "EPOCH 177 | avg_loss 0.1913 | accuracy 0.9412\n",
      "EPOCH 178 | avg_loss 0.1909 | accuracy 0.9411\n",
      "EPOCH 179 | avg_loss 0.1904 | accuracy 0.9412\n",
      "EPOCH 180 | avg_loss 0.1900 | accuracy 0.9412\n",
      "EPOCH 181 | avg_loss 0.1896 | accuracy 0.9412\n",
      "EPOCH 182 | avg_loss 0.1893 | accuracy 0.9412\n",
      "EPOCH 183 | avg_loss 0.1888 | accuracy 0.9412\n",
      "EPOCH 184 | avg_loss 0.1884 | accuracy 0.9412\n",
      "EPOCH 185 | avg_loss 0.1880 | accuracy 0.9412\n",
      "EPOCH 186 | avg_loss 0.1876 | accuracy 0.9412\n",
      "EPOCH 187 | avg_loss 0.1872 | accuracy 0.9412\n",
      "EPOCH 188 | avg_loss 0.1868 | accuracy 0.9412\n",
      "EPOCH 189 | avg_loss 0.1865 | accuracy 0.9412\n",
      "EPOCH 190 | avg_loss 0.1861 | accuracy 0.9412\n",
      "EPOCH 191 | avg_loss 0.1857 | accuracy 0.9412\n",
      "EPOCH 192 | avg_loss 0.1853 | accuracy 0.9412\n",
      "EPOCH 193 | avg_loss 0.1849 | accuracy 0.9410\n",
      "EPOCH 194 | avg_loss 0.1844 | accuracy 0.9411\n",
      "EPOCH 195 | avg_loss 0.1840 | accuracy 0.9410\n",
      "EPOCH 196 | avg_loss 0.1836 | accuracy 0.9411\n",
      "EPOCH 197 | avg_loss 0.1834 | accuracy 0.9410\n",
      "EPOCH 198 | avg_loss 0.1830 | accuracy 0.9410\n",
      "EPOCH 199 | avg_loss 0.1826 | accuracy 0.9411\n"
     ]
    }
   ],
   "source": [
    "loss_function = nn.NLLLoss()\n",
    "opt = optim.SGD(model.parameters(), lr=0.001)\n",
    "\n",
    "for epoch in range(200):\n",
    "    total_loss = 0\n",
    "    total_correct = 0\n",
    "    for context, target in zip(X, Y):\n",
    "        model.zero_grad()\n",
    "\n",
    "        log_probs = model(context.to(dev))\n",
    "        loss = loss_function(log_probs, target.to(dev))\n",
    "        if torch.argmax(log_probs[0]).item() == target:\n",
    "            total_correct += 1\n",
    "\n",
    "        loss.backward()\n",
    "        opt.step()\n",
    "\n",
    "        total_loss += loss.item()\n",
    "    \n",
    "    avg_loss = total_loss / len(X)\n",
    "    acc = total_correct / len(X)\n",
    "    print(f'EPOCH {epoch:03d} | avg_loss {avg_loss:.4f} | accuracy {acc:.4f}')"
   ]
  },
  {
   "cell_type": "markdown",
   "metadata": {},
   "source": [
    "# Practical. 3: Analogy Task"
   ]
  },
  {
   "cell_type": "markdown",
   "metadata": {},
   "source": [
    "\n",
    "\n",
    "\n",
    "**Reading material**\n",
    "* [1] Mikolov, Tomas, et al. \"[Efficient Estimation of Word Representations in Vector Space](https://arxiv.org/abs/1301.3781)\" Advances in neural information processing systems. 2013. \n"
   ]
  },
  {
   "cell_type": "markdown",
   "metadata": {},
   "source": [
    "Implement your own function to perform the analogy task (see [1] for concrete examples). Use the same distance metric as in [1]. Your function should be able to answer whether an analogy like: \"a king is to a queen as a man is to a woman\" ($e_{king} - e_{queen} + e_{woman} \\approx e_{man}$) is true. \n",
    "\n",
    "In a perfect scenario, we would like that this analogy ($e_{king} - e_{queen} + e_{woman}$) results in the embedding of the word \"man\". However, it does not always result in exactly the same word embedding. The result of the formula is called the expected or the predicted word embedding. In this context, \"man\" is called the true or the actual word $t$. We want to find the word $p$ in the vocabulary, where the embedding of $p$ ($e_p$) is the closest to the predicted embedding (i.e. result of the formula). Then, we can check if $p$ is the same word as the true word $t$.  \n",
    "\n",
    "You have to answer an analogy function using each embedding for  CBOW model. Show the true word (with distance similarity value between predicted embedding and true word embedding, i.e. `sim1`) , the predicted word (with distance similarity value between predicted embedding and the embedding of the word in the vocabulary that is closest to this predicted embedding, i.e. `sim2`).\n",
    "\n",
    "Since `Alice in wonder land` is a relatively small dataset to training the model for the analogy task,  we may find it is difficult to get the correct answer by searching the nearest word embedding. Therefore, we extend the predicted word to the nearest `nr` number of words and check if the true word is within them. Do not expect the `nr` to be very small, it could be hundreds.\n",
    "\n"
   ]
  },
  {
   "cell_type": "markdown",
   "metadata": {},
   "source": [
    "<b>HINT</b>: to visualize the results of the analogy tasks , you can print them in a table. An example is given below.\n",
    "\n",
    "\n",
    "| Analogy task | True word (sim1)  | Predicted nearaest word (sim2) | Correct? |True word within the top `nr` nearest word?|\n",
    "|:------:|:------:|:------:|:------:|:------:|\n",
    "|  queen is to king as woman is to ?\t | man (sim1) | predictd_word(sim2) | True / False |   True / False|"
   ]
  },
  {
   "cell_type": "code",
   "execution_count": 8,
   "metadata": {},
   "outputs": [],
   "source": [
    "analogy=('queen', 'king', 'woman', 'man')"
   ]
  },
  {
   "cell_type": "markdown",
   "metadata": {},
   "source": [
    "First let us extract the embeddings of all vocabularies for the following task"
   ]
  },
  {
   "cell_type": "code",
   "execution_count": 9,
   "metadata": {},
   "outputs": [],
   "source": [
    "dev = torch.device(\n",
    "    \"cuda\") if torch.cuda.is_available() else torch.device(\"cpu\")"
   ]
  },
  {
   "cell_type": "code",
   "execution_count": 10,
   "metadata": {},
   "outputs": [],
   "source": [
    "embeddings = model.embedding(torch.Tensor([list(range(0,vocab_size))]).long().to(dev))\n",
    "embeddings = embeddings.view(-1,100)\n",
    "embeddings = embeddings.cpu().detach().numpy()"
   ]
  },
  {
   "cell_type": "markdown",
   "metadata": {},
   "source": [
    "Then we define a 'get_nearest_words' function to retrive the nearest `nr` words to a certain word embedding"
   ]
  },
  {
   "cell_type": "code",
   "execution_count": 19,
   "metadata": {},
   "outputs": [],
   "source": [
    "from sklearn.metrics import pairwise\n",
    "\n",
    "def get_nearest_words(target, embs, nr):\n",
    "    sims = pairwise.cosine_similarity([target], embeddings).reshape(-1)\n",
    "    nearest_ixs = np.flip(sims.argsort())[:nr]\n",
    "    return nearest_ixs"
   ]
  },
  {
   "cell_type": "markdown",
   "metadata": {},
   "source": [
    "Now let's search for the nearest `one` and `nr` words of the predicted word embedding, and print results of the analogy tasks"
   ]
  },
  {
   "cell_type": "code",
   "execution_count": 51,
   "metadata": {},
   "outputs": [],
   "source": [
    "def print_analogy(analogy, nr=100, print_nearest=False):\n",
    "    analogy_ixs = [word_to_ix[word] for word in analogy]\n",
    "    analogy_embeds = [embeddings[ix] for ix in analogy_ixs]\n",
    "    target = analogy_embeds[0] - analogy_embeds[1] + analogy_embeds[2]\n",
    "    pred_nearest_ixs = get_nearest_words(target, embeddings, nr)\n",
    "    pred_word = ix_to_word[str(pred_nearest_ixs[0])]\n",
    "    is_within_nearest_nr = word_to_ix[analogy[3]] in pred_nearest_ixs\n",
    "\n",
    "    print(f'Analogy task: {analogy[0]} is to {analogy[1]} as {analogy[2]} is to ?')\n",
    "    print(f'True word: {analogy[3]}')\n",
    "    print(f'Predicted word: {pred_word}')\n",
    "    print(f'Correct: {pred_word == analogy[3]}')\n",
    "    print(f'Is within nearest `nr` predicted words: {is_within_nearest_nr}')\n",
    "    if print_nearest:\n",
    "        print('Nearest words:')\n",
    "        for ix in pred_nearest_ixs:\n",
    "            print(f'- {ix_to_word[str(ix)]}')"
   ]
  },
  {
   "cell_type": "code",
   "execution_count": 53,
   "metadata": {},
   "outputs": [
    {
     "output_type": "stream",
     "name": "stdout",
     "text": [
      "Analogy task: queen is to king as woman is to ?\nTrue word: man\nPredicted word: queen\nCorrect: False\nIs within nearest `nr` predicted words: False\nNearest words:\n- queen\n- woman\n- several\n- lost\n- spreading\n- crowd\n- bore\n- twice\n- manners\n- useful\n"
     ]
    }
   ],
   "source": [
    "print_analogy(analogy, nr=10, print_nearest=True)"
   ]
  },
  {
   "cell_type": "code",
   "execution_count": 43,
   "metadata": {},
   "outputs": [
    {
     "output_type": "execute_result",
     "data": {
      "text/plain": [
       "True"
      ]
     },
     "metadata": {},
     "execution_count": 43
    }
   ],
   "source": [
    "all_words = list(word_to_ix.keys())\n",
    "'smaller' in all_words"
   ]
  },
  {
   "cell_type": "code",
   "execution_count": 52,
   "metadata": {},
   "outputs": [
    {
     "output_type": "stream",
     "name": "stdout",
     "text": [
      "Analogy task: larger is to large as small is to ?\nTrue word: smaller\nPredicted word: larger\nCorrect: False\nIs within nearest `nr` predicted words: True\nNearest words:\n- larger\n- small\n- driest\n- label\n- arrived\n- dogs\n- grazed\n- smaller\n- rightly\n- much\n"
     ]
    }
   ],
   "source": [
    "print_analogy(['larger', 'large', 'small', 'smaller'], nr=10, print_nearest=True)"
   ]
  }
 ],
 "metadata": {
  "colab": {
   "include_colab_link": true,
   "name": "P1.2_Word_embedding.ipynb",
   "provenance": []
  },
  "kernelspec": {
   "name": "python38564bitbaseconda0eeb064e7c3e489ca0376de89dc7ed9f",
   "display_name": "Python 3.8.5 64-bit ('base': conda)"
  },
  "language_info": {
   "codemirror_mode": {
    "name": "ipython",
    "version": 3
   },
   "file_extension": ".py",
   "mimetype": "text/x-python",
   "name": "python",
   "nbconvert_exporter": "python",
   "pygments_lexer": "ipython3",
   "version": "3.8.5"
  },
  "metadata": {
   "interpreter": {
    "hash": "cb130b1dbc89464604566b10d0b9aae3ff6b965ee5c69236410110976e7f8e09"
   }
  }
 },
 "nbformat": 4,
 "nbformat_minor": 1
}