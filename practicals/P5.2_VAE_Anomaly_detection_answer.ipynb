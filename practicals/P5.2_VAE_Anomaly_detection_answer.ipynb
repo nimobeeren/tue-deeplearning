{
  "nbformat": 4,
  "nbformat_minor": 0,
  "metadata": {
    "colab": {
      "name": "practical5.2_vae_anomaly_detection_solution.ipynb",
      "provenance": [],
      "collapsed_sections": [],
      "authorship_tag": "ABX9TyOdxoLdM2NrIsz9kRJhDXDJ",
      "include_colab_link": true
    },
    "kernelspec": {
      "name": "python3",
      "display_name": "Python 3"
    },
    "language_info": {
      "name": "python"
    },
    "accelerator": "GPU",
    "widgets": {
      "application/vnd.jupyter.widget-state+json": {
        "ea913286e6804317b074992403f3743e": {
          "model_module": "@jupyter-widgets/controls",
          "model_name": "HBoxModel",
          "state": {
            "_view_name": "HBoxView",
            "_dom_classes": [],
            "_model_name": "HBoxModel",
            "_view_module": "@jupyter-widgets/controls",
            "_model_module_version": "1.5.0",
            "_view_count": null,
            "_view_module_version": "1.5.0",
            "box_style": "",
            "layout": "IPY_MODEL_831fc0bee51f4f27a6d352514cbe5a13",
            "_model_module": "@jupyter-widgets/controls",
            "children": [
              "IPY_MODEL_06dfa9383c214b4d84bc7b56d274aefa",
              "IPY_MODEL_9348bec02d444f6f8288e82db2724a19"
            ]
          }
        },
        "831fc0bee51f4f27a6d352514cbe5a13": {
          "model_module": "@jupyter-widgets/base",
          "model_name": "LayoutModel",
          "state": {
            "_view_name": "LayoutView",
            "grid_template_rows": null,
            "right": null,
            "justify_content": null,
            "_view_module": "@jupyter-widgets/base",
            "overflow": null,
            "_model_module_version": "1.2.0",
            "_view_count": null,
            "flex_flow": null,
            "width": null,
            "min_width": null,
            "border": null,
            "align_items": null,
            "bottom": null,
            "_model_module": "@jupyter-widgets/base",
            "top": null,
            "grid_column": null,
            "overflow_y": null,
            "overflow_x": null,
            "grid_auto_flow": null,
            "grid_area": null,
            "grid_template_columns": null,
            "flex": null,
            "_model_name": "LayoutModel",
            "justify_items": null,
            "grid_row": null,
            "max_height": null,
            "align_content": null,
            "visibility": null,
            "align_self": null,
            "height": null,
            "min_height": null,
            "padding": null,
            "grid_auto_rows": null,
            "grid_gap": null,
            "max_width": null,
            "order": null,
            "_view_module_version": "1.2.0",
            "grid_template_areas": null,
            "object_position": null,
            "object_fit": null,
            "grid_auto_columns": null,
            "margin": null,
            "display": null,
            "left": null
          }
        },
        "06dfa9383c214b4d84bc7b56d274aefa": {
          "model_module": "@jupyter-widgets/controls",
          "model_name": "FloatProgressModel",
          "state": {
            "_view_name": "ProgressView",
            "style": "IPY_MODEL_4610606b7c2c499ab95f4b315ca25e50",
            "_dom_classes": [],
            "description": "",
            "_model_name": "FloatProgressModel",
            "bar_style": "success",
            "max": 26421880,
            "_view_module": "@jupyter-widgets/controls",
            "_model_module_version": "1.5.0",
            "value": 26421880,
            "_view_count": null,
            "_view_module_version": "1.5.0",
            "orientation": "horizontal",
            "min": 0,
            "description_tooltip": null,
            "_model_module": "@jupyter-widgets/controls",
            "layout": "IPY_MODEL_898117ba6f074a5e871c5f828e905779"
          }
        },
        "9348bec02d444f6f8288e82db2724a19": {
          "model_module": "@jupyter-widgets/controls",
          "model_name": "HTMLModel",
          "state": {
            "_view_name": "HTMLView",
            "style": "IPY_MODEL_a889640d0a2f4679a3d6a971fa03fd5c",
            "_dom_classes": [],
            "description": "",
            "_model_name": "HTMLModel",
            "placeholder": "​",
            "_view_module": "@jupyter-widgets/controls",
            "_model_module_version": "1.5.0",
            "value": " 26422272/? [00:04&lt;00:00, 5843272.32it/s]",
            "_view_count": null,
            "_view_module_version": "1.5.0",
            "description_tooltip": null,
            "_model_module": "@jupyter-widgets/controls",
            "layout": "IPY_MODEL_06eeef84d41d4db483a9c55300390dfc"
          }
        },
        "4610606b7c2c499ab95f4b315ca25e50": {
          "model_module": "@jupyter-widgets/controls",
          "model_name": "ProgressStyleModel",
          "state": {
            "_view_name": "StyleView",
            "_model_name": "ProgressStyleModel",
            "description_width": "initial",
            "_view_module": "@jupyter-widgets/base",
            "_model_module_version": "1.5.0",
            "_view_count": null,
            "_view_module_version": "1.2.0",
            "bar_color": null,
            "_model_module": "@jupyter-widgets/controls"
          }
        },
        "898117ba6f074a5e871c5f828e905779": {
          "model_module": "@jupyter-widgets/base",
          "model_name": "LayoutModel",
          "state": {
            "_view_name": "LayoutView",
            "grid_template_rows": null,
            "right": null,
            "justify_content": null,
            "_view_module": "@jupyter-widgets/base",
            "overflow": null,
            "_model_module_version": "1.2.0",
            "_view_count": null,
            "flex_flow": null,
            "width": null,
            "min_width": null,
            "border": null,
            "align_items": null,
            "bottom": null,
            "_model_module": "@jupyter-widgets/base",
            "top": null,
            "grid_column": null,
            "overflow_y": null,
            "overflow_x": null,
            "grid_auto_flow": null,
            "grid_area": null,
            "grid_template_columns": null,
            "flex": null,
            "_model_name": "LayoutModel",
            "justify_items": null,
            "grid_row": null,
            "max_height": null,
            "align_content": null,
            "visibility": null,
            "align_self": null,
            "height": null,
            "min_height": null,
            "padding": null,
            "grid_auto_rows": null,
            "grid_gap": null,
            "max_width": null,
            "order": null,
            "_view_module_version": "1.2.0",
            "grid_template_areas": null,
            "object_position": null,
            "object_fit": null,
            "grid_auto_columns": null,
            "margin": null,
            "display": null,
            "left": null
          }
        },
        "a889640d0a2f4679a3d6a971fa03fd5c": {
          "model_module": "@jupyter-widgets/controls",
          "model_name": "DescriptionStyleModel",
          "state": {
            "_view_name": "StyleView",
            "_model_name": "DescriptionStyleModel",
            "description_width": "",
            "_view_module": "@jupyter-widgets/base",
            "_model_module_version": "1.5.0",
            "_view_count": null,
            "_view_module_version": "1.2.0",
            "_model_module": "@jupyter-widgets/controls"
          }
        },
        "06eeef84d41d4db483a9c55300390dfc": {
          "model_module": "@jupyter-widgets/base",
          "model_name": "LayoutModel",
          "state": {
            "_view_name": "LayoutView",
            "grid_template_rows": null,
            "right": null,
            "justify_content": null,
            "_view_module": "@jupyter-widgets/base",
            "overflow": null,
            "_model_module_version": "1.2.0",
            "_view_count": null,
            "flex_flow": null,
            "width": null,
            "min_width": null,
            "border": null,
            "align_items": null,
            "bottom": null,
            "_model_module": "@jupyter-widgets/base",
            "top": null,
            "grid_column": null,
            "overflow_y": null,
            "overflow_x": null,
            "grid_auto_flow": null,
            "grid_area": null,
            "grid_template_columns": null,
            "flex": null,
            "_model_name": "LayoutModel",
            "justify_items": null,
            "grid_row": null,
            "max_height": null,
            "align_content": null,
            "visibility": null,
            "align_self": null,
            "height": null,
            "min_height": null,
            "padding": null,
            "grid_auto_rows": null,
            "grid_gap": null,
            "max_width": null,
            "order": null,
            "_view_module_version": "1.2.0",
            "grid_template_areas": null,
            "object_position": null,
            "object_fit": null,
            "grid_auto_columns": null,
            "margin": null,
            "display": null,
            "left": null
          }
        },
        "b428799205e0400ab4962043c04dab90": {
          "model_module": "@jupyter-widgets/controls",
          "model_name": "HBoxModel",
          "state": {
            "_view_name": "HBoxView",
            "_dom_classes": [],
            "_model_name": "HBoxModel",
            "_view_module": "@jupyter-widgets/controls",
            "_model_module_version": "1.5.0",
            "_view_count": null,
            "_view_module_version": "1.5.0",
            "box_style": "",
            "layout": "IPY_MODEL_48c9821cfa72403daf8138e906a5baba",
            "_model_module": "@jupyter-widgets/controls",
            "children": [
              "IPY_MODEL_b5196b3431ca44ddaca9b674943f0d00",
              "IPY_MODEL_3a0ec57ed652405e8cf446fed54047f4"
            ]
          }
        },
        "48c9821cfa72403daf8138e906a5baba": {
          "model_module": "@jupyter-widgets/base",
          "model_name": "LayoutModel",
          "state": {
            "_view_name": "LayoutView",
            "grid_template_rows": null,
            "right": null,
            "justify_content": null,
            "_view_module": "@jupyter-widgets/base",
            "overflow": null,
            "_model_module_version": "1.2.0",
            "_view_count": null,
            "flex_flow": null,
            "width": null,
            "min_width": null,
            "border": null,
            "align_items": null,
            "bottom": null,
            "_model_module": "@jupyter-widgets/base",
            "top": null,
            "grid_column": null,
            "overflow_y": null,
            "overflow_x": null,
            "grid_auto_flow": null,
            "grid_area": null,
            "grid_template_columns": null,
            "flex": null,
            "_model_name": "LayoutModel",
            "justify_items": null,
            "grid_row": null,
            "max_height": null,
            "align_content": null,
            "visibility": null,
            "align_self": null,
            "height": null,
            "min_height": null,
            "padding": null,
            "grid_auto_rows": null,
            "grid_gap": null,
            "max_width": null,
            "order": null,
            "_view_module_version": "1.2.0",
            "grid_template_areas": null,
            "object_position": null,
            "object_fit": null,
            "grid_auto_columns": null,
            "margin": null,
            "display": null,
            "left": null
          }
        },
        "b5196b3431ca44ddaca9b674943f0d00": {
          "model_module": "@jupyter-widgets/controls",
          "model_name": "FloatProgressModel",
          "state": {
            "_view_name": "ProgressView",
            "style": "IPY_MODEL_f2ae9eac608749358e8a843004ea4544",
            "_dom_classes": [],
            "description": "",
            "_model_name": "FloatProgressModel",
            "bar_style": "success",
            "max": 29515,
            "_view_module": "@jupyter-widgets/controls",
            "_model_module_version": "1.5.0",
            "value": 29515,
            "_view_count": null,
            "_view_module_version": "1.5.0",
            "orientation": "horizontal",
            "min": 0,
            "description_tooltip": null,
            "_model_module": "@jupyter-widgets/controls",
            "layout": "IPY_MODEL_b7b2bdc1fd5b464995dc2b0870df955d"
          }
        },
        "3a0ec57ed652405e8cf446fed54047f4": {
          "model_module": "@jupyter-widgets/controls",
          "model_name": "HTMLModel",
          "state": {
            "_view_name": "HTMLView",
            "style": "IPY_MODEL_47e7c3c33a98438799a513c925741e4c",
            "_dom_classes": [],
            "description": "",
            "_model_name": "HTMLModel",
            "placeholder": "​",
            "_view_module": "@jupyter-widgets/controls",
            "_model_module_version": "1.5.0",
            "value": " 29696/? [00:01&lt;00:00, 17092.11it/s]",
            "_view_count": null,
            "_view_module_version": "1.5.0",
            "description_tooltip": null,
            "_model_module": "@jupyter-widgets/controls",
            "layout": "IPY_MODEL_33ba95e998eb476f955eb91ed29b7c90"
          }
        },
        "f2ae9eac608749358e8a843004ea4544": {
          "model_module": "@jupyter-widgets/controls",
          "model_name": "ProgressStyleModel",
          "state": {
            "_view_name": "StyleView",
            "_model_name": "ProgressStyleModel",
            "description_width": "initial",
            "_view_module": "@jupyter-widgets/base",
            "_model_module_version": "1.5.0",
            "_view_count": null,
            "_view_module_version": "1.2.0",
            "bar_color": null,
            "_model_module": "@jupyter-widgets/controls"
          }
        },
        "b7b2bdc1fd5b464995dc2b0870df955d": {
          "model_module": "@jupyter-widgets/base",
          "model_name": "LayoutModel",
          "state": {
            "_view_name": "LayoutView",
            "grid_template_rows": null,
            "right": null,
            "justify_content": null,
            "_view_module": "@jupyter-widgets/base",
            "overflow": null,
            "_model_module_version": "1.2.0",
            "_view_count": null,
            "flex_flow": null,
            "width": null,
            "min_width": null,
            "border": null,
            "align_items": null,
            "bottom": null,
            "_model_module": "@jupyter-widgets/base",
            "top": null,
            "grid_column": null,
            "overflow_y": null,
            "overflow_x": null,
            "grid_auto_flow": null,
            "grid_area": null,
            "grid_template_columns": null,
            "flex": null,
            "_model_name": "LayoutModel",
            "justify_items": null,
            "grid_row": null,
            "max_height": null,
            "align_content": null,
            "visibility": null,
            "align_self": null,
            "height": null,
            "min_height": null,
            "padding": null,
            "grid_auto_rows": null,
            "grid_gap": null,
            "max_width": null,
            "order": null,
            "_view_module_version": "1.2.0",
            "grid_template_areas": null,
            "object_position": null,
            "object_fit": null,
            "grid_auto_columns": null,
            "margin": null,
            "display": null,
            "left": null
          }
        },
        "47e7c3c33a98438799a513c925741e4c": {
          "model_module": "@jupyter-widgets/controls",
          "model_name": "DescriptionStyleModel",
          "state": {
            "_view_name": "StyleView",
            "_model_name": "DescriptionStyleModel",
            "description_width": "",
            "_view_module": "@jupyter-widgets/base",
            "_model_module_version": "1.5.0",
            "_view_count": null,
            "_view_module_version": "1.2.0",
            "_model_module": "@jupyter-widgets/controls"
          }
        },
        "33ba95e998eb476f955eb91ed29b7c90": {
          "model_module": "@jupyter-widgets/base",
          "model_name": "LayoutModel",
          "state": {
            "_view_name": "LayoutView",
            "grid_template_rows": null,
            "right": null,
            "justify_content": null,
            "_view_module": "@jupyter-widgets/base",
            "overflow": null,
            "_model_module_version": "1.2.0",
            "_view_count": null,
            "flex_flow": null,
            "width": null,
            "min_width": null,
            "border": null,
            "align_items": null,
            "bottom": null,
            "_model_module": "@jupyter-widgets/base",
            "top": null,
            "grid_column": null,
            "overflow_y": null,
            "overflow_x": null,
            "grid_auto_flow": null,
            "grid_area": null,
            "grid_template_columns": null,
            "flex": null,
            "_model_name": "LayoutModel",
            "justify_items": null,
            "grid_row": null,
            "max_height": null,
            "align_content": null,
            "visibility": null,
            "align_self": null,
            "height": null,
            "min_height": null,
            "padding": null,
            "grid_auto_rows": null,
            "grid_gap": null,
            "max_width": null,
            "order": null,
            "_view_module_version": "1.2.0",
            "grid_template_areas": null,
            "object_position": null,
            "object_fit": null,
            "grid_auto_columns": null,
            "margin": null,
            "display": null,
            "left": null
          }
        },
        "a9c13ff63f774384a300775850a8910b": {
          "model_module": "@jupyter-widgets/controls",
          "model_name": "HBoxModel",
          "state": {
            "_view_name": "HBoxView",
            "_dom_classes": [],
            "_model_name": "HBoxModel",
            "_view_module": "@jupyter-widgets/controls",
            "_model_module_version": "1.5.0",
            "_view_count": null,
            "_view_module_version": "1.5.0",
            "box_style": "",
            "layout": "IPY_MODEL_8b56b58a96084813bbbdd4df6ea50a3f",
            "_model_module": "@jupyter-widgets/controls",
            "children": [
              "IPY_MODEL_9764fab5b74a4e7bb3e43d139ec48249",
              "IPY_MODEL_d733aff8eea149889f6fe298b390ceb1"
            ]
          }
        },
        "8b56b58a96084813bbbdd4df6ea50a3f": {
          "model_module": "@jupyter-widgets/base",
          "model_name": "LayoutModel",
          "state": {
            "_view_name": "LayoutView",
            "grid_template_rows": null,
            "right": null,
            "justify_content": null,
            "_view_module": "@jupyter-widgets/base",
            "overflow": null,
            "_model_module_version": "1.2.0",
            "_view_count": null,
            "flex_flow": null,
            "width": null,
            "min_width": null,
            "border": null,
            "align_items": null,
            "bottom": null,
            "_model_module": "@jupyter-widgets/base",
            "top": null,
            "grid_column": null,
            "overflow_y": null,
            "overflow_x": null,
            "grid_auto_flow": null,
            "grid_area": null,
            "grid_template_columns": null,
            "flex": null,
            "_model_name": "LayoutModel",
            "justify_items": null,
            "grid_row": null,
            "max_height": null,
            "align_content": null,
            "visibility": null,
            "align_self": null,
            "height": null,
            "min_height": null,
            "padding": null,
            "grid_auto_rows": null,
            "grid_gap": null,
            "max_width": null,
            "order": null,
            "_view_module_version": "1.2.0",
            "grid_template_areas": null,
            "object_position": null,
            "object_fit": null,
            "grid_auto_columns": null,
            "margin": null,
            "display": null,
            "left": null
          }
        },
        "9764fab5b74a4e7bb3e43d139ec48249": {
          "model_module": "@jupyter-widgets/controls",
          "model_name": "FloatProgressModel",
          "state": {
            "_view_name": "ProgressView",
            "style": "IPY_MODEL_8d7d99972dee4275a105ccc169b8184f",
            "_dom_classes": [],
            "description": "",
            "_model_name": "FloatProgressModel",
            "bar_style": "success",
            "max": 4422102,
            "_view_module": "@jupyter-widgets/controls",
            "_model_module_version": "1.5.0",
            "value": 4422102,
            "_view_count": null,
            "_view_module_version": "1.5.0",
            "orientation": "horizontal",
            "min": 0,
            "description_tooltip": null,
            "_model_module": "@jupyter-widgets/controls",
            "layout": "IPY_MODEL_0fe2d86df9064b3fb3fc628ea03e2493"
          }
        },
        "d733aff8eea149889f6fe298b390ceb1": {
          "model_module": "@jupyter-widgets/controls",
          "model_name": "HTMLModel",
          "state": {
            "_view_name": "HTMLView",
            "style": "IPY_MODEL_a65d83b785b24406a928a9b3a57bbb9d",
            "_dom_classes": [],
            "description": "",
            "_model_name": "HTMLModel",
            "placeholder": "​",
            "_view_module": "@jupyter-widgets/controls",
            "_model_module_version": "1.5.0",
            "value": " 4422656/? [00:01&lt;00:00, 3609365.80it/s]",
            "_view_count": null,
            "_view_module_version": "1.5.0",
            "description_tooltip": null,
            "_model_module": "@jupyter-widgets/controls",
            "layout": "IPY_MODEL_310e6785b4904028b306e64a1c6ecba4"
          }
        },
        "8d7d99972dee4275a105ccc169b8184f": {
          "model_module": "@jupyter-widgets/controls",
          "model_name": "ProgressStyleModel",
          "state": {
            "_view_name": "StyleView",
            "_model_name": "ProgressStyleModel",
            "description_width": "initial",
            "_view_module": "@jupyter-widgets/base",
            "_model_module_version": "1.5.0",
            "_view_count": null,
            "_view_module_version": "1.2.0",
            "bar_color": null,
            "_model_module": "@jupyter-widgets/controls"
          }
        },
        "0fe2d86df9064b3fb3fc628ea03e2493": {
          "model_module": "@jupyter-widgets/base",
          "model_name": "LayoutModel",
          "state": {
            "_view_name": "LayoutView",
            "grid_template_rows": null,
            "right": null,
            "justify_content": null,
            "_view_module": "@jupyter-widgets/base",
            "overflow": null,
            "_model_module_version": "1.2.0",
            "_view_count": null,
            "flex_flow": null,
            "width": null,
            "min_width": null,
            "border": null,
            "align_items": null,
            "bottom": null,
            "_model_module": "@jupyter-widgets/base",
            "top": null,
            "grid_column": null,
            "overflow_y": null,
            "overflow_x": null,
            "grid_auto_flow": null,
            "grid_area": null,
            "grid_template_columns": null,
            "flex": null,
            "_model_name": "LayoutModel",
            "justify_items": null,
            "grid_row": null,
            "max_height": null,
            "align_content": null,
            "visibility": null,
            "align_self": null,
            "height": null,
            "min_height": null,
            "padding": null,
            "grid_auto_rows": null,
            "grid_gap": null,
            "max_width": null,
            "order": null,
            "_view_module_version": "1.2.0",
            "grid_template_areas": null,
            "object_position": null,
            "object_fit": null,
            "grid_auto_columns": null,
            "margin": null,
            "display": null,
            "left": null
          }
        },
        "a65d83b785b24406a928a9b3a57bbb9d": {
          "model_module": "@jupyter-widgets/controls",
          "model_name": "DescriptionStyleModel",
          "state": {
            "_view_name": "StyleView",
            "_model_name": "DescriptionStyleModel",
            "description_width": "",
            "_view_module": "@jupyter-widgets/base",
            "_model_module_version": "1.5.0",
            "_view_count": null,
            "_view_module_version": "1.2.0",
            "_model_module": "@jupyter-widgets/controls"
          }
        },
        "310e6785b4904028b306e64a1c6ecba4": {
          "model_module": "@jupyter-widgets/base",
          "model_name": "LayoutModel",
          "state": {
            "_view_name": "LayoutView",
            "grid_template_rows": null,
            "right": null,
            "justify_content": null,
            "_view_module": "@jupyter-widgets/base",
            "overflow": null,
            "_model_module_version": "1.2.0",
            "_view_count": null,
            "flex_flow": null,
            "width": null,
            "min_width": null,
            "border": null,
            "align_items": null,
            "bottom": null,
            "_model_module": "@jupyter-widgets/base",
            "top": null,
            "grid_column": null,
            "overflow_y": null,
            "overflow_x": null,
            "grid_auto_flow": null,
            "grid_area": null,
            "grid_template_columns": null,
            "flex": null,
            "_model_name": "LayoutModel",
            "justify_items": null,
            "grid_row": null,
            "max_height": null,
            "align_content": null,
            "visibility": null,
            "align_self": null,
            "height": null,
            "min_height": null,
            "padding": null,
            "grid_auto_rows": null,
            "grid_gap": null,
            "max_width": null,
            "order": null,
            "_view_module_version": "1.2.0",
            "grid_template_areas": null,
            "object_position": null,
            "object_fit": null,
            "grid_auto_columns": null,
            "margin": null,
            "display": null,
            "left": null
          }
        },
        "a5d5a54c90e74f28a7004f1a9dbf54cf": {
          "model_module": "@jupyter-widgets/controls",
          "model_name": "HBoxModel",
          "state": {
            "_view_name": "HBoxView",
            "_dom_classes": [],
            "_model_name": "HBoxModel",
            "_view_module": "@jupyter-widgets/controls",
            "_model_module_version": "1.5.0",
            "_view_count": null,
            "_view_module_version": "1.5.0",
            "box_style": "",
            "layout": "IPY_MODEL_6df736a11a7749d8984a18e16f133c8e",
            "_model_module": "@jupyter-widgets/controls",
            "children": [
              "IPY_MODEL_1dcb8e3fd1d746a59ca2cc10aab4f14e",
              "IPY_MODEL_d6049c3a0cbb4982a0562e64d8558c1c"
            ]
          }
        },
        "6df736a11a7749d8984a18e16f133c8e": {
          "model_module": "@jupyter-widgets/base",
          "model_name": "LayoutModel",
          "state": {
            "_view_name": "LayoutView",
            "grid_template_rows": null,
            "right": null,
            "justify_content": null,
            "_view_module": "@jupyter-widgets/base",
            "overflow": null,
            "_model_module_version": "1.2.0",
            "_view_count": null,
            "flex_flow": null,
            "width": null,
            "min_width": null,
            "border": null,
            "align_items": null,
            "bottom": null,
            "_model_module": "@jupyter-widgets/base",
            "top": null,
            "grid_column": null,
            "overflow_y": null,
            "overflow_x": null,
            "grid_auto_flow": null,
            "grid_area": null,
            "grid_template_columns": null,
            "flex": null,
            "_model_name": "LayoutModel",
            "justify_items": null,
            "grid_row": null,
            "max_height": null,
            "align_content": null,
            "visibility": null,
            "align_self": null,
            "height": null,
            "min_height": null,
            "padding": null,
            "grid_auto_rows": null,
            "grid_gap": null,
            "max_width": null,
            "order": null,
            "_view_module_version": "1.2.0",
            "grid_template_areas": null,
            "object_position": null,
            "object_fit": null,
            "grid_auto_columns": null,
            "margin": null,
            "display": null,
            "left": null
          }
        },
        "1dcb8e3fd1d746a59ca2cc10aab4f14e": {
          "model_module": "@jupyter-widgets/controls",
          "model_name": "FloatProgressModel",
          "state": {
            "_view_name": "ProgressView",
            "style": "IPY_MODEL_c5500a2c4db143c0b0686835d50749a0",
            "_dom_classes": [],
            "description": "",
            "_model_name": "FloatProgressModel",
            "bar_style": "success",
            "max": 5148,
            "_view_module": "@jupyter-widgets/controls",
            "_model_module_version": "1.5.0",
            "value": 5148,
            "_view_count": null,
            "_view_module_version": "1.5.0",
            "orientation": "horizontal",
            "min": 0,
            "description_tooltip": null,
            "_model_module": "@jupyter-widgets/controls",
            "layout": "IPY_MODEL_79ba8225f88d4550a1ade95a3c55e829"
          }
        },
        "d6049c3a0cbb4982a0562e64d8558c1c": {
          "model_module": "@jupyter-widgets/controls",
          "model_name": "HTMLModel",
          "state": {
            "_view_name": "HTMLView",
            "style": "IPY_MODEL_7809929a9ff948d78b2c3ca269737540",
            "_dom_classes": [],
            "description": "",
            "_model_name": "HTMLModel",
            "placeholder": "​",
            "_view_module": "@jupyter-widgets/controls",
            "_model_module_version": "1.5.0",
            "value": " 6144/? [00:00&lt;00:00, 13016.41it/s]",
            "_view_count": null,
            "_view_module_version": "1.5.0",
            "description_tooltip": null,
            "_model_module": "@jupyter-widgets/controls",
            "layout": "IPY_MODEL_e9fea50e9602406c98bb59d77156d860"
          }
        },
        "c5500a2c4db143c0b0686835d50749a0": {
          "model_module": "@jupyter-widgets/controls",
          "model_name": "ProgressStyleModel",
          "state": {
            "_view_name": "StyleView",
            "_model_name": "ProgressStyleModel",
            "description_width": "initial",
            "_view_module": "@jupyter-widgets/base",
            "_model_module_version": "1.5.0",
            "_view_count": null,
            "_view_module_version": "1.2.0",
            "bar_color": null,
            "_model_module": "@jupyter-widgets/controls"
          }
        },
        "79ba8225f88d4550a1ade95a3c55e829": {
          "model_module": "@jupyter-widgets/base",
          "model_name": "LayoutModel",
          "state": {
            "_view_name": "LayoutView",
            "grid_template_rows": null,
            "right": null,
            "justify_content": null,
            "_view_module": "@jupyter-widgets/base",
            "overflow": null,
            "_model_module_version": "1.2.0",
            "_view_count": null,
            "flex_flow": null,
            "width": null,
            "min_width": null,
            "border": null,
            "align_items": null,
            "bottom": null,
            "_model_module": "@jupyter-widgets/base",
            "top": null,
            "grid_column": null,
            "overflow_y": null,
            "overflow_x": null,
            "grid_auto_flow": null,
            "grid_area": null,
            "grid_template_columns": null,
            "flex": null,
            "_model_name": "LayoutModel",
            "justify_items": null,
            "grid_row": null,
            "max_height": null,
            "align_content": null,
            "visibility": null,
            "align_self": null,
            "height": null,
            "min_height": null,
            "padding": null,
            "grid_auto_rows": null,
            "grid_gap": null,
            "max_width": null,
            "order": null,
            "_view_module_version": "1.2.0",
            "grid_template_areas": null,
            "object_position": null,
            "object_fit": null,
            "grid_auto_columns": null,
            "margin": null,
            "display": null,
            "left": null
          }
        },
        "7809929a9ff948d78b2c3ca269737540": {
          "model_module": "@jupyter-widgets/controls",
          "model_name": "DescriptionStyleModel",
          "state": {
            "_view_name": "StyleView",
            "_model_name": "DescriptionStyleModel",
            "description_width": "",
            "_view_module": "@jupyter-widgets/base",
            "_model_module_version": "1.5.0",
            "_view_count": null,
            "_view_module_version": "1.2.0",
            "_model_module": "@jupyter-widgets/controls"
          }
        },
        "e9fea50e9602406c98bb59d77156d860": {
          "model_module": "@jupyter-widgets/base",
          "model_name": "LayoutModel",
          "state": {
            "_view_name": "LayoutView",
            "grid_template_rows": null,
            "right": null,
            "justify_content": null,
            "_view_module": "@jupyter-widgets/base",
            "overflow": null,
            "_model_module_version": "1.2.0",
            "_view_count": null,
            "flex_flow": null,
            "width": null,
            "min_width": null,
            "border": null,
            "align_items": null,
            "bottom": null,
            "_model_module": "@jupyter-widgets/base",
            "top": null,
            "grid_column": null,
            "overflow_y": null,
            "overflow_x": null,
            "grid_auto_flow": null,
            "grid_area": null,
            "grid_template_columns": null,
            "flex": null,
            "_model_name": "LayoutModel",
            "justify_items": null,
            "grid_row": null,
            "max_height": null,
            "align_content": null,
            "visibility": null,
            "align_self": null,
            "height": null,
            "min_height": null,
            "padding": null,
            "grid_auto_rows": null,
            "grid_gap": null,
            "max_width": null,
            "order": null,
            "_view_module_version": "1.2.0",
            "grid_template_areas": null,
            "object_position": null,
            "object_fit": null,
            "grid_auto_columns": null,
            "margin": null,
            "display": null,
            "left": null
          }
        }
      }
    }
  },
  "cells": [
    {
      "cell_type": "markdown",
      "metadata": {
        "id": "view-in-github",
        "colab_type": "text"
      },
      "source": [
        "<a href=\"https://colab.research.google.com/github/vlamen/tue-deeplearning/blob/main/practicals/P5.2_VAE_Anomaly_detection_answer.ipynb\" target=\"_parent\"><img src=\"https://colab.research.google.com/assets/colab-badge.svg\" alt=\"Open In Colab\"/></a>"
      ]
    },
    {
      "cell_type": "markdown",
      "metadata": {
        "id": "DVTHs50vHRCz"
      },
      "source": [
        "# Practical 5.2: Anomaly Detection with VAEs\n",
        "\n",
        "As we have seen, Variational Autoencoders (VAEs) provide a mathematically grounded framework for the unsupervised learning of latent representations. Besides interpreting VAEs as representation learning or generative modelling, we can also see them as performing (approximate) density estimation. VAEs are trained to optimise a lower bound to the (log) likelihood $\\log p(X)$ of the data $X$, under the chosen model. So, for any point in data space, we can obtain an estimate of its likelihood under the trained model, by simply computing the loss function when passing this data point through the neural network (note that the loss function is the negative ELBO, so we need to multiply by -1 to obtain a likelihood estimation).\n",
        "\n",
        "We can use this idea to perform unsupervised anomaly detection. Suppose we are given a dataset that describes some natural distribution (e.g. images of certain clothing items). For new test data, we then wish to detect whether it fits this distribution, or is significantly different (an anomaly). For example, given a dataset of shirts, we want to detect anomalies in a test data set that also contains some images of trousers. Typically, such a situation occurs when we have many examples of one class (e.g. shirts), but very few of others (the anomalies, e.g. trousers).\n",
        "\n",
        "### Why generative models?\n",
        "We could describe anomaly detection as binary classification, and train typical supervised methods on data with labels (normal vs. anomaly). However, anomaly detection settings typically have high data imbalance; there are way more normal examples than anomalies. Moreover, anomalies tend to be diverse; there are many ways in which anomalous data can differ from normal data. Supervised methods often don't work well in such cases, and may overfit easily, especially on the anomaly class. Using generative models however, we can ignore the anomaly class completely during training and instead focus on modelling the normal class well. If a generative model can learn to represent normal data well, but is restrictive enough such that it won't be able to represent anomalous data well, it can be much more reliable for anomaly detection.\n",
        "\n",
        "### Exploring anomaly detection with VAEs.\n",
        "In this practical, we will perform and evaluate such anomaly detection with VAEs. Given a training data set that consists of instances that we consider \"normal\", we wish to detect anomalies in a test data set that contains both \"normal\" (but unseen) examples, as well as other examples which we consider anomalous. The idea is to train a VAE on the training data, such that it learns to represent \"normal\" data well. We can then compute the ELBO values for the test data, where ideally \"normal\" examples should obtain higher likelihood values than anomalous examples.\n",
        "\n",
        "We will use FashionMNIST to simulate the anomaly detection task. We will omit one class from the training data, and consider the remaining 9 classes to be \"normal\". The goal is then to identify the omitted class in the test data, by comparing the ELBO values obtained from a VAE trained on 9 classes."
      ]
    },
    {
      "cell_type": "markdown",
      "metadata": {
        "id": "gkSlgvqWHNoo"
      },
      "source": [
        "# Imports"
      ]
    },
    {
      "cell_type": "code",
      "metadata": {
        "id": "u3W0gUQP7hEO"
      },
      "source": [
        "import torch\n",
        "import torch.nn as nn\n",
        "from torch.optim import Adam\n",
        "from torchvision.datasets import FashionMNIST\n",
        "import torchvision.transforms as transforms\n",
        "from torch.utils.data import DataLoader, SubsetRandomSampler\n",
        "import numpy as np\n",
        "import matplotlib.pyplot as plt\n",
        "import seaborn as sns\n",
        "from tqdm import tqdm\n",
        "from sklearn.metrics import roc_curve, precision_recall_curve, auc"
      ],
      "execution_count": null,
      "outputs": []
    },
    {
      "cell_type": "markdown",
      "metadata": {
        "id": "4XCP6UtlGAPX"
      },
      "source": [
        "# Data: FashionMNIST with one anomalous class"
      ]
    },
    {
      "cell_type": "markdown",
      "metadata": {
        "id": "2p-6Esq0ASc3"
      },
      "source": [
        "We will consider the \"Trouser\" class (with label 1) to be the anomalies, and consider the other 9 classes to be our \"normal\" data. We'll train on normal data only, but we want to test on both normal and anomalous data to evaluate our anomaly detection framework.\n",
        "\n",
        "We load the FashionMNIST dataset as usual, but create different DataLoaders for normal and anomalous data."
      ]
    },
    {
      "cell_type": "code",
      "metadata": {
        "colab": {
          "base_uri": "https://localhost:8080/",
          "height": 573,
          "referenced_widgets": [
            "ea913286e6804317b074992403f3743e",
            "831fc0bee51f4f27a6d352514cbe5a13",
            "06dfa9383c214b4d84bc7b56d274aefa",
            "9348bec02d444f6f8288e82db2724a19",
            "4610606b7c2c499ab95f4b315ca25e50",
            "898117ba6f074a5e871c5f828e905779",
            "a889640d0a2f4679a3d6a971fa03fd5c",
            "06eeef84d41d4db483a9c55300390dfc",
            "b428799205e0400ab4962043c04dab90",
            "48c9821cfa72403daf8138e906a5baba",
            "b5196b3431ca44ddaca9b674943f0d00",
            "3a0ec57ed652405e8cf446fed54047f4",
            "f2ae9eac608749358e8a843004ea4544",
            "b7b2bdc1fd5b464995dc2b0870df955d",
            "47e7c3c33a98438799a513c925741e4c",
            "33ba95e998eb476f955eb91ed29b7c90",
            "a9c13ff63f774384a300775850a8910b",
            "8b56b58a96084813bbbdd4df6ea50a3f",
            "9764fab5b74a4e7bb3e43d139ec48249",
            "d733aff8eea149889f6fe298b390ceb1",
            "8d7d99972dee4275a105ccc169b8184f",
            "0fe2d86df9064b3fb3fc628ea03e2493",
            "a65d83b785b24406a928a9b3a57bbb9d",
            "310e6785b4904028b306e64a1c6ecba4",
            "a5d5a54c90e74f28a7004f1a9dbf54cf",
            "6df736a11a7749d8984a18e16f133c8e",
            "1dcb8e3fd1d746a59ca2cc10aab4f14e",
            "d6049c3a0cbb4982a0562e64d8558c1c",
            "c5500a2c4db143c0b0686835d50749a0",
            "79ba8225f88d4550a1ade95a3c55e829",
            "7809929a9ff948d78b2c3ca269737540",
            "e9fea50e9602406c98bb59d77156d860"
          ]
        },
        "id": "wxpjYgJD9elQ",
        "outputId": "400d137f-2ec7-40cc-f3aa-1e4edccb3f36"
      },
      "source": [
        "dataset_path = '~/datasets'\n",
        "\n",
        "mnist_transform = transforms.Compose([\n",
        "        transforms.ToTensor(),\n",
        "])\n",
        "\n",
        "train_dataset = FashionMNIST(dataset_path, transform=mnist_transform, train=True, download=True)\n",
        "test_dataset = FashionMNIST(dataset_path, transform=mnist_transform, train=False, download=True)"
      ],
      "execution_count": null,
      "outputs": [
        {
          "output_type": "stream",
          "text": [
            "Downloading http://fashion-mnist.s3-website.eu-central-1.amazonaws.com/train-images-idx3-ubyte.gz\n",
            "Downloading http://fashion-mnist.s3-website.eu-central-1.amazonaws.com/train-images-idx3-ubyte.gz to /root/datasets/FashionMNIST/raw/train-images-idx3-ubyte.gz\n"
          ],
          "name": "stdout"
        },
        {
          "output_type": "display_data",
          "data": {
            "application/vnd.jupyter.widget-view+json": {
              "model_id": "ea913286e6804317b074992403f3743e",
              "version_minor": 0,
              "version_major": 2
            },
            "text/plain": [
              "HBox(children=(FloatProgress(value=0.0, max=26421880.0), HTML(value='')))"
            ]
          },
          "metadata": {
            "tags": []
          }
        },
        {
          "output_type": "stream",
          "text": [
            "\n",
            "Extracting /root/datasets/FashionMNIST/raw/train-images-idx3-ubyte.gz to /root/datasets/FashionMNIST/raw\n",
            "\n",
            "Downloading http://fashion-mnist.s3-website.eu-central-1.amazonaws.com/train-labels-idx1-ubyte.gz\n",
            "Downloading http://fashion-mnist.s3-website.eu-central-1.amazonaws.com/train-labels-idx1-ubyte.gz to /root/datasets/FashionMNIST/raw/train-labels-idx1-ubyte.gz\n"
          ],
          "name": "stdout"
        },
        {
          "output_type": "display_data",
          "data": {
            "application/vnd.jupyter.widget-view+json": {
              "model_id": "b428799205e0400ab4962043c04dab90",
              "version_minor": 0,
              "version_major": 2
            },
            "text/plain": [
              "HBox(children=(FloatProgress(value=0.0, max=29515.0), HTML(value='')))"
            ]
          },
          "metadata": {
            "tags": []
          }
        },
        {
          "output_type": "stream",
          "text": [
            "\n",
            "Extracting /root/datasets/FashionMNIST/raw/train-labels-idx1-ubyte.gz to /root/datasets/FashionMNIST/raw\n",
            "\n",
            "Downloading http://fashion-mnist.s3-website.eu-central-1.amazonaws.com/t10k-images-idx3-ubyte.gz\n",
            "Downloading http://fashion-mnist.s3-website.eu-central-1.amazonaws.com/t10k-images-idx3-ubyte.gz to /root/datasets/FashionMNIST/raw/t10k-images-idx3-ubyte.gz\n"
          ],
          "name": "stdout"
        },
        {
          "output_type": "display_data",
          "data": {
            "application/vnd.jupyter.widget-view+json": {
              "model_id": "a9c13ff63f774384a300775850a8910b",
              "version_minor": 0,
              "version_major": 2
            },
            "text/plain": [
              "HBox(children=(FloatProgress(value=0.0, max=4422102.0), HTML(value='')))"
            ]
          },
          "metadata": {
            "tags": []
          }
        },
        {
          "output_type": "stream",
          "text": [
            "\n",
            "Extracting /root/datasets/FashionMNIST/raw/t10k-images-idx3-ubyte.gz to /root/datasets/FashionMNIST/raw\n",
            "\n",
            "Downloading http://fashion-mnist.s3-website.eu-central-1.amazonaws.com/t10k-labels-idx1-ubyte.gz\n",
            "Downloading http://fashion-mnist.s3-website.eu-central-1.amazonaws.com/t10k-labels-idx1-ubyte.gz to /root/datasets/FashionMNIST/raw/t10k-labels-idx1-ubyte.gz\n"
          ],
          "name": "stdout"
        },
        {
          "output_type": "display_data",
          "data": {
            "application/vnd.jupyter.widget-view+json": {
              "model_id": "a5d5a54c90e74f28a7004f1a9dbf54cf",
              "version_minor": 0,
              "version_major": 2
            },
            "text/plain": [
              "HBox(children=(FloatProgress(value=0.0, max=5148.0), HTML(value='')))"
            ]
          },
          "metadata": {
            "tags": []
          }
        },
        {
          "output_type": "stream",
          "text": [
            "\n",
            "Extracting /root/datasets/FashionMNIST/raw/t10k-labels-idx1-ubyte.gz to /root/datasets/FashionMNIST/raw\n",
            "\n",
            "Processing...\n",
            "Done!\n"
          ],
          "name": "stdout"
        },
        {
          "output_type": "stream",
          "text": [
            "/usr/local/lib/python3.7/dist-packages/torchvision/datasets/mnist.py:502: UserWarning: The given NumPy array is not writeable, and PyTorch does not support non-writeable tensors. This means you can write to the underlying (supposedly non-writeable) NumPy array using the tensor. You may want to copy the array to protect its data or make it writeable before converting it to a tensor. This type of warning will be suppressed for the rest of this program. (Triggered internally at  /pytorch/torch/csrc/utils/tensor_numpy.cpp:143.)\n",
            "  return torch.from_numpy(parsed.astype(m[2], copy=False)).view(*s)\n"
          ],
          "name": "stderr"
        }
      ]
    },
    {
      "cell_type": "code",
      "metadata": {
        "id": "f_jQ6dvx-B2a"
      },
      "source": [
        "anomaly_label = 1\n",
        "batch_size = 100\n",
        "kwargs = {'num_workers': 1, 'pin_memory': True}\n",
        "\n",
        "# obtain the indices corresponding to normal and anomalous data\n",
        "anomaly_indices_train = (train_dataset.targets == anomaly_label).nonzero().flatten()\n",
        "anomaly_indices_test = (test_dataset.targets == anomaly_label).nonzero().flatten()\n",
        "normal_indices_train = (train_dataset.targets != anomaly_label).nonzero().flatten()\n",
        "normal_indices_test = (test_dataset.targets != anomaly_label).nonzero().flatten()\n",
        "\n",
        "# use a SubsetRandomSampler to sample only images from the normal/anomaly dataset, respectively\n",
        "anomaly_sampler_train = SubsetRandomSampler(anomaly_indices_train)\n",
        "anomaly_sampler_test = SubsetRandomSampler(anomaly_indices_test)\n",
        "normal_sampler_train = SubsetRandomSampler(normal_indices_train)\n",
        "normal_sampler_test = SubsetRandomSampler(normal_indices_test)\n",
        "\n",
        "# setup DataLoaders\n",
        "anomaly_loader_train = DataLoader(dataset=train_dataset, batch_size=batch_size, sampler=anomaly_sampler_train, **kwargs)\n",
        "anomaly_loader_test = DataLoader(dataset=test_dataset, batch_size=batch_size, sampler=anomaly_sampler_test, **kwargs)\n",
        "normal_loader_train = DataLoader(dataset=train_dataset, batch_size=batch_size, sampler=normal_sampler_train, **kwargs)\n",
        "normal_loader_test = DataLoader(dataset=test_dataset, batch_size=batch_size, sampler=normal_sampler_test, **kwargs)"
      ],
      "execution_count": null,
      "outputs": []
    },
    {
      "cell_type": "markdown",
      "metadata": {
        "id": "6C4ymtS3BWVf"
      },
      "source": [
        "Let's quickly plot some images of normal and anomalous images, from both the train and test sets, to check if the split is done correctly."
      ]
    },
    {
      "cell_type": "code",
      "metadata": {
        "colab": {
          "base_uri": "https://localhost:8080/",
          "height": 449
        },
        "id": "BvlNnVedh7iM",
        "outputId": "df83bec3-7e4e-4bf2-97d3-dc88c9522663"
      },
      "source": [
        "def show_images(x, ncols=10):\n",
        "    \"\"\" plots first ncols images in a batch \"\"\"\n",
        "    x = x.view(batch_size, 28, 28)\n",
        "\n",
        "    fig, ax = plt.subplots(1, ncols, figsize=(20, 2))\n",
        "    for idx in range(ncols):\n",
        "        ax[idx].imshow(x[idx].cpu().numpy(), cmap=\"Greys\")\n",
        "        ax[idx].axis('off')\n",
        "    plt.show()\n",
        "\n",
        "for loader in [anomaly_loader_train, anomaly_loader_test, normal_loader_train, normal_loader_test]:\n",
        "    for (x, y) in loader:\n",
        "        show_images(x)\n",
        "        break"
      ],
      "execution_count": null,
      "outputs": [
        {
          "output_type": "display_data",
          "data": {
            "image/png": "[encoded data removed]",
            "text/plain": [
              "<Figure size 1440x144 with 10 Axes>"
            ]
          },
          "metadata": {
            "tags": [],
            "needs_background": "light"
          }
        },
        {
          "output_type": "display_data",
          "data": {
            "image/png": "[encoded data removed]",
            "text/plain": [
              "<Figure size 1440x144 with 10 Axes>"
            ]
          },
          "metadata": {
            "tags": [],
            "needs_background": "light"
          }
        },
        {
          "output_type": "display_data",
          "data": {
            "image/png": "[encoded data removed]",
            "text/plain": [
              "<Figure size 1440x144 with 10 Axes>"
            ]
          },
          "metadata": {
            "tags": [],
            "needs_background": "light"
          }
        },
        {
          "output_type": "display_data",
          "data": {
            "image/png": "[encoded data removed]",
            "text/plain": [
              "<Figure size 1440x144 with 10 Axes>"
            ]
          },
          "metadata": {
            "tags": [],
            "needs_background": "light"
          }
        }
      ]
    },
    {
      "cell_type": "markdown",
      "metadata": {
        "id": "CzT-TfcIBuQi"
      },
      "source": [
        "# Implement and train VAE\n",
        "\n",
        "## *Practical assignment:*\n",
        "*Design, implement, and train a VAE **on the normal training data only**. Some hints and ideas:*\n",
        "* *You can stick to a fully connected architecture as in Tutorial 5.1, or try a convolutional architecture since we're dealing with images here.*\n",
        "* *Make sure you only train the VAE on normal data. The idea is that the VAE learns to represent (and perform density estimation for) normal data only. Anomalous data can then (hopefully) be detected since the model hasn't been trained for it, and thus will not be able to represent it as well and will result in higher loss values (i.e. lower likelihood estimations).*\n",
        "* *In Tutorial 5.1 we used a 2-dimensional latent space, mainly since it allows for easy inspection of the latent space. But a higher dimension may work better to learn a good model. If the latent dimension is too high on the other hand, your model may become too flexible, which could actually hurt your anomaly detection performance later on. A balance is needed: ideally your VAE should be flexible enough to represent the normal data well, but not so flexible that it's good at representing anomalous data as well.*\n"
      ]
    },
    {
      "cell_type": "code",
      "metadata": {
        "id": "xi6dZG5-H1Wr"
      },
      "source": [
        "### INSERT CODE HERE ###"
      ],
      "execution_count": null,
      "outputs": []
    },
    {
      "cell_type": "code",
      "metadata": {
        "id": "RJE9hDDct0WU"
      },
      "source": [
        "class Encoder(nn.Module):\n",
        "    def __init__(self, input_dim, hidden_dim, latent_dim):\n",
        "        super(Encoder, self).__init__()\n",
        "        self.fc_input = nn.Linear(input_dim, hidden_dim)\n",
        "        self.fc_hidden = nn.Linear(hidden_dim, hidden_dim)\n",
        "        self.fc_mu = nn.Linear(hidden_dim, latent_dim)\n",
        "        self.fc_sigma = nn.Linear (hidden_dim, latent_dim)\n",
        "        \n",
        "    def forward(self, x):\n",
        "        h = torch.relu(self.fc_input(x))\n",
        "        h = torch.relu(self.fc_hidden(h))\n",
        "        mu = self.fc_mu(h)\n",
        "        log_sigma = self.fc_sigma(h)\n",
        "        z = self.reparameterization(mu, log_sigma)\n",
        "\n",
        "        return z, mu, log_sigma\n",
        "    \n",
        "    def reparameterization(self, mu, log_sigma):\n",
        "        sigma = torch.exp(log_sigma)\n",
        "        epsilon = torch.rand_like(sigma).to(DEVICE)\n",
        "        z = mu + sigma * epsilon\n",
        "        \n",
        "        return z\n",
        "\n",
        "class Decoder(nn.Module):\n",
        "    def __init__(self, latent_dim, hidden_dim, output_dim):\n",
        "        super(Decoder, self).__init__()\n",
        "        self.fc_hidden1 = nn.Linear(latent_dim, hidden_dim)\n",
        "        self.fc_hidden2 = nn.Linear(hidden_dim, hidden_dim)\n",
        "        self.fc_output = nn.Linear(hidden_dim, output_dim)\n",
        "        \n",
        "    def forward(self, x):\n",
        "        h = torch.relu(self.fc_hidden1(x))\n",
        "        h = torch.relu(self.fc_hidden2(h))\n",
        "        x_reconstr = torch.sigmoid(self.fc_output(h))\n",
        "        return x_reconstr\n",
        "\n",
        "class VAE(nn.Module):\n",
        "    def __init__(self, encoder, decoder):\n",
        "        super(VAE, self).__init__()\n",
        "        self.encoder = encoder\n",
        "        self.decoder = decoder\n",
        "                \n",
        "    def forward(self, x):\n",
        "        z, mu, log_sigma = self.encoder(x)\n",
        "        x_reconstr = self.decoder(z)\n",
        "        \n",
        "        return x_reconstr, mu, log_sigma\n",
        "\n",
        "\n",
        "x_dim  = 784\n",
        "hidden_dim = 500\n",
        "latent_dim = 10\n",
        "\n",
        "cuda = True  # NOTE: if running in Google Colab, make sure to go to \"Edit > Notebook settings\" and set \"Hardware accelerator\" to \"GPU\"\n",
        "DEVICE = torch.device(\"cuda\" if cuda else \"cpu\")\n",
        "\n",
        "encoder = Encoder(input_dim=x_dim, hidden_dim=hidden_dim, latent_dim=latent_dim)\n",
        "decoder = Decoder(latent_dim=latent_dim, hidden_dim=hidden_dim, output_dim=x_dim)\n",
        "\n",
        "vae = VAE(encoder=encoder, decoder=decoder).to(DEVICE)\n",
        "\n",
        "\n",
        "lr = 1e-3\n",
        "\n",
        "def loss_function(x, x_reconstr, mu, log_sigma):\n",
        "    reconstr_loss = nn.functional.mse_loss(x_reconstr, x, reduction='sum')\n",
        "    kl_loss = 0.5 * torch.sum(mu.pow(2) + (2*log_sigma).exp() - 2*log_sigma - 1)\n",
        "    total_loss = reconstr_loss + kl_loss\n",
        "    return total_loss, reconstr_loss, kl_loss\n",
        "\n",
        "optimizer = Adam(vae.parameters(), lr=lr)"
      ],
      "execution_count": null,
      "outputs": []
    },
    {
      "cell_type": "code",
      "metadata": {
        "colab": {
          "base_uri": "https://localhost:8080/"
        },
        "id": "WICZJ-blxxr4",
        "outputId": "6c74abad-597d-410c-b13c-7030436fc413"
      },
      "source": [
        "epochs = 50\n",
        "\n",
        "print(\"Start training VAE...\")\n",
        "vae.train()\n",
        "\n",
        "for epoch in range(epochs):\n",
        "    overall_loss = 0\n",
        "    overall_reconstr_loss = 0\n",
        "    overall_kl_loss = 0\n",
        "    for batch_idx, (x, _) in enumerate(normal_loader_train):\n",
        "        x = x.view(batch_size, x_dim)\n",
        "        x = x.to(DEVICE)\n",
        "\n",
        "        optimizer.zero_grad()\n",
        "\n",
        "        x_reconstr, mu, log_sigma = vae(x)\n",
        "        loss, reconstr_loss, kl_loss = loss_function(x, x_reconstr, mu, log_sigma)\n",
        "        \n",
        "        overall_loss += loss.item()\n",
        "        overall_reconstr_loss += reconstr_loss.item()\n",
        "        overall_kl_loss += kl_loss.item()\n",
        "        \n",
        "        loss.backward()\n",
        "        optimizer.step()\n",
        "        \n",
        "    n_datapoints = batch_idx * batch_size\n",
        "    print(\"\\tEpoch\", epoch + 1, \"\\tAverage Loss: \", overall_loss / n_datapoints, \"\\tReconstruction Loss:\", overall_reconstr_loss / n_datapoints, \"\\tKL Loss:\", overall_kl_loss / n_datapoints)\n",
        "    \n",
        "print(\"Training complete!\")"
      ],
      "execution_count": null,
      "outputs": [
        {
          "output_type": "stream",
          "text": [
            "Start training VAE...\n",
            "\tEpoch 1 \tAverage Loss:  30.468461062514493 \tReconstruction Loss: 28.016629493727535 \tKL Loss: 2.4518316165060634\n",
            "\tEpoch 2 \tAverage Loss:  20.88664502315486 \tReconstruction Loss: 17.98857294369275 \tKL Loss: 2.8980720825761503\n",
            "\tEpoch 3 \tAverage Loss:  19.35277726720127 \tReconstruction Loss: 16.306493130544123 \tKL Loss: 3.0462841508118697\n",
            "\tEpoch 4 \tAverage Loss:  18.561675665294526 \tReconstruction Loss: 15.42284335955618 \tKL Loss: 3.1388323204592563\n",
            "\tEpoch 5 \tAverage Loss:  18.05573554723736 \tReconstruction Loss: 14.879964189688659 \tKL Loss: 3.1757713598134565\n",
            "\tEpoch 6 \tAverage Loss:  17.699316802582185 \tReconstruction Loss: 14.47188324144466 \tKL Loss: 3.2274335600051454\n",
            "\tEpoch 7 \tAverage Loss:  17.38232371823907 \tReconstruction Loss: 14.121655019784903 \tKL Loss: 3.26066868316707\n",
            "\tEpoch 8 \tAverage Loss:  17.194803084053223 \tReconstruction Loss: 13.91404788100432 \tKL Loss: 3.280755186629428\n",
            "\tEpoch 9 \tAverage Loss:  17.03428847955198 \tReconstruction Loss: 13.736605713796527 \tKL Loss: 3.297682783307304\n",
            "\tEpoch 10 \tAverage Loss:  16.885883290816327 \tReconstruction Loss: 13.586135634385146 \tKL Loss: 3.299747660394502\n",
            "\tEpoch 11 \tAverage Loss:  16.776398622304036 \tReconstruction Loss: 13.470453016744695 \tKL Loss: 3.3059456078240954\n",
            "\tEpoch 12 \tAverage Loss:  16.698854676991534 \tReconstruction Loss: 13.382604443721736 \tKL Loss: 3.316250201563225\n",
            "\tEpoch 13 \tAverage Loss:  16.612343872296787 \tReconstruction Loss: 13.29255784185123 \tKL Loss: 3.3197860157246493\n",
            "\tEpoch 14 \tAverage Loss:  16.53439921929354 \tReconstruction Loss: 13.21093204873391 \tKL Loss: 3.323467174522952\n",
            "\tEpoch 15 \tAverage Loss:  16.46695168914512 \tReconstruction Loss: 13.134552457168947 \tKL Loss: 3.332399255756102\n",
            "\tEpoch 16 \tAverage Loss:  16.432885053701877 \tReconstruction Loss: 13.101939101634972 \tKL Loss: 3.3309459079041774\n",
            "\tEpoch 17 \tAverage Loss:  16.338561936981822 \tReconstruction Loss: 13.005475383468372 \tKL Loss: 3.3330865625724724\n",
            "\tEpoch 18 \tAverage Loss:  16.324047575262348 \tReconstruction Loss: 12.983877557814674 \tKL Loss: 3.3401700089548427\n",
            "\tEpoch 19 \tAverage Loss:  16.259039014487186 \tReconstruction Loss: 12.920290436753536 \tKL Loss: 3.3387485879250494\n",
            "\tEpoch 20 \tAverage Loss:  16.223583196240146 \tReconstruction Loss: 12.878065450523248 \tKL Loss: 3.345517768364448\n",
            "\tEpoch 21 \tAverage Loss:  16.20048167495869 \tReconstruction Loss: 12.855263957234172 \tKL Loss: 3.3452177126288194\n",
            "\tEpoch 22 \tAverage Loss:  16.126443403311253 \tReconstruction Loss: 12.783987586423063 \tKL Loss: 3.3424558106601125\n",
            "\tEpoch 23 \tAverage Loss:  16.110805802212575 \tReconstruction Loss: 12.763362341829488 \tKL Loss: 3.3474434790673193\n",
            "\tEpoch 24 \tAverage Loss:  16.069979141603373 \tReconstruction Loss: 12.719687001753826 \tKL Loss: 3.350292155702835\n",
            "\tEpoch 25 \tAverage Loss:  16.059882542994114 \tReconstruction Loss: 12.711728511095489 \tKL Loss: 3.3481540517152353\n",
            "\tEpoch 26 \tAverage Loss:  16.00786023651293 \tReconstruction Loss: 12.65305135468605 \tKL Loss: 3.3548089050406205\n",
            "\tEpoch 27 \tAverage Loss:  15.998684883754638 \tReconstruction Loss: 12.64528980941631 \tKL Loss: 3.3533950494260205\n",
            "\tEpoch 28 \tAverage Loss:  15.968677111114332 \tReconstruction Loss: 12.608919614321225 \tKL Loss: 3.3597574933959735\n",
            "\tEpoch 29 \tAverage Loss:  15.930195303440978 \tReconstruction Loss: 12.56132652834749 \tKL Loss: 3.3688687388574037\n",
            "\tEpoch 30 \tAverage Loss:  15.907201339919846 \tReconstruction Loss: 12.54332804437471 \tKL Loss: 3.3638733159279335\n",
            "\tEpoch 31 \tAverage Loss:  15.913245636722374 \tReconstruction Loss: 12.549623409688804 \tKL Loss: 3.363622234960213\n",
            "\tEpoch 32 \tAverage Loss:  15.881669120151612 \tReconstruction Loss: 12.516299593612302 \tKL Loss: 3.3653695152155323\n",
            "\tEpoch 33 \tAverage Loss:  15.862462774216576 \tReconstruction Loss: 12.496137056651495 \tKL Loss: 3.3663257492716547\n",
            "\tEpoch 34 \tAverage Loss:  15.835501573099055 \tReconstruction Loss: 12.459543434383697 \tKL Loss: 3.37595814267868\n",
            "\tEpoch 35 \tAverage Loss:  15.829834937836996 \tReconstruction Loss: 12.453974806408715 \tKL Loss: 3.3758601280311487\n",
            "\tEpoch 36 \tAverage Loss:  15.805519469195703 \tReconstruction Loss: 12.432730620035656 \tKL Loss: 3.3727888485938586\n",
            "\tEpoch 37 \tAverage Loss:  15.797506850884885 \tReconstruction Loss: 12.41896287794237 \tKL Loss: 3.3785439995533904\n",
            "\tEpoch 38 \tAverage Loss:  15.78680284036555 \tReconstruction Loss: 12.408849728501131 \tKL Loss: 3.377953101106831\n",
            "\tEpoch 39 \tAverage Loss:  15.75963174625319 \tReconstruction Loss: 12.376478187688427 \tKL Loss: 3.383153565925216\n",
            "\tEpoch 40 \tAverage Loss:  15.74579827190109 \tReconstruction Loss: 12.367626887447095 \tKL Loss: 3.378171414462003\n",
            "\tEpoch 41 \tAverage Loss:  15.737644919429064 \tReconstruction Loss: 12.355981642346213 \tKL Loss: 3.3816632663252624\n",
            "\tEpoch 42 \tAverage Loss:  15.717292595971273 \tReconstruction Loss: 12.334963032398685 \tKL Loss: 3.382329550550245\n",
            "\tEpoch 43 \tAverage Loss:  15.6919168005892 \tReconstruction Loss: 12.311475723634624 \tKL Loss: 3.3804410599689096\n",
            "\tEpoch 44 \tAverage Loss:  15.683277816630914 \tReconstruction Loss: 12.303708403238781 \tKL Loss: 3.379569412259755\n",
            "\tEpoch 45 \tAverage Loss:  15.674897730443385 \tReconstruction Loss: 12.282657402760465 \tKL Loss: 3.3922403118296325\n",
            "\tEpoch 46 \tAverage Loss:  15.663761452867723 \tReconstruction Loss: 12.27843166599026 \tKL Loss: 3.3853297653622882\n",
            "\tEpoch 47 \tAverage Loss:  15.666578586557137 \tReconstruction Loss: 12.267514646172744 \tKL Loss: 3.3990639420829587\n",
            "\tEpoch 48 \tAverage Loss:  15.660409764447326 \tReconstruction Loss: 12.257563662272437 \tKL Loss: 3.4028461134986667\n",
            "\tEpoch 49 \tAverage Loss:  15.633929887251421 \tReconstruction Loss: 12.244038126703096 \tKL Loss: 3.3898917362022045\n",
            "\tEpoch 50 \tAverage Loss:  15.627715724739826 \tReconstruction Loss: 12.234206418407206 \tKL Loss: 3.393509316524017\n",
            "Training complete!\n"
          ],
          "name": "stdout"
        }
      ]
    },
    {
      "cell_type": "markdown",
      "metadata": {
        "id": "zXf_BEWqGLjg"
      },
      "source": [
        "# Evaluation: reconstructions, generate data, ELBO values.\n",
        "\n",
        "Now let's evaluate the VAE. First, we will qualitatively inspect the VAE itself, by plotting some reconstructions and generating some data (note that we can no longer plot make the 2-dimensional latent space plots from Tutorial 5.1, if we've chosen a latent dimension higher than 2).\n",
        "\n",
        "Then, we will obtain ELBO values for all data points in both test sets (normal and anomalous), which we can then use to evaluate anomaly detection. Remember that the VAE loss function is in fact based on the **negative** ELBO, and we left out a constant term in the reconstruction loss as well. In Tutorial 5.1 we derived the reconstruction term\n",
        "\\begin{align}\n",
        "- \\log p(\\textbf{x}|\\textbf{z}) = \\sum_{d=1}^D \\left( \\frac{(x_d-\\mu_d)^2}{2\\sigma^2} + \\frac{1}{2} \\log 2\\pi\\sigma^2 \\right).\n",
        "\\end{align}\n",
        "\n",
        "If we again set $\\sigma = \\frac{1}{\\sqrt{2}}$, we see that the full term should be\n",
        "\\begin{align}\n",
        "\\sum_{d=1}^D \\left( (x_d-\\mu_d)^2 + \\frac{1}{2} \\log \\pi \\right) = \\left(\\sum_{d=1}^D  (x_d-\\mu_d)^2 \\right) + \\frac{D}{2} \\log \\pi,\n",
        "\\end{align}\n",
        "but for our loss function we left out the constant term $\\frac{D}{2} \\log \\pi$. Let's add it back in now to compute correct ELBO values, making sure that we also take the negative values of all the loss terms, since the loss function represents the **negative** ELBO.\n",
        "\n",
        "Furthermore, we want to obtain ELBO values for each data point individually, whereas the loss function as implemented in Tutorial 5.1 sums up the loss values for a full batch, yielding a single value per batch. We can achieve this by summing only over dim=1 (skipping dim=0, which is the batch dimension).\n",
        "\n",
        "We can put all this together in the following function:"
      ]
    },
    {
      "cell_type": "code",
      "metadata": {
        "id": "aTE8wfW_I5Wg"
      },
      "source": [
        "def elbo_elementwise(x, x_reconstr, mu, log_sigma):\n",
        "    reconstr_loss = torch.sum(nn.functional.mse_loss(x_reconstr, x, reduction='none'), dim=1)\n",
        "    constant_term = x_dim * 0.5 * np.log(np.pi)  # assuming sigma=1/sqrt(2)\n",
        "    kl_loss = 0.5 * torch.sum(mu.pow(2) + (2*log_sigma).exp() - 2*log_sigma - 1, dim=1)\n",
        "    elbo = - reconstr_loss - constant_term - kl_loss\n",
        "    return elbo, reconstr_loss, kl_loss"
      ],
      "execution_count": null,
      "outputs": []
    },
    {
      "cell_type": "markdown",
      "metadata": {
        "id": "mfuWeIICGdSM"
      },
      "source": [
        "## *Practical assignment:*\n",
        "\n",
        "* *Loop through both test sets (normal and anomalous) and use the VAE to obtain reconstructions as well as individual ELBO values for anomaly detection.*\n",
        "* *Save the ELBO scores to numpy arrays, one for normal test data, one for anomalous test data.*\n",
        "* *Plot some images and their reconstructions, for both the normal and anomalous test set.*\n",
        "* *Generate some data by sampling latent variables from the prior, and decoding them into images.*\n",
        "\n",
        "*Compare the reconstructions for normal data with those for anomalous data. What do you notice? Is this what you'd expect and want?*\n",
        "\n",
        "*Also inspect the generated images. Do you recognise any trousers? Should you?*"
      ]
    },
    {
      "cell_type": "code",
      "metadata": {
        "colab": {
          "base_uri": "https://localhost:8080/"
        },
        "id": "YiERS17yyMPH",
        "outputId": "206b3153-636a-41bc-8e2c-fd417e10523a"
      },
      "source": [
        "vae.eval()\n",
        "\n",
        "x_original_list_normal = []\n",
        "x_reconstr_list_normal = []\n",
        "elbos_normal = []\n",
        "x_original_list_anomaly = []\n",
        "x_reconstr_list_anomaly = []\n",
        "elbos_anomaly = []\n",
        "with torch.no_grad():\n",
        "    for batch_idx, (x, y) in enumerate(tqdm(normal_loader_test)):\n",
        "        x = x.view(batch_size, x_dim)\n",
        "        x = x.to(DEVICE)\n",
        "        \n",
        "        x_reconstr, mu, log_sigma = vae(x)\n",
        "        elbo, reconstr_loss, kl_loss = elbo_elementwise(x, x_reconstr, mu, log_sigma)\n",
        "\n",
        "        x_original_list_normal.append(x)\n",
        "        x_reconstr_list_normal.append(x_reconstr)\n",
        "        elbos_normal.append(elbo.cpu().numpy())\n",
        "    \n",
        "    for batch_idx, (x, y) in enumerate(tqdm(anomaly_loader_test)):\n",
        "        x = x.view(batch_size, x_dim)\n",
        "        x = x.to(DEVICE)\n",
        "        \n",
        "        x_reconstr, mu, log_sigma = vae(x)\n",
        "        elbo, reconstr_loss, kl_loss = elbo_elementwise(x, x_reconstr, mu, log_sigma)\n",
        "\n",
        "        x_original_list_anomaly.append(x)\n",
        "        x_reconstr_list_anomaly.append(x_reconstr)\n",
        "        elbos_anomaly.append(elbo.cpu().numpy())\n",
        "\n",
        "elbos_normal = np.concatenate(elbos_normal)  # loss values represent *negative* ELBO values\n",
        "elbos_anomaly = np.concatenate(elbos_anomaly)"
      ],
      "execution_count": null,
      "outputs": [
        {
          "output_type": "stream",
          "text": [
            "100%|██████████| 90/90 [00:04<00:00, 18.17it/s]\n",
            "100%|██████████| 10/10 [00:00<00:00, 17.00it/s]\n"
          ],
          "name": "stderr"
        }
      ]
    },
    {
      "cell_type": "code",
      "metadata": {
        "colab": {
          "base_uri": "https://localhost:8080/",
          "height": 233
        },
        "id": "fbPEYHSS0Nv8",
        "outputId": "844c6424-952a-49a5-95f8-f56f02e3a85c"
      },
      "source": [
        "batch_idx = 0\n",
        "show_images(x_original_list_normal[batch_idx])\n",
        "show_images(x_reconstr_list_normal[batch_idx])"
      ],
      "execution_count": null,
      "outputs": [
        {
          "output_type": "display_data",
          "data": {
            "image/png": "[encoded data removed]",
            "text/plain": [
              "<Figure size 1440x144 with 10 Axes>"
            ]
          },
          "metadata": {
            "tags": [],
            "needs_background": "light"
          }
        },
        {
          "output_type": "display_data",
          "data": {
            "image/png": "[encoded data removed]",
            "text/plain": [
              "<Figure size 1440x144 with 10 Axes>"
            ]
          },
          "metadata": {
            "tags": [],
            "needs_background": "light"
          }
        }
      ]
    },
    {
      "cell_type": "code",
      "metadata": {
        "colab": {
          "base_uri": "https://localhost:8080/",
          "height": 233
        },
        "id": "lS0g08fs0bXu",
        "outputId": "aa47f845-ca17-44fc-e9ee-dae41b03bdd9"
      },
      "source": [
        "batch_idx = 0\n",
        "show_images(x_original_list_anomaly[batch_idx])\n",
        "show_images(x_reconstr_list_anomaly[batch_idx])"
      ],
      "execution_count": null,
      "outputs": [
        {
          "output_type": "display_data",
          "data": {
            "image/png": "[encoded data removed]",
            "text/plain": [
              "<Figure size 1440x144 with 10 Axes>"
            ]
          },
          "metadata": {
            "tags": [],
            "needs_background": "light"
          }
        },
        {
          "output_type": "display_data",
          "data": {
            "image/png": "[encoded data removed]",
            "text/plain": [
              "<Figure size 1440x144 with 10 Axes>"
            ]
          },
          "metadata": {
            "tags": [],
            "needs_background": "light"
          }
        }
      ]
    },
    {
      "cell_type": "code",
      "metadata": {
        "colab": {
          "base_uri": "https://localhost:8080/",
          "height": 125
        },
        "id": "zPc7uYgI0q3Z",
        "outputId": "61dfc7f2-a0ed-4532-cd2c-62b58f381e56"
      },
      "source": [
        "with torch.no_grad():\n",
        "    noise = torch.randn(batch_size, latent_dim).to(DEVICE)\n",
        "    generated_images = decoder(noise)\n",
        "\n",
        "show_images(generated_images)"
      ],
      "execution_count": null,
      "outputs": [
        {
          "output_type": "display_data",
          "data": {
            "image/png": "[encoded data removed]",
            "text/plain": [
              "<Figure size 1440x144 with 10 Axes>"
            ]
          },
          "metadata": {
            "tags": [],
            "needs_background": "light"
          }
        }
      ]
    },
    {
      "cell_type": "markdown",
      "metadata": {
        "id": "avwdVCAEG59J"
      },
      "source": [
        "# Anomaly Detection: density plots\n",
        "\n",
        "We now have two sets of ELBO (= approximate likelihood) scores, one for normal test data and one for anomalous test data. Ideally, we'd want all anomalous data points to have a lower likelihood than all normal data, but this is hard to achieve in practice. Let's first visually inspect how well we did.\n",
        "\n",
        "## *Practical assignment:*\n",
        "*Visualise the ELBO scores in a histogram (`plt.hist()`) as well as a density plot (`sns.kdplot` from the `seaborn` library). Use two different colours: **green** for normal data, **red** for anomalous data, and show both normal and anomalous scores in the same plot (use transparency to make the visualisation clearer), i.e. one figure with both histograms, and one figure with both density plots.*\n",
        "\n",
        "*Based on these plots, do you expect anomaly detection to work well?*"
      ]
    },
    {
      "cell_type": "code",
      "metadata": {
        "colab": {
          "base_uri": "https://localhost:8080/",
          "height": 541
        },
        "id": "J1xSqtWz0wsw",
        "outputId": "5dd3fb08-f914-45fd-f68c-1b2589e31f4b"
      },
      "source": [
        "def density_histogram(neg, pos, bins=30, alpha=0.4):\n",
        "    plt.figure()\n",
        "    plt.hist(neg, bins=bins, density=True, histtype=\"bar\", color=\"g\", alpha=alpha)\n",
        "    plt.hist(neg, bins=bins, density=True, histtype=\"step\", color=\"g\", alpha=1)\n",
        "    plt.hist(pos, bins=bins, density=True, histtype=\"bar\", color=\"r\", alpha=alpha)\n",
        "    plt.hist(pos, bins=bins, density=True, histtype=\"step\", color=\"r\", alpha=1)\n",
        "    plt.xlabel(\"ELBO value\")\n",
        "    plt.ylabel(\"Density\")\n",
        "    plt.show()\n",
        "\n",
        "\n",
        "def density_plot(neg, pos):\n",
        "    plt.figure()\n",
        "    sns.kdeplot(neg, shade=True, color=\"g\")\n",
        "    sns.kdeplot(pos, shade=True, color=\"r\")\n",
        "    plt.xlabel(\"ELBO value\")\n",
        "    plt.ylabel(\"Density\")\n",
        "\n",
        "density_histogram(elbos_normal, elbos_anomaly)\n",
        "density_plot(elbos_normal, elbos_anomaly)"
      ],
      "execution_count": null,
      "outputs": [
        {
          "output_type": "display_data",
          "data": {
            "image/png": "[encoded data removed]",
            "text/plain": [
              "<Figure size 432x288 with 1 Axes>"
            ]
          },
          "metadata": {
            "tags": [],
            "needs_background": "light"
          }
        },
        {
          "output_type": "display_data",
          "data": {
            "image/png": "[encoded data removed]",
            "text/plain": [
              "<Figure size 432x288 with 1 Axes>"
            ]
          },
          "metadata": {
            "tags": [],
            "needs_background": "light"
          }
        }
      ]
    },
    {
      "cell_type": "markdown",
      "metadata": {
        "id": "xXzH_3QJhQ6A"
      },
      "source": [
        "# Anomaly Detection: ROC/PR curves\n",
        "\n",
        "Given the ELBO (= approximate likelihood) scores, we can choose a threshold and classify all instances with a likelihood below the threshold as anomalies, and all instances with a likelihood above the threshold as \"normal\". Different thresholds will give different True/False Positive/Negative scores. We can summarise the performance of all possible thresholds in an ROC curve, or a Precision-Recall curve (the latter has been shown to be more suitable for imbalanced datasets, see https://www.ncbi.nlm.nih.gov/pmc/articles/PMC4349800/). In particular, the area under a ROC or Precision-Recall curve can be used as a quantitative measure to evaluate anomaly detection.\n",
        "\n",
        "## *Practical assignment:*\n",
        "* *Plot an ROC curve for your results, compute and show the Area Under Curve (AUC) score for quantitative evaluation.*\n",
        "* *Plot a Precision-Recall curve for your results, compute and show the Area Under Curve (AUC) score for quantitative evaluation.*\n",
        "\n",
        "*Implementation hints:*\n",
        "* *See https://machinelearningmastery.com/roc-curves-and-precision-recall-curves-for-classification-in-python/ for more information about ROC and PR curves and their implementation with `sklearn`.*\n",
        "* *ROC/PR curves are typically used for binary classification. You can define normal as label 0 and anomaly as 1, and rescale the ELBO scores from part (a) to be between 0 and 1 (by using the minimum and maximum values in your ELBO results) to express them as binary classification probabilities.*\n",
        "    * *Don't forget to \"flip\" the scores, low (anomalous) ELBO scores should be close to 1, whereas high (normal) ELBO scores should be close to 0.*"
      ]
    },
    {
      "cell_type": "code",
      "metadata": {
        "colab": {
          "base_uri": "https://localhost:8080/",
          "height": 683
        },
        "id": "yentrtcd7mbx",
        "outputId": "cdb6af04-3d27-46f8-aefd-6e87e253cf12"
      },
      "source": [
        "def roc_pr_curves(neg, pos):\n",
        "    # translate to scores from 0 to 1, where 1 means anomaly (low ELBO) and 0 means normal (high ELBO)\n",
        "    min_val = min(np.min(neg), np.min(pos))\n",
        "    max_val = max(np.max(neg), np.max(pos))\n",
        "    y_true_neg = np.zeros(neg.shape)\n",
        "    y_true_pos = np.ones(pos.shape)\n",
        "    y_true = np.concatenate((y_true_neg, y_true_pos))\n",
        "    y_score = (max_val - np.concatenate((neg, pos))) / (max_val - min_val)\n",
        "\n",
        "    # get ROC curve values\n",
        "    fpr, tpr, _ = roc_curve(y_true, y_score, drop_intermediate=True)\n",
        "    auroc = auc(fpr, tpr)\n",
        "\n",
        "    # plot ROC curve\n",
        "    lw = 2\n",
        "    plt.figure(figsize=(5, 5))\n",
        "    plt.plot(fpr, tpr, color='darkorange',\n",
        "             lw=lw, label='ROC curve (AUC = %0.2f)' % auroc)\n",
        "    plt.plot([0, 1], [0, 1], color='navy', lw=lw, linestyle='--')\n",
        "    plt.xlim([0.0, 1.0])\n",
        "    plt.ylim([0.0, 1.0])\n",
        "    plt.xlabel('False Positive Rate')\n",
        "    plt.ylabel('True Positive Rate')\n",
        "    plt.title('Receiver Operating Characteristic')\n",
        "    plt.legend(loc=\"lower right\")\n",
        "    plt.show()\n",
        "    \n",
        "    # get Precision-Recall values\n",
        "    precision, recall, _ = precision_recall_curve(y_true, y_score)\n",
        "    auprc = auc(recall, precision)\n",
        "\n",
        "    # plot Precision-Recall curve\n",
        "    no_skill = len(y_true[y_true==1]) / len(y_true)\n",
        "    plt.figure(figsize=(5, 5))\n",
        "    plt.plot([0, 1], [no_skill, no_skill], color=\"navy\", lw=lw, linestyle='--')\n",
        "    plt.plot(recall, precision, color='darkorange',\n",
        "             lw=lw, label=\"PR curve (AUC= %0.2f)\" % auprc)\n",
        "    plt.xlabel('Recall')\n",
        "    plt.ylabel('Precision')\n",
        "    plt.title(\"Precision-Recall Curve\")\n",
        "    plt.legend(loc=\"upper right\")\n",
        "    plt.show()\n",
        "\n",
        "roc_pr_curves(elbos_normal, elbos_anomaly)"
      ],
      "execution_count": null,
      "outputs": [
        {
          "output_type": "display_data",
          "data": {
            "image/png": "[encoded data removed]",
            "text/plain": [
              "<Figure size 360x360 with 1 Axes>"
            ]
          },
          "metadata": {
            "tags": [],
            "needs_background": "light"
          }
        },
        {
          "output_type": "display_data",
          "data": {
            "image/png": "[encoded data removed]",
            "text/plain": [
              "<Figure size 360x360 with 1 Axes>"
            ]
          },
          "metadata": {
            "tags": [],
            "needs_background": "light"
          }
        }
      ]
    }
  ]
}
